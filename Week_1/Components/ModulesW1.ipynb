{
  "nbformat": 4,
  "nbformat_minor": 0,
  "metadata": {
    "colab": {
      "name": "ModulesW1.ipynb",
      "provenance": [],
      "authorship_tag": "ABX9TyNgSXY3yyPwZ7B1HO2p2bUp",
      "include_colab_link": true
    },
    "kernelspec": {
      "name": "python3",
      "display_name": "Python 3"
    }
  },
  "cells": [
    {
      "cell_type": "markdown",
      "metadata": {
        "id": "view-in-github",
        "colab_type": "text"
      },
      "source": [
        "<a href=\"https://colab.research.google.com/github/bitprj/BitU-3WBootCamp/blob/Linh/ModulesW1.ipynb\" target=\"_parent\"><img src=\"https://colab.research.google.com/assets/colab-badge.svg\" alt=\"Open In Colab\"/></a>"
      ]
    },
    {
      "cell_type": "markdown",
      "metadata": {
        "id": "IUBg9zS8GT96"
      },
      "source": [
        "## Modules and Packages"
      ]
    },
    {
      "cell_type": "markdown",
      "metadata": {
        "id": "EZGgT39kGT-Y"
      },
      "source": [
        "### Understanding modules\n",
        "A module is just another word for a full Python program. Every time someone writes a program to do some task, they essentially create a module.\n",
        "\n",
        "Modules take it one step further with code reusability. While functions allow you to reuse enture sections of code, modules allows you to reuse entire functions that were written somewhere else.\n",
        "\n",
        "An example of this would be the `math` module. While Python has a lot of built-in features to do math, some of the more advanced, or sophisticated math operations aren't immediately doable. The `math` module has a list of prewritten functions that let you do these more advanced tasks whenever you need to.\n",
        "\n",
        "In order to use any code within a module, you need to first `import` it. You can think of importing as going to that file, copying all of the code, and then pasting it right into your program - without actually having to do all of that.\n"
      ]
    },
    {
      "cell_type": "code",
      "metadata": {
        "id": "pINzCtawGT-Z",
        "outputId": "9f192674-6deb-4732-ed5a-e41dbacc2dae",
        "colab": {
          "base_uri": "https://localhost:8080/"
        }
      },
      "source": [
        "# import the library - Notice you don't see any code from the math module\n",
        "import math\n",
        "\n",
        "# ceil() take a number and rounds it up to the nearest integer\n",
        "math.ceil(3.2)"
      ],
      "execution_count": null,
      "outputs": [
        {
          "output_type": "execute_result",
          "data": {
            "text/plain": [
              "4"
            ]
          },
          "metadata": {
            "tags": []
          },
          "execution_count": 45
        }
      ]
    },
    {
      "cell_type": "markdown",
      "metadata": {
        "id": "KWdrfQP2GT-g"
      },
      "source": [
        "### Exploring built-in modules\n"
      ]
    },
    {
      "cell_type": "markdown",
      "metadata": {
        "id": "LVZNUEvW0Ulp"
      },
      "source": [
        "`dir()` is a function that tells you all of the functions available within a certain package. For example, you can see how many functions are within the `math` module below. Ignore the elements with underscores around them."
      ]
    },
    {
      "cell_type": "code",
      "metadata": {
        "id": "Frdlk-C3GT-g"
      },
      "source": [
        "print(dir(math))"
      ],
      "execution_count": null,
      "outputs": []
    },
    {
      "cell_type": "markdown",
      "metadata": {
        "id": "kV9kfcvBGT-j"
      },
      "source": [
        "While `dir()` lets you know that a certain function exists in a module, it doesn't tell you anything about what it does. For that, you can use the `help()` function. Providing `help()`with a certain function name gives you a brief description about what the function can be used for, as well as what parameters it expects.\n",
        "\n"
      ]
    },
    {
      "cell_type": "code",
      "metadata": {
        "id": "nQfohp4BGT-l"
      },
      "source": [
        "help(math.ceil)"
      ],
      "execution_count": null,
      "outputs": []
    },
    {
      "cell_type": "markdown",
      "metadata": {
        "id": "cJiazN8PJ6Wz"
      },
      "source": [
        "### Understanding packages\n",
        "If modules can be thought of like files, packages are folders. They can house multiple modules, or even other packages. This is one step higher in the hierarchy of code reusability. When you have multiple modules that share a common theme, you can store them in a package for easier use.\n",
        "\n",
        "To give a concrete example of the hierarchy from packages to functions, look at the following statement:\n",
        "\n",
        "\n",
        "\n",
        "```\n",
        "pandas.testing.assert_frame_equal()\n",
        "```\n",
        "\n",
        "Here, `pandas` is the package. It has multiple modules available, but we specifically want the `testing` module. Then, we want to use the `assert_frame_equal()` function that's available within that module. Don't worry about what this function does yet! You'll be introduced to the Pandas library in the coming weeks.\n",
        "\n",
        "\n",
        "\n"
      ]
    },
    {
      "cell_type": "markdown",
      "metadata": {
        "id": "k1McGgZRNNSL"
      },
      "source": [
        "### Takeaways\n",
        "Yay! By this point, you have now learned the basics of Python. You now have a solid foundation not only for general programming using Python, but for using the data science tools and libraries available with Python. In the next week, we'll learn how to use pandas, a data library using Python used to organize and manipulate data. \n"
      ]
    }
  ]
}
