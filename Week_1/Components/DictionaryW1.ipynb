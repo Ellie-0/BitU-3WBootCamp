{
  "nbformat": 4,
  "nbformat_minor": 0,
  "metadata": {
    "colab": {
      "name": "DictionaryW1.ipynb",
      "provenance": [],
      "authorship_tag": "ABX9TyP7FdIOhMWQUpvBRo7RJ4Cj",
      "include_colab_link": true
    },
    "kernelspec": {
      "name": "python3",
      "display_name": "Python 3"
    }
  },
  "cells": [
    {
      "cell_type": "markdown",
      "metadata": {
        "id": "view-in-github",
        "colab_type": "text"
      },
      "source": [
        "<a href=\"https://colab.research.google.com/github/bitprj/BitU-3WBootCamp/blob/Linh/DictionaryW1.ipynb\" target=\"_parent\"><img src=\"https://colab.research.google.com/assets/colab-badge.svg\" alt=\"Open In Colab\"/></a>"
      ]
    },
    {
      "cell_type": "markdown",
      "metadata": {
        "id": "Gml2Q3rPOzP6"
      },
      "source": [
        "## Dictionaries\n",
        "\n",
        "So far, we've only talked about sequences. To switch gears, dictionaries are an example of a **mapping**. Unlike sequences, which store data based on order, dictionaries store data in the form of **key-value pairs**. This method is when you assign a unique ID to a data value, and make it so that you can only access that data by using its ID. \n",
        "\n",
        "You can think of a Python dictionary to be like an actual dictionary. The words are the keys, and their definitions are the values."
      ]
    },
    {
      "cell_type": "markdown",
      "metadata": {
        "id": "j5v_alrd8KaO"
      },
      "source": [
        "### Constructing a Dictionary\n",
        "Dictionaries are built a little differently than tuples or lists. They generally look like this:\n",
        "\n",
        "`{key1:value1,key2:value2,...}`\n",
        "\n",
        "They are surrounded by curly braces `{ }`, each key is connected to its value by a colon `:`, and every pair is separated by commas.\n"
      ]
    },
    {
      "cell_type": "code",
      "metadata": {
        "id": "Ibt_zazrOzP7"
      },
      "source": [
        "# Make a dictionary\n",
        "my_dict = {'key1':'value1','key2':'value2'}"
      ],
      "execution_count": null,
      "outputs": []
    },
    {
      "cell_type": "code",
      "metadata": {
        "id": "UcpULUI4OzQC"
      },
      "source": [
        "# Get values by using their key\n",
        "my_dict['key2']"
      ],
      "execution_count": null,
      "outputs": []
    },
    {
      "cell_type": "markdown",
      "metadata": {
        "id": "17-ijFwFOzQI"
      },
      "source": [
        "It's important to note that dictionaries are very flexible in the data types that they can hold. For example:"
      ]
    },
    {
      "cell_type": "code",
      "metadata": {
        "id": "j7ZWMM7oOzQJ"
      },
      "source": [
        "# This dictionary holds an integer and lists. \n",
        "my_dict = {'key1':123,'key2':[12,23,33],'key3':['item0','item1','item2']}"
      ],
      "execution_count": null,
      "outputs": []
    },
    {
      "cell_type": "code",
      "metadata": {
        "id": "57kiUxF2OzQO"
      },
      "source": [
        "# Let's call the list of strings using its key\n",
        "my_dict['key3']"
      ],
      "execution_count": null,
      "outputs": []
    },
    {
      "cell_type": "markdown",
      "metadata": {
        "id": "Mnd1Igr7gPgd"
      },
      "source": [
        "<font color = 'red'> Since one of the values is a list (`my_dict['key3'] = ['item0','item1','item2']`), we can get the individual items of this list by multiple indexing. </font>"
      ]
    },
    {
      "cell_type": "code",
      "metadata": {
        "id": "f0T3aDArOzQT"
      },
      "source": [
        "# Use the key to get the list. Then use index '0' to get the first value of the list. \n",
        "my_dict['key3'][0]"
      ],
      "execution_count": null,
      "outputs": []
    },
    {
      "cell_type": "markdown",
      "metadata": {
        "id": "VfbPr4MpOzQf"
      },
      "source": [
        "We can change the values of a key as well. For instance:"
      ]
    },
    {
      "cell_type": "code",
      "metadata": {
        "id": "5P_IW7-wOzQh"
      },
      "source": [
        "my_dict['key1']"
      ],
      "execution_count": null,
      "outputs": []
    },
    {
      "cell_type": "code",
      "metadata": {
        "id": "_JE2n8BLOzQn"
      },
      "source": [
        "# Subtract 123 from the value\n",
        "my_dict['key1'] = my_dict['key1'] - 123"
      ],
      "execution_count": null,
      "outputs": []
    },
    {
      "cell_type": "code",
      "metadata": {
        "id": "UZQnyDq3OzQq"
      },
      "source": [
        "#Check\n",
        "my_dict['key1']"
      ],
      "execution_count": null,
      "outputs": []
    },
    {
      "cell_type": "markdown",
      "metadata": {
        "id": "Ym1tQXryOzQ0"
      },
      "source": [
        "It is possible to create an empty dictionary and add the key-value pairs later on. \n",
        "\n",
        "To create the key-value pairs, use the following format: `dictionary['key'] = 'value'`\n",
        "\n"
      ]
    },
    {
      "cell_type": "code",
      "metadata": {
        "id": "XYTOL_t6OzQ0"
      },
      "source": [
        "# Create a new dictionary\n",
        "d = {}"
      ],
      "execution_count": null,
      "outputs": []
    },
    {
      "cell_type": "code",
      "metadata": {
        "id": "6cxK3dXhOzQ4"
      },
      "source": [
        "# Create a new key-value pair\n",
        "d['animal'] = 'Dog'"
      ],
      "execution_count": null,
      "outputs": []
    },
    {
      "cell_type": "code",
      "metadata": {
        "id": "LIICwuVGOzQ_"
      },
      "source": [
        "#Show\n",
        "d"
      ],
      "execution_count": null,
      "outputs": []
    },
    {
      "cell_type": "markdown",
      "metadata": {
        "id": "lQjKGTqyOzRD"
      },
      "source": [
        "### Nesting with Dictionaries\n",
        "\n",
        "Dictionaries can hold other dictionaries within itself, so a key could be paired with a another key-value pair. "
      ]
    },
    {
      "cell_type": "code",
      "metadata": {
        "id": "7ZsdzY1olLqN"
      },
      "source": [
        "# Dictionary nested inside a dictionary\n",
        "d1 = {'key1':{'nestkey':'value'}}"
      ],
      "execution_count": null,
      "outputs": []
    },
    {
      "cell_type": "code",
      "metadata": {
        "id": "SqlnsrceOzRD"
      },
      "source": [
        "# Dictionary nested inside a dictionary nested inside a dictionary\n",
        "d2 = {'key1':{'nestkey':{'subnestkey':'value'}}}"
      ],
      "execution_count": null,
      "outputs": []
    },
    {
      "cell_type": "markdown",
      "metadata": {
        "id": "S9j8ZHcvOzRG"
      },
      "source": [
        "Seems complicated, but let's see how we can `'value'`:"
      ]
    },
    {
      "cell_type": "code",
      "metadata": {
        "id": "vbNLXS9COzRH"
      },
      "source": [
        "# Keep calling the keys\n",
        "d1['key1']['nestkey']"
      ],
      "execution_count": null,
      "outputs": []
    },
    {
      "cell_type": "code",
      "metadata": {
        "id": "afzVwmaDlv9K"
      },
      "source": [
        "# Keep calling the keys\n",
        "d2['key1']['nestkey']['subnestkey']"
      ],
      "execution_count": null,
      "outputs": []
    },
    {
      "cell_type": "markdown",
      "metadata": {
        "id": "aToEjqLPOzRK"
      },
      "source": [
        "### Dictionary Methods\n",
        "\n",
        "There are a few methods we can use on a dictionary. Let's get a quick introduction to them:"
      ]
    },
    {
      "cell_type": "code",
      "metadata": {
        "id": "NizEqIn3OzRK"
      },
      "source": [
        "# Create a typical dictionary\n",
        "d = {'key1':1,'key2':2,'key3':3}"
      ],
      "execution_count": null,
      "outputs": []
    },
    {
      "cell_type": "code",
      "metadata": {
        "id": "F_d4EiF0OzRN"
      },
      "source": [
        "# Method to return a list of all keys \n",
        "d.keys()"
      ],
      "execution_count": null,
      "outputs": []
    },
    {
      "cell_type": "code",
      "metadata": {
        "id": "vXhVyVd3OzRP"
      },
      "source": [
        "# Method to return a list of all values\n",
        "d.values()"
      ],
      "execution_count": null,
      "outputs": []
    },
    {
      "cell_type": "code",
      "metadata": {
        "id": "JPkBFpoGOzRR"
      },
      "source": [
        "# Method to return a list of tuples of all key-value pairs\n",
        "d.items()"
      ],
      "execution_count": null,
      "outputs": []
    },
    {
      "cell_type": "markdown",
      "metadata": {
        "id": "jljY3mE2G-oX"
      },
      "source": [
        "### 5.0 Now Try This\n"
      ]
    },
    {
      "cell_type": "markdown",
      "metadata": {
        "id": "MAp2fG9nZbZ6"
      },
      "source": [
        "Using keys and indexing, grab the 'hello' from the following dictionaries:\n"
      ]
    },
    {
      "cell_type": "code",
      "metadata": {
        "id": "5nfaiz0yZbZ6"
      },
      "source": [
        "# Once your have verified your answer please uncomment the line below and run it, this will save your code \n",
        "#%%writefile -a {folder_location}/5.py\n",
        "# Please note that if you uncomment and press multiple times, the program will keep appending to the file.\n",
        "# So only uncomment it when you want to save your answer.\n",
        "\n",
        "d = {'simple_key':'hello'}\n",
        "\n",
        "# Grab 'hello'\n",
        "answer1 = #INSERT CODE HERE\n",
        "print(answer1)"
      ],
      "execution_count": null,
      "outputs": []
    },
    {
      "cell_type": "markdown",
      "metadata": {
        "id": "Vj5GFIHVmlqd"
      },
      "source": [
        "Using keys and indexing, grab the 'hello' from the following dictionaries:"
      ]
    },
    {
      "cell_type": "code",
      "metadata": {
        "id": "2ddxOLcqZbZ9"
      },
      "source": [
        "# Once your have verified your answer please uncomment the line below and run it, this will save your code \n",
        "#%%writefile -a {folder_location}/5.py\n",
        "# Please note that if you uncomment and press multiple times, the program will keep appending to the file.\n",
        "# So only uncomment it when you want to save your answer.\n",
        "\n",
        "d = {'k1':{'k2':'hello'}}\n",
        "\n",
        "# Grab 'hello'\n",
        "answer2 = #INSERT CODE HERE\n",
        "print(answer2)"
      ],
      "execution_count": null,
      "outputs": []
    },
    {
      "cell_type": "markdown",
      "metadata": {
        "id": "sjNXmAHxmnHF"
      },
      "source": [
        "Using keys and indexing, grab the 'hello' from the following dictionaries:"
      ]
    },
    {
      "cell_type": "code",
      "metadata": {
        "id": "rJlGHUFTZbaA"
      },
      "source": [
        "# Once your have verified your answer please uncomment the line below and run it, this will save your code \n",
        "#%%writefile -a {folder_location}/5.py\n",
        "# Please note that if you uncomment and press multiple times, the program will keep appending to the file.\n",
        "# So only uncomment it when you want to save your answer.\n",
        "\n",
        "# Getting a little tricker\n",
        "d = {'k1':[{'nest_key':['this is deep',['hello']]}]}\n",
        "\n",
        "#Grab hello\n",
        "answer3 = #INSERT CODE HERE\n",
        "print(answer3)"
      ],
      "execution_count": null,
      "outputs": []
    },
    {
      "cell_type": "markdown",
      "metadata": {
        "id": "rkvrimLymoPx"
      },
      "source": [
        "Using keys and indexing, grab the 'hello' from the following dictionaries:"
      ]
    },
    {
      "cell_type": "code",
      "metadata": {
        "id": "vjadbMt3ZbaE"
      },
      "source": [
        "# Once your have verified your answer please uncomment the line below and run it, this will save your code \n",
        "#%%writefile -a {folder_location}/5.py\n",
        "# Please note that if you uncomment and press multiple times, the program will keep appending to the file.\n",
        "# So only uncomment it when you want to save your answer.\n",
        "\n",
        "# This will be hard and annoying!\n",
        "d = {'k1':[1,2,{'k2':['this is tricky',{'tough':[1,2,['hello']]}]}]}\n",
        "\n",
        "# Grab hello\n",
        "answer4 = #INSERT CODE HERE\n",
        "print(answer4)"
      ],
      "execution_count": null,
      "outputs": []
    }
  ]
}
