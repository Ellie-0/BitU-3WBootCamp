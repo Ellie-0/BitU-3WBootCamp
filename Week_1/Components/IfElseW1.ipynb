{
  "nbformat": 4,
  "nbformat_minor": 0,
  "metadata": {
    "colab": {
      "name": "IfElseW1.ipynb",
      "provenance": [],
      "toc_visible": true,
      "include_colab_link": true
    },
    "kernelspec": {
      "name": "python3",
      "display_name": "Python 3"
    }
  },
  "cells": [
    {
      "cell_type": "markdown",
      "metadata": {
        "id": "view-in-github",
        "colab_type": "text"
      },
      "source": [
        "<a href=\"https://colab.research.google.com/github/bitprj/BitU-3WBootCamp/blob/main/Week_1/Components/IfElseW1.ipynb\" target=\"_parent\"><img src=\"https://colab.research.google.com/assets/colab-badge.svg\" alt=\"Open In Colab\"/></a>"
      ]
    },
    {
      "cell_type": "markdown",
      "metadata": {
        "id": "y7tuqi7pNM9A"
      },
      "source": [
        "## If-Else Statements\n",
        "If we want Python to perform certain actions *conditionally*, that is, to only perform those tasks if certain criteria are met, we can use if-else statements. Let's walk through a quick example:"
      ]
    },
    {
      "cell_type": "code",
      "metadata": {
        "id": "Hr5nxRXHNQRd",
        "outputId": "d0e57a14-ef8b-4323-b002-330873b3aa12",
        "colab": {
          "base_uri": "https://localhost:8080/"
        }
      },
      "source": [
        "age = 18\n",
        "\n",
        "if age >= 18:\n",
        "  print(\"You can vote!\")\n",
        "else:\n",
        "  print(\"You can not vote!\")\n"
      ],
      "execution_count": null,
      "outputs": [
        {
          "output_type": "stream",
          "text": [
            "You can vote!\n"
          ],
          "name": "stdout"
        }
      ]
    },
    {
      "cell_type": "markdown",
      "metadata": {
        "id": "dAzJix9vNSTU"
      },
      "source": [
        "We just introduced a lot of syntax here, so let's go through it step by step. First, we have the `if` statement (\"if age >= 18\"), which represents the condition that we want to track. If this condition is met, we want to print \"You can vote!\" If this condition ISN'T met, however, we want to print out \"You can not vote!\" That's what the `else` statement represents. \n",
        "\n",
        "Notice the colon (`:`) immediately after the `if` statement. That signifies that all of the code directly beneath it is to be executed if the condition holds `true`. Similarly, for the `else` statement, all the code directly beneath is to executed if the condition holds `false`. \n",
        "\n",
        "You'll also notice that all code directly after the `if` statement was indented. The same is true for all code after the `else` statement. This is because Python relies on whitespace to figure out what lines of code depend on the `if` condition being true/false, versus general lines of code that don't depend on any conditions.\n",
        "\n",
        "### elif Statements\n",
        "Sometimes, you want to keep track of *multiple* conditions and to do something different depending on each scenario. In order to do this, we use what's called an `elif` statement. Let's modify the above example to illustrate how this works."
      ]
    },
    {
      "cell_type": "code",
      "metadata": {
        "id": "W7j-qj8GNVbe",
        "outputId": "81b4ba47-9679-42dc-8b63-9258e49f18fa",
        "colab": {
          "base_uri": "https://localhost:8080/"
        }
      },
      "source": [
        "age = 18\n",
        "\n",
        "if age >= 35:\n",
        "  print(\"You can run for president.\")\n",
        "elif age >= 18:\n",
        "  print(\"You can vote!\")\n",
        "else:\n",
        "  print(\"You can not vote!\")"
      ],
      "execution_count": null,
      "outputs": [
        {
          "output_type": "stream",
          "text": [
            "You can vote!\n"
          ],
          "name": "stdout"
        }
      ]
    },
    {
      "cell_type": "markdown",
      "metadata": {
        "id": "CJ5PldmINX4b"
      },
      "source": [
        "We made one modification to the previous code block, and that is adding an`elif` statement. `elif` is short for 'else if', and represents the alternate condition in this short example. Python first checks to see if the first condition holds `true`. If not, it checks the alternate condition(s). This second check ONLY happens if the first condition does not hold true. In this case, Python will just run down the list of conditions until it finds a condition that holds true, or gets to the `else` statement. You can have as many `elif` statements as necessary, but Python will only choose to run the code under the first elif statement that is true. \n",
        "\n"
      ]
    },
    {
      "cell_type": "markdown",
      "metadata": {
        "id": "-GLT42V_NagM"
      },
      "source": [
        "### Multiple Conditions\n",
        "There will also be occasions where you would like to check multiple conditions at once. There are two variations of this:\n",
        "\n",
        "*   When you want **both** or **all** conditions to be true before executing some lines\n",
        "*   When you only want **at least** one condition to be true before executing some lines\n",
        "\n",
        "Let's see some examples of both of these scenarios.\n",
        "\n"
      ]
    },
    {
      "cell_type": "markdown",
      "metadata": {
        "id": "QQ7VMr9hNeah"
      },
      "source": [
        "#### Both Conditions"
      ]
    },
    {
      "cell_type": "code",
      "metadata": {
        "id": "W9lP6LHfNfy1",
        "outputId": "0898a153-eba6-44a4-bda9-d69c20ae7069",
        "colab": {
          "base_uri": "https://localhost:8080/"
        }
      },
      "source": [
        "age = 18\n",
        "citizen = True\n",
        "\n",
        "if age >= 18 and citizen == True:\n",
        "  print(\"You can vote!\")\n",
        "else:\n",
        "  print(\"You can not vote!\")"
      ],
      "execution_count": null,
      "outputs": [
        {
          "output_type": "stream",
          "text": [
            "You can vote!\n"
          ],
          "name": "stdout"
        }
      ]
    },
    {
      "cell_type": "markdown",
      "metadata": {
        "id": "WFQPCh2GNin_"
      },
      "source": [
        "Here, we modified the original condition on voting. We added another thing to keep track of: citizenship. Now, we want Python to say someone can vote only if they are over 18 `and` if they are a citizen (this is what \"citizen = true\" means). Notice we only had to add one word to accomplish this, the `and`. Feel free to modify the values of `age` and `citizen` to see what the code block prints out based on certain combinations."
      ]
    },
    {
      "cell_type": "markdown",
      "metadata": {
        "id": "UrxZC80YNlJo"
      },
      "source": [
        "### At Least One Condition"
      ]
    },
    {
      "cell_type": "code",
      "metadata": {
        "id": "HtiVY9W3NmK8",
        "outputId": "944d2551-60db-4928-fcfc-6c68edc3e127",
        "colab": {
          "base_uri": "https://localhost:8080/"
        }
      },
      "source": [
        "age = 18\n",
        "citizen = True\n",
        "\n",
        "if age < 18 or citizen != True:\n",
        "  print(\"You can not vote!\")\n",
        "else:\n",
        "  print(\"You can vote!\")"
      ],
      "execution_count": null,
      "outputs": [
        {
          "output_type": "stream",
          "text": [
            "You can vote!\n"
          ],
          "name": "stdout"
        }
      ]
    },
    {
      "cell_type": "markdown",
      "metadata": {
        "id": "WwCxqIWmNoyx"
      },
      "source": [
        "If you look carefully, the above example does exactly the same checks as the previous one. Saying someone needs to be at least 18 `and` a citizen to vote, is the exact same as saying if someone is under 18 `or` isn't a citizen, they can't vote. In order to phrase the conditions in this way, we used `or`. This means that only one of those conditions need to be true for Python to execute the respective lines."
      ]
    },
    {
      "cell_type": "markdown",
      "metadata": {
        "id": "Y18o0x9mNrCi"
      },
      "source": [
        "## 2.0 Now Try This\n",
        "Write a simple program that decides whether you stay dry or wet when going outside. Here's what should happen:\n",
        "\n",
        "*   If it is raining outside and you have a jacket, print \"You can go outside!\"\n",
        "*   If it is raining outside and you **don't** have a jacket, print \"You're gonna get wet.\"\n",
        "*   If it's not raining outside, print \"It's a beautiful day!\"\n",
        "\n",
        "\n",
        "\n",
        "\n"
      ]
    },
    {
      "cell_type": "code",
      "metadata": {
        "id": "PqhemIhkNu76"
      },
      "source": [
        "# Once your have verified your answer please uncomment the line below and run it, this will save your code \n",
        "#%%writefile -a {folder_location}/2.py\n",
        "# Please note that if you uncomment and press multiple times, the program will keep appending to the file.\n",
        "# So only uncomment it when you want to save your answer.\n",
        "\n",
        "#INSERT CODE HERE"
      ],
      "execution_count": null,
      "outputs": []
    }
  ]
}