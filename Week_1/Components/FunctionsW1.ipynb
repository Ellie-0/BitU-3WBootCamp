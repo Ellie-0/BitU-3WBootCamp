{
  "nbformat": 4,
  "nbformat_minor": 0,
  "metadata": {
    "colab": {
      "name": "FunctionsW1.ipynb",
      "provenance": [],
      "authorship_tag": "ABX9TyM2UTPYA8IREDAdPDQ6C8KR",
      "include_colab_link": true
    },
    "kernelspec": {
      "name": "python3",
      "display_name": "Python 3"
    }
  },
  "cells": [
    {
      "cell_type": "markdown",
      "metadata": {
        "id": "view-in-github",
        "colab_type": "text"
      },
      "source": [
        "<a href=\"https://colab.research.google.com/github/bitprj/BitU-3WBootCamp/blob/Linh/FunctionsW1.ipynb\" target=\"_parent\"><img src=\"https://colab.research.google.com/assets/colab-badge.svg\" alt=\"Open In Colab\"/></a>"
      ]
    },
    {
      "cell_type": "markdown",
      "metadata": {
        "id": "JWmMpmPaNWcX"
      },
      "source": [
        "## Functions\n",
        "\n",
        "### Introduction to Functions\n",
        "\n",
        "Instead of writing the same code over and over, we use functions. Functions are like a shortcut that allows us to write a chunk of code once, and use it as many times as we want. "
      ]
    },
    {
      "cell_type": "markdown",
      "metadata": {
        "id": "-ghJ1ZQJNWcZ"
      },
      "source": [
        "### Format of Function\n",
        "\n",
        "This is the format of using a function: `name_of_function(arg1,arg2)`"
      ]
    },
    {
      "cell_type": "markdown",
      "metadata": {
        "id": "fUoJtJgHNWcf"
      },
      "source": [
        "#### Parameters\n",
        "Parameters are placeholders for variables that a function is expecting. This means that whenever you use a function, you must provide concrete values for all placeholders (parameters) for the function. There are functions that don't use any parameters at all, but most of the time a function uses at least one parameter.\n",
        "\n",
        "Let's see some concrete examples. `sum()` is a built-in Python function that allows you to quickly add up all the items in a list of numbers. The `sum()` function expects at least one parameter, with a second parameter being *optional* - you can provide a \"starting number\" that will get included in the total sum. See below for examples of both of these. \n",
        "\n"
      ]
    },
    {
      "cell_type": "code",
      "metadata": {
        "id": "jDQ5ymA7qfQI"
      },
      "source": [
        "list_1 = [5,10,20]\n",
        "\n",
        "print(sum(list_1))\n",
        "print(sum(list_1,40))"
      ],
      "execution_count": null,
      "outputs": []
    },
    {
      "cell_type": "markdown",
      "metadata": {
        "id": "-kgFJmzDtIgv"
      },
      "source": [
        "Another example is `pow()`. This function allows you to quicky raise any integer to an exponents (i.e $2^3$). Here, there are two parameters, the base and the exponent. The format is:\n",
        "\n",
        "`pow(base,exponent)`"
      ]
    },
    {
      "cell_type": "code",
      "metadata": {
        "id": "tDAuebG_t-Aa"
      },
      "source": [
        "pow(2,6)"
      ],
      "execution_count": null,
      "outputs": []
    },
    {
      "cell_type": "markdown",
      "metadata": {
        "id": "K5hLnLVZJXXv"
      },
      "source": [
        "### 7.0 Now Try This\n",
        "\n",
        "What do you think happens when you don't pass in the right amount of parameters for a function?"
      ]
    },
    {
      "cell_type": "markdown",
      "metadata": {
        "id": "P7VtXO5Sv-eW"
      },
      "source": [
        "Answer here"
      ]
    }
  ]
}
