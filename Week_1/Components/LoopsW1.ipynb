{
  "nbformat": 4,
  "nbformat_minor": 0,
  "metadata": {
    "colab": {
      "name": "LoopsW1.ipynb",
      "provenance": [],
      "authorship_tag": "ABX9TyP3neQx5f99Kh4HO+v8bRaj",
      "include_colab_link": true
    },
    "kernelspec": {
      "name": "python3",
      "display_name": "Python 3"
    }
  },
  "cells": [
    {
      "cell_type": "markdown",
      "metadata": {
        "id": "view-in-github",
        "colab_type": "text"
      },
      "source": [
        "<a href=\"https://colab.research.google.com/github/bitprj/BitU-3WBootCamp/blob/Linh/LoopsW1.ipynb\" target=\"_parent\"><img src=\"https://colab.research.google.com/assets/colab-badge.svg\" alt=\"Open In Colab\"/></a>"
      ]
    },
    {
      "cell_type": "markdown",
      "metadata": {
        "id": "9xEU6BTkJNHU"
      },
      "source": [
        "## Loops\n",
        "\n",
        "There will be situations where you would like Python to perform a task multiple times, or until a certain condition is met. In this case, instead of rewriting the same line(s) over and over again, you can just create a loop to make the process automatic.\n",
        "\n",
        "Let's go over some examples. We'll primarily be using two types of loops, `for` loops and `while` loops. We'll be looking at `for` loops first.\n",
        "\n"
      ]
    },
    {
      "cell_type": "markdown",
      "metadata": {
        "id": "aXeuc78ii5IX"
      },
      "source": [
        "\n",
        "### `for` Loops"
      ]
    },
    {
      "cell_type": "code",
      "metadata": {
        "id": "T2ec9kuscPDA"
      },
      "source": [
        "my_list = [1,2,3,4,5,6,7,8,9,10]"
      ],
      "execution_count": null,
      "outputs": []
    },
    {
      "cell_type": "markdown",
      "metadata": {
        "id": "5ufnWSn2cfIO"
      },
      "source": [
        "Let's say we wanted to individually print out each element in this list. We could go the straightforward way and have 10 `print()` statements for each element in that list, but not only is this tedious, it's unnecessary. Here's how we can do this with a `for` loop:"
      ]
    },
    {
      "cell_type": "code",
      "metadata": {
        "id": "oHSEk0IZcyrX"
      },
      "source": [
        "for item in my_list:\n",
        "  print(item)"
      ],
      "execution_count": null,
      "outputs": []
    },
    {
      "cell_type": "markdown",
      "metadata": {
        "id": "2BvgsMM_c3fP"
      },
      "source": [
        "Let's break down the format of a `for` loop. You can think of why it's called a \"for\" loop like this - every time you use one, you're telling Python:\n",
        "\n",
        "\"`For` every element in this **iterable**, do this\".\n",
        "\n",
        "In this scenario, the iterable is `my_list` and the action is printing. \n",
        "\n",
        "You'll also notice that we referred to each element as an `item`, and that didn't cause any errors. This would be unusual, as we didn't define `item` as a variable previously. In Python; however, you're allowed to use *temporary* variables in `for` loops. The variable called `item` gets created and then deleted in the `for` loop above. This means, you can freely use `item` like any other variable within the `for` loop, but not outside of it. \n",
        "\n",
        "Here are a couple more examples:"
      ]
    },
    {
      "cell_type": "code",
      "metadata": {
        "id": "eN2-DIdKfng8"
      },
      "source": [
        "# Prints out the sum of all numbers in my_list (i.e 1+2+3+4+...)\n",
        "my_list = [1,2,3,4,5,6,7,8,9,10]\n",
        "sum = 0\n",
        "\n",
        "for num in my_list:\n",
        "  sum = sum + num\n",
        "\n",
        "print(sum)"
      ],
      "execution_count": null,
      "outputs": []
    },
    {
      "cell_type": "code",
      "metadata": {
        "id": "m9fVMSvagHLd"
      },
      "source": [
        "# Prints out all odd numbers in the list\n",
        "my_list = [1,2,3,4,5,6,7,8,9,10]\n",
        "\n",
        "for item in my_list:\n",
        "  if item % 2 != 0: # If the number can't be evenly divided by 2\n",
        "    print(item)"
      ],
      "execution_count": null,
      "outputs": []
    },
    {
      "cell_type": "markdown",
      "metadata": {
        "id": "25mHlpkbhibO"
      },
      "source": [
        "### `while` Loops\n",
        "\n",
        "`while` loops are useful when it makes more sense to repeat an action until a certain condition is met, rather than **iterating** through a sequence.\n",
        "\n",
        "Here's an example:"
      ]
    },
    {
      "cell_type": "code",
      "metadata": {
        "id": "J9z4rhiFjn0E"
      },
      "source": [
        "# Prints out \"Hi!\" UNTIL count is assigned to 0\n",
        "count = 10\n",
        "\n",
        "while count != 0:\n",
        "  print(\"Hi!\")\n",
        "  count = count - 1"
      ],
      "execution_count": null,
      "outputs": []
    },
    {
      "cell_type": "markdown",
      "metadata": {
        "id": "6ruhh_i2j6IX"
      },
      "source": [
        "The format for `while` loops goes as follows:\n",
        "\n",
        "\"While this condition is not true yet, do this.\"\n",
        "\n",
        "In the above case, we wanted to print \"Hi!\" until `count` was set to 0. Let's see one more example:"
      ]
    },
    {
      "cell_type": "code",
      "metadata": {
        "id": "1DLu1nush55P"
      },
      "source": [
        "# Creates an empty list and appends values to that list until count reaches 0\n",
        "count = 10\n",
        "\n",
        "my_list = list() # list() creates an empty list\n",
        "\n",
        "while count != 0:\n",
        "  my_list.append(count)\n",
        "  count = count - 1\n",
        "\n",
        "my_list"
      ],
      "execution_count": null,
      "outputs": []
    },
    {
      "cell_type": "markdown",
      "metadata": {
        "id": "GReHWEuFidhv"
      },
      "source": [
        "### Loops are Interchangeable\n",
        "Even though `for` loops and `while` loops work slightly differently, they are equally capable. This means that anything you can do with a `for` loop you can do with a `while` loop, and vice versa.\n",
        "\n",
        "To illustrate this, let's see how we can \"convert\" one of the above `for` loop examples to use a while loop instead:"
      ]
    },
    {
      "cell_type": "code",
      "metadata": {
        "id": "AH9zbwuqjvOE"
      },
      "source": [
        "# Prints out the sum of all numbers in my_list (i.e 1+2+3+4+...) using WHILE loops\n",
        "my_list = [1,2,3,4,5,6,7,8,9,10]\n",
        "sum = 0\n",
        "num = 0\n",
        "count = len(my_list)\n",
        "\n",
        "while count != 0:\n",
        "  sum = sum + my_list[num]\n",
        "  num = num + 1\n",
        "  count = count - 1\n",
        "\n",
        "print(sum)"
      ],
      "execution_count": null,
      "outputs": []
    },
    {
      "cell_type": "markdown",
      "metadata": {
        "id": "tWYnWF3NkQaa"
      },
      "source": [
        "Even though we've shown we can do this example with a `while` loop instead, you'll notice that the code is a little harder to understand, as well as requires more lines.\n",
        "\n",
        "This shows that while you can use any loop type, there's usually a type that's best suited for the specific task. As such, you should try to look closely at a problem to determine which type of loop would be most convenient to use."
      ]
    },
    {
      "cell_type": "markdown",
      "metadata": {
        "id": "rh7wkKjSh7P0"
      },
      "source": [
        "### `break`\n",
        "\n",
        "Sometimes you want to want Python to end a loop early, usually if you meet some type of condition. In this case, we use what's called a `break` statement.\n",
        "\n",
        "Here's a concrete example:"
      ]
    },
    {
      "cell_type": "code",
      "metadata": {
        "id": "4hAGqSxBiMj9"
      },
      "source": [
        "# Prints out each element until it gets to 3\n",
        "my_list = [1,2,3,4,5]\n",
        "\n",
        "for item in my_list:\n",
        "  if item == 3:\n",
        "    break\n",
        "  print(item)"
      ],
      "execution_count": null,
      "outputs": []
    },
    {
      "cell_type": "markdown",
      "metadata": {
        "id": "EuYoBvX5ijMV"
      },
      "source": [
        "### `continue`\n",
        "\n",
        "There will also be cases where you would want Python to ignore a certain element, for whatever reason, and move on to the next element. To do this, we can use a `continue` statement.\n",
        "\n",
        "We can just modify the example above slightly to show this:"
      ]
    },
    {
      "cell_type": "code",
      "metadata": {
        "id": "Pl4fZ8kZi-Z5"
      },
      "source": [
        "# Prints out every element EXCEPT 3\n",
        "my_list = [1,2,3,4,5]\n",
        "\n",
        "for item in my_list:\n",
        "  if item == 3:\n",
        "    continue\n",
        "  print(item)"
      ],
      "execution_count": null,
      "outputs": []
    },
    {
      "cell_type": "markdown",
      "metadata": {
        "id": "NiIW9UA6lX_5"
      },
      "source": [
        "### 6.0 Now Try This"
      ]
    },
    {
      "cell_type": "markdown",
      "metadata": {
        "id": "L1pjwa3fl8Pb"
      },
      "source": [
        "First create a list called `alphabet` and fill it with all the letters of the English alphabet (i.e `['a','b','c',...]`). Then, using either `for` or `while` loops:\n",
        "\n",
        "\n",
        "*   Print out every 4th letter\n",
        "*   Skip `l` (that is, don't print `l`)\n",
        "*   Exit the loop once you've printed the 16th letter\n",
        "\n"
      ]
    },
    {
      "cell_type": "code",
      "metadata": {
        "id": "mz3lefhym84Y"
      },
      "source": [
        "# Once your have verified your answer please uncomment the line below and run it, this will save your code \n",
        "#%%writefile -a {folder_location}/6.py\n",
        "# Please note that if you uncomment and press multiple times, the program will keep appending to the file.\n",
        "# So only uncomment it when you want to save your answer.\n",
        "\n",
        "#INSERT CODE HERE"
      ],
      "execution_count": null,
      "outputs": []
    },
    {
      "cell_type": "markdown",
      "metadata": {
        "id": "a5VZpFk6ndVP"
      },
      "source": [
        "Imagine you're copying files from your USB drive to your laptop. Let the lists `usb` and `laptop` represent the two devices. Fill `usb` with at least 20 elements of any data type. Then, using either `for` or `while` loops:\n",
        "\n",
        "*   Remove an item from `usb`\n",
        "*   Append that item to `laptop`\n",
        "\n",
        "You should do this process until the `usb` list is empty and the `laptop` list has all of the elements.\n",
        "\n"
      ]
    },
    {
      "cell_type": "code",
      "metadata": {
        "id": "8TlL0txaoj7D"
      },
      "source": [
        "# Once your have verified your answer please uncomment the line below and run it, this will save your code \n",
        "#%%writefile -a {folder_location}/6.py\n",
        "# Please note that if you uncomment and press multiple times, the program will keep appending to the file.\n",
        "# So only uncomment it when you want to save your answer.\n",
        "\n",
        "#INSERT CODE HERE"
      ],
      "execution_count": null,
      "outputs": []
    }
  ]
}
