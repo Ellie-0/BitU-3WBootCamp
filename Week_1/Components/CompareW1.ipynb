{
  "nbformat": 4,
  "nbformat_minor": 0,
  "metadata": {
    "colab": {
      "name": "CompareW1.ipynb",
      "provenance": [],
      "toc_visible": true,
      "include_colab_link": true
    },
    "kernelspec": {
      "name": "python3",
      "display_name": "Python 3"
    }
  },
  "cells": [
    {
      "cell_type": "markdown",
      "metadata": {
        "id": "view-in-github",
        "colab_type": "text"
      },
      "source": [
        "<a href=\"https://colab.research.google.com/github/bitprj/BitU-3WBootCamp/blob/main/Week_1/Components/CompareW1.ipynb\" target=\"_parent\"><img src=\"https://colab.research.google.com/assets/colab-badge.svg\" alt=\"Open In Colab\"/></a>"
      ]
    },
    {
      "cell_type": "markdown",
      "metadata": {
        "id": "-01_AVqtMYrd"
      },
      "source": [
        "## Comparison Operators \n",
        "To compare two numbers, there are a variety of different operators used in Python. These operators are not only used to compute basic math, but will also be used in the future to filter out and select specific sections of data based on mathematical criteria. \n",
        "\n",
        "You've probably seen all of these operators before, but let's do a quick refresher. \n",
        "\n",
        "<h2> Table of Comparison Operators </h2><p>  In the table below, assume $a=9$ and $b=11$.</p>\n",
        "\n",
        "<table class=\"table table-bordered\">\n",
        "<tr>\n",
        "<th style=\"width:10%\">Operator</th><th style=\"width:45%\">Description</th><th>Example</th>\n",
        "</tr>\n",
        "<tr>\n",
        "<td>==</td>\n",
        "<td> Checks to see if two numbers are equal.</td>\n",
        "<td> (a == b) is not true.</td>\n",
        "</tr>\n",
        "<tr>\n",
        "<td>!=</td>\n",
        "<td>Checks to see if two numbers are <b> not </b> equal.</td>\n",
        "<td>(a != b) is true</td>\n",
        "</tr>\n",
        "<tr>\n",
        "<td>&gt;</td>\n",
        "<td>Checks to see if the first number is greater than the second.</td>\n",
        "<td> (a &gt; b) is not true.</td>\n",
        "</tr>\n",
        "<tr>\n",
        "<td>&lt;</td>\n",
        "<td>Checks to see if the first number is lesser than the second.</td>\n",
        "<td> (a &lt; b) is true.</td>\n",
        "</tr>\n",
        "<tr>\n",
        "<td>&gt;=</td>\n",
        "<td>Checks to see if the first number is greater than <b> or equal to </b> the second.</td>\n",
        "<td> (a &gt;= b) is not true. </td>\n",
        "</tr>\n",
        "<tr>\n",
        "<td>&lt;=</td>\n",
        "<td>Checks to see if the first number is lesser than <b> or equal to </b> the second.</td>\n",
        "<td> (a &lt;= b) is true. </td>\n",
        "</tr>\n",
        "</table>"
      ]
    },
    {
      "cell_type": "markdown",
      "metadata": {
        "id": "OW6Nh3KZMcmY"
      },
      "source": [
        "Let's work through quick examples of each of these.\n",
        "\n",
        "#### Equal"
      ]
    },
    {
      "cell_type": "code",
      "metadata": {
        "id": "vNPw7bCCMfIS",
        "outputId": "99b21a24-9e9a-4c34-8ce5-72a8b0682287",
        "colab": {
          "base_uri": "https://localhost:8080/"
        }
      },
      "source": [
        "4 == 4"
      ],
      "execution_count": null,
      "outputs": [
        {
          "output_type": "execute_result",
          "data": {
            "text/plain": [
              "True"
            ]
          },
          "metadata": {
            "tags": []
          },
          "execution_count": 1
        }
      ]
    },
    {
      "cell_type": "code",
      "metadata": {
        "id": "5D1ykr_wMfKl",
        "outputId": "cf670b3d-686a-40a8-8e14-9fccab3ce873",
        "colab": {
          "base_uri": "https://localhost:8080/"
        }
      },
      "source": [
        "1 == 0"
      ],
      "execution_count": null,
      "outputs": [
        {
          "output_type": "execute_result",
          "data": {
            "text/plain": [
              "False"
            ]
          },
          "metadata": {
            "tags": []
          },
          "execution_count": 2
        }
      ]
    },
    {
      "cell_type": "markdown",
      "metadata": {
        "id": "p4AUmyYbMjy0"
      },
      "source": [
        "Note that <code>==</code> is a <em>comparison</em> operator, while <code>=</code> is an <em>assignment</em> operator."
      ]
    },
    {
      "cell_type": "markdown",
      "metadata": {
        "id": "SqvFjmJWMnEI"
      },
      "source": [
        "#### Not Equal"
      ]
    },
    {
      "cell_type": "code",
      "metadata": {
        "id": "YePkHNwQMoW9",
        "outputId": "2d4c1dd8-a656-4dc9-900d-4467f8b96631",
        "colab": {
          "base_uri": "https://localhost:8080/"
        }
      },
      "source": [
        "4 != 5"
      ],
      "execution_count": null,
      "outputs": [
        {
          "output_type": "execute_result",
          "data": {
            "text/plain": [
              "True"
            ]
          },
          "metadata": {
            "tags": []
          },
          "execution_count": 3
        }
      ]
    },
    {
      "cell_type": "code",
      "metadata": {
        "id": "f4W4L3dcMpsC",
        "outputId": "6831af6e-ca33-4cc4-cac9-4544e62c1135",
        "colab": {
          "base_uri": "https://localhost:8080/"
        }
      },
      "source": [
        "1 != 1"
      ],
      "execution_count": null,
      "outputs": [
        {
          "output_type": "execute_result",
          "data": {
            "text/plain": [
              "False"
            ]
          },
          "metadata": {
            "tags": []
          },
          "execution_count": 4
        }
      ]
    },
    {
      "cell_type": "markdown",
      "metadata": {
        "id": "tVj92CXSMt0N"
      },
      "source": [
        "#### Greater Than"
      ]
    },
    {
      "cell_type": "code",
      "metadata": {
        "id": "cfehMaSyMwYK",
        "outputId": "fbf050f2-605a-461f-ba52-f8818bf1ffa8",
        "colab": {
          "base_uri": "https://localhost:8080/"
        }
      },
      "source": [
        "8 > 3"
      ],
      "execution_count": null,
      "outputs": [
        {
          "output_type": "execute_result",
          "data": {
            "text/plain": [
              "True"
            ]
          },
          "metadata": {
            "tags": []
          },
          "execution_count": 5
        }
      ]
    },
    {
      "cell_type": "code",
      "metadata": {
        "id": "BotR1rDNMwe9",
        "outputId": "2a511ac6-1249-4e88-9074-f3da4e627510",
        "colab": {
          "base_uri": "https://localhost:8080/"
        }
      },
      "source": [
        "1 > 9"
      ],
      "execution_count": null,
      "outputs": [
        {
          "output_type": "execute_result",
          "data": {
            "text/plain": [
              "False"
            ]
          },
          "metadata": {
            "tags": []
          },
          "execution_count": 6
        }
      ]
    },
    {
      "cell_type": "markdown",
      "metadata": {
        "id": "LIk7Qn_kM11N"
      },
      "source": [
        "#### Less Than"
      ]
    },
    {
      "cell_type": "code",
      "metadata": {
        "id": "daFZReZxM2hC",
        "outputId": "4659da7c-2bb8-4fba-c4e9-c509ec6dfa87",
        "colab": {
          "base_uri": "https://localhost:8080/"
        }
      },
      "source": [
        "3 < 8"
      ],
      "execution_count": null,
      "outputs": [
        {
          "output_type": "execute_result",
          "data": {
            "text/plain": [
              "True"
            ]
          },
          "metadata": {
            "tags": []
          },
          "execution_count": 7
        }
      ]
    },
    {
      "cell_type": "code",
      "metadata": {
        "id": "PT_Wg3cNM2jU",
        "outputId": "5fb495dc-cc38-4f0c-fb73-5e1878fe22c4",
        "colab": {
          "base_uri": "https://localhost:8080/"
        }
      },
      "source": [
        "7 < 0"
      ],
      "execution_count": null,
      "outputs": [
        {
          "output_type": "execute_result",
          "data": {
            "text/plain": [
              "False"
            ]
          },
          "metadata": {
            "tags": []
          },
          "execution_count": 8
        }
      ]
    },
    {
      "cell_type": "markdown",
      "metadata": {
        "id": "kFy6I5AxM8Fy"
      },
      "source": [
        "#### Greater Than or Equal to"
      ]
    },
    {
      "cell_type": "code",
      "metadata": {
        "id": "IGTzkdxNM-3z",
        "outputId": "4b9f396e-d1b6-432f-d347-0f094d8b31f0",
        "colab": {
          "base_uri": "https://localhost:8080/"
        }
      },
      "source": [
        "7 >= 7"
      ],
      "execution_count": null,
      "outputs": [
        {
          "output_type": "execute_result",
          "data": {
            "text/plain": [
              "True"
            ]
          },
          "metadata": {
            "tags": []
          },
          "execution_count": 9
        }
      ]
    },
    {
      "cell_type": "code",
      "metadata": {
        "id": "PLH81AoLNAup",
        "outputId": "eca1fb8a-43da-499a-fce1-9a21a7ac0783",
        "colab": {
          "base_uri": "https://localhost:8080/"
        }
      },
      "source": [
        "9 >= 4"
      ],
      "execution_count": null,
      "outputs": [
        {
          "output_type": "execute_result",
          "data": {
            "text/plain": [
              "True"
            ]
          },
          "metadata": {
            "tags": []
          },
          "execution_count": 10
        }
      ]
    },
    {
      "cell_type": "markdown",
      "metadata": {
        "id": "khbDCDJ7NDJy"
      },
      "source": [
        "#### Less than or Equal to"
      ]
    },
    {
      "cell_type": "code",
      "metadata": {
        "id": "9qymBE0iNF4B"
      },
      "source": [
        "4 <= 4"
      ],
      "execution_count": null,
      "outputs": []
    },
    {
      "cell_type": "code",
      "metadata": {
        "id": "J3G9IuH4NF67"
      },
      "source": [
        "1 <= 3"
      ],
      "execution_count": null,
      "outputs": []
    },
    {
      "cell_type": "markdown",
      "metadata": {
        "id": "w1nJYUIoNIoB"
      },
      "source": [
        "At this point, we know how to write statements and find out if they are true or false. However, if we want certain code to execute based on if the statements are true or false, we need to learn another type of statement."
      ]
    },
    {
      "cell_type": "markdown",
      "metadata": {
        "id": "WwCxqIWmNoyx"
      },
      "source": [
        "If you look carefully, the above example does exactly the same checks as the previous one. Saying someone needs to be at least 18 `and` a citizen to vote, is the exact same as saying if someone is under 18 `or` isn't a citizen, they can't vote. In order to phrase the conditions in this way, we used `or`. This means that only one of those conditions need to be true for Python to execute the respective lines."
      ]
    }
  ]
}