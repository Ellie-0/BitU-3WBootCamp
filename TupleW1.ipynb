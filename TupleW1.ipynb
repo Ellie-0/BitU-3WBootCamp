{
  "nbformat": 4,
  "nbformat_minor": 0,
  "metadata": {
    "colab": {
      "name": "TupleW1.ipynb",
      "provenance": [],
      "authorship_tag": "ABX9TyN9ay05kGDv+e6Axi0Qm21R",
      "include_colab_link": true
    },
    "kernelspec": {
      "name": "python3",
      "display_name": "Python 3"
    }
  },
  "cells": [
    {
      "cell_type": "markdown",
      "metadata": {
        "id": "view-in-github",
        "colab_type": "text"
      },
      "source": [
        "<a href=\"https://colab.research.google.com/github/bitprj/BitU-3WBootCamp/blob/Linh/TupleW1.ipynb\" target=\"_parent\"><img src=\"https://colab.research.google.com/assets/colab-badge.svg\" alt=\"Open In Colab\"/></a>"
      ]
    },
    {
      "cell_type": "markdown",
      "metadata": {
        "id": "qDEeD8_NBbSc"
      },
      "source": [
        "## Tuples\n",
        "\n",
        "Tuples are very similar to lists with one key difference. They are immutable. In other words, once you create a tuple, you can never modify its contents."
      ]
    },
    {
      "cell_type": "markdown",
      "metadata": {
        "id": "WDYmdzPj935W"
      },
      "source": [
        "### Constructing Tuples\n",
        "\n",
        "You can construct a tuple almost exactly like a list. Only, you would surround the elements with parentheses `( )` rather than square brackets `[ ]`."
      ]
    },
    {
      "cell_type": "code",
      "metadata": {
        "id": "PI539KXHBbSe"
      },
      "source": [
        "# Create a tuple\n",
        "t = (1,2,3)"
      ],
      "execution_count": null,
      "outputs": []
    },
    {
      "cell_type": "markdown",
      "metadata": {
        "id": "x2cHknnxcGOy"
      },
      "source": [
        "Trying to change a tuple afterwards won't work."
      ]
    },
    {
      "cell_type": "code",
      "metadata": {
        "id": "_75GFI-0cMkF"
      },
      "source": [
        "# Tuples are immutable\n",
        "t[0] = 4"
      ],
      "execution_count": null,
      "outputs": []
    },
    {
      "cell_type": "markdown",
      "metadata": {
        "id": "St0HF6LOaxMl"
      },
      "source": [
        "You can use `len()` on tuples just like with strings or lists."
      ]
    },
    {
      "cell_type": "code",
      "metadata": {
        "id": "dU_pWYhQBbSi"
      },
      "source": [
        "len(t)"
      ],
      "execution_count": null,
      "outputs": []
    },
    {
      "cell_type": "markdown",
      "metadata": {
        "id": "rN_pdVRBa4bz"
      },
      "source": [
        "Tuples can also hold data of different types."
      ]
    },
    {
      "cell_type": "code",
      "metadata": {
        "id": "QtnrN6_PBbSm"
      },
      "source": [
        "\n",
        "t = ('one',2,'f',3.14)\n",
        "\n",
        "# Show\n",
        "t"
      ],
      "execution_count": null,
      "outputs": []
    },
    {
      "cell_type": "markdown",
      "metadata": {
        "id": "fJQXx7vgbByc"
      },
      "source": [
        "You can also index and slice a tuple just like a list."
      ]
    },
    {
      "cell_type": "code",
      "metadata": {
        "id": "xyu4CGwZBbSq"
      },
      "source": [
        "# Indexing\n",
        "print(t[0])\n",
        "\n",
        "# Slicing\n",
        "print(t[:2])"
      ],
      "execution_count": null,
      "outputs": []
    },
    {
      "cell_type": "markdown",
      "metadata": {
        "id": "DBLmUGHfBbSw"
      },
      "source": [
        "### Basic Tuple Methods\n",
        "\n",
        "Tuples only have a few methods to work with. Two of the most useful are `index()` and `count()`."
      ]
    },
    {
      "cell_type": "code",
      "metadata": {
        "id": "9iAxkxEfBbSx"
      },
      "source": [
        "# Use .index to enter a value and return the index\n",
        "t.index('one')"
      ],
      "execution_count": null,
      "outputs": []
    },
    {
      "cell_type": "code",
      "metadata": {
        "id": "YxcUO8JhBbS2"
      },
      "source": [
        "# Use .count to count the number of times a value appears\n",
        "t.count('one')"
      ],
      "execution_count": null,
      "outputs": []
    },
    {
      "cell_type": "markdown",
      "metadata": {
        "id": "rbJsQW4vBbTD"
      },
      "source": [
        "### When to Use Tuples\n",
        "\n",
        "While it might seem like tuples are just inferior versions of lists, they are very useful in certain circumstances. For instance, if you have a set of data that you don't ever want modified, even intentionally, storing it in a tuple is the best approach."
      ]
    },
    {
      "cell_type": "markdown",
      "metadata": {
        "id": "GavPLpw0GjP_"
      },
      "source": [
        "### 4.0 Now Try This"
      ]
    },
    {
      "cell_type": "markdown",
      "metadata": {
        "id": "2XImAqwcZbaH"
      },
      "source": [
        "Create a tuple."
      ]
    },
    {
      "cell_type": "code",
      "metadata": {
        "id": "JNKxQlgfeIQx"
      },
      "source": [
        "# Once your have verified your answer please uncomment the line below and run it, this will save your code \n",
        "#%%writefile -a {folder_location}/4.py\n",
        "# Please note that if you uncomment and press multiple times, the program will keep appending to the file. \n",
        "# So only uncomment it when you want to save your answer.\n",
        "\n",
        "answer1 = #INSERT CODE HERE\n",
        "print(type(answer1))"
      ],
      "execution_count": null,
      "outputs": []
    }
  ]
}