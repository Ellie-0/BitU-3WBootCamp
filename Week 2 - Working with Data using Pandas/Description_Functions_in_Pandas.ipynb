{
  "nbformat": 4,
  "nbformat_minor": 0,
  "metadata": {
    "colab": {
      "name": "Description_Functions_in_Pandas.ipynb",
      "provenance": [],
      "collapsed_sections": []
    },
    "kernelspec": {
      "name": "python3",
      "display_name": "Python 3"
    }
  },
  "cells": [
    {
      "cell_type": "markdown",
      "metadata": {
        "id": "OT37BCRZPszQ"
      },
      "source": [
        "## Description Operations in Pandas "
      ]
    },
    {
      "cell_type": "markdown",
      "metadata": {
        "id": "E84Mgv80P03s"
      },
      "source": [
        "We will cover the basics of description functions that exist with the Pandas library."
      ]
    },
    {
      "cell_type": "markdown",
      "metadata": {
        "id": "DMZkAgLmQCFY"
      },
      "source": [
        "# `head()` function in Pandas"
      ]
    },
    {
      "cell_type": "markdown",
      "metadata": {
        "id": "3DgUkAx7QHdv"
      },
      "source": [
        "The `head()` function in pandas checks the first 5 rows of a dataframe. The syntax to call this function would be (`df` refers to dataframe) would be: `df.head()`. If you want to check more than 5 rows, you can put an integer (number) within the parenthesis."
      ]
    },
    {
      "cell_type": "markdown",
      "metadata": {
        "id": "5rWMoVbtQlva"
      },
      "source": [
        "# `tail()` function in Pandas"
      ]
    },
    {
      "cell_type": "markdown",
      "metadata": {
        "id": "seodkJdZQsAt"
      },
      "source": [
        "The `tail()` function checks the last 5 rows of the dataframe. The syntax to call this function would be: `df.tail()`. Just like the `head()` function, you can look at more rows by adding an integer in the parenthesis."
      ]
    },
    {
      "cell_type": "markdown",
      "metadata": {
        "id": "YPzn7RGxRJbt"
      },
      "source": [
        "# `info()` function in Pandas"
      ]
    },
    {
      "cell_type": "markdown",
      "metadata": {
        "id": "W-8x88KnRab_"
      },
      "source": [
        "The `info()` function looks at the actual datatypes that exist in a givem column. The syntax to call this function would be: `df.info()`."
      ]
    },
    {
      "cell_type": "markdown",
      "metadata": {
        "id": "91pvtRF9RtSA"
      },
      "source": [
        "# `describe()` function in Pandas"
      ]
    },
    {
      "cell_type": "markdown",
      "metadata": {
        "id": "p9_SyAVCR9Du"
      },
      "source": [
        "The `describe()` function looks at the summary statistics (mean, median, maximum and minimum values, etc...) of all of the values that exist in a column. The syntax to call this would be `df.describe()`."
      ]
    },
    {
      "cell_type": "markdown",
      "metadata": {
        "id": "aV0oC-FoSnVw"
      },
      "source": [
        "# `shape` in Pandas"
      ]
    },
    {
      "cell_type": "markdown",
      "metadata": {
        "id": "IKujmcCOSs7_"
      },
      "source": [
        "The `shape` function in pandas looks at the total number of rows and the total number of columns that exist in a dataset. The syntax for this would be `df.shape`. This would return a parameter of `(number_of_rows, number_of_columns)`."
      ]
    }
  ]
}