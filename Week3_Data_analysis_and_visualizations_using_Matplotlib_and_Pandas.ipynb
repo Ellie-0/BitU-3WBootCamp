{
  "nbformat": 4,
  "nbformat_minor": 0,
  "metadata": {
    "colab": {
      "name": "Week3-Data-analysis-and-visualizations-using-Matplotlib-and-Pandas.ipynb",
      "provenance": [],
      "authorship_tag": "ABX9TyP/V2J85R7Teccv+9xoykQb",
      "include_colab_link": true
    },
    "kernelspec": {
      "name": "python3",
      "display_name": "Python 3"
    }
  },
  "cells": [
    {
      "cell_type": "markdown",
      "metadata": {
        "id": "view-in-github",
        "colab_type": "text"
      },
      "source": [
        "<a href=\"https://colab.research.google.com/github/bitprj/BitU-3WBootCamp/blob/shayan-riyaz/Week3_Data_analysis_and_visualizations_using_Matplotlib_and_Pandas.ipynb\" target=\"_parent\"><img src=\"https://colab.research.google.com/assets/colab-badge.svg\" alt=\"Open In Colab\"/></a>"
      ]
    },
    {
      "cell_type": "markdown",
      "metadata": {
        "id": "B-bG6hEs0W2A"
      },
      "source": [
        "# <div align=\"center\">Data analysis and visualizations using Matplotlib and Pandas</div>"
      ]
    },
    {
      "cell_type": "markdown",
      "metadata": {
        "id": "e6w-ktN0YRrd"
      },
      "source": [
        "\n",
        "- What is Data Visualization.\n",
        "- Why should we use data visualization\n",
        "- About the datasets\n",
        "    - Stock Market Index\n",
        "    - ~California Housing~ \n",
        "- Goals\n",
        "    - Matplotlib\n",
        "        - ~Functional Method~\n",
        "        - ~Object Oriented Method~\n",
        "    - Pandas\n",
        "        - DataFrame\n",
        "        - ~Series~\n",
        "- Let's get started\n",
        "    - Loading Files\n",
        "    - Working with Time-Series\n",
        "    - Figures and Subplots\n",
        "    - The ```plt.plot``` and ```df.plot``` functions.\n",
        "    - **1.0 - Now Try This**\n",
        "    - Colors, Markers, and Line Styles\n",
        "    - **2.0 - Now Try This**\n",
        "    - Ticks, Labels and Legends\n",
        "    - **3.0 - Now Try This**\n",
        "    - Adding Legends\n",
        "    - **4.0 - Now Try This**\n",
        "    - Saving plots to file.\n",
        "- Types of Graphs and Charts using ```kind```\n",
        "    - Bar Charts\n",
        "    - **5.0 - Now Try This**\n",
        "    - Histogram\n",
        "    - **6.0 - Now Try This**\n",
        "    - Line Charts\n",
        "    - Scatter plots\n",
        "    - **7.0 - Now Try This**\n",
        "- ~Tutorial - Analyzing the California Housing Dataset~\n",
        "    - ~About the Dataset~\n",
        "    - ~Import Libraries and unpack file~\n",
        "    - ~Visualizing the DataFrames~\n",
        "    - ~Mapping Geographical Data~\n",
        "- References\n",
        "- Appendix"
      ]
    },
    {
      "cell_type": "code",
      "metadata": {
        "id": "bRhpJ7Kr0T1A"
      },
      "source": [
        ""
      ],
      "execution_count": null,
      "outputs": []
    }
  ]
}