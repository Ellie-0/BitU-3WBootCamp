{
  "nbformat": 4,
  "nbformat_minor": 0,
  "metadata": {
    "colab": {
      "name": "Week1_Introduction_to_data_and_Python.ipynb",
      "provenance": [],
      "include_colab_link": true
    },
    "kernelspec": {
      "name": "python3",
      "display_name": "Python 3"
    }
  },
  "cells": [
    {
      "cell_type": "markdown",
      "metadata": {
        "id": "view-in-github",
        "colab_type": "text"
      },
      "source": [
        "<a href=\"https://colab.research.google.com/github/bitprj/BitU-3WBootCamp/blob/Atul/Week1_Introduction_to_data_and_Python.ipynb\" target=\"_parent\"><img src=\"https://colab.research.google.com/assets/colab-badge.svg\" alt=\"Open In Colab\"/></a>"
      ]
    },
    {
      "cell_type": "markdown",
      "metadata": {
        "id": "Z_SaUKRwmqha"
      },
      "source": [
        "# <div align=\"center\">Introduction to Data and Python</div>"
      ]
    },
    {
      "cell_type": "markdown",
      "metadata": {
        "id": "JKIeFpiY-pJc"
      },
      "source": [
        "### Table of Contents (Outline)\n",
        "\n",
        "- Why, Where, and How we use Python *\n",
        "- **Intro to Data Science & Programming** (Fab 4 should write these!)\n",
        "- What we will be learning today\n",
        "  - Goals\n",
        "- Numbers\n",
        "  - Types of Numbers\n",
        "  - Basic Arithmetic\n",
        "  - ~~Arithmetic Continued~~\n",
        "- Variable Assignment *\n",
        "- Strings\n",
        "  - Creating Strings *\n",
        "  - ~~Printing Strings~~\n",
        "  - String Basics\n",
        "  - String Properties *\n",
        "  - Basic Built-In String Methods *\n",
        "  - ~~Print Formatting~~\n",
        "  - **1.0 Now Try This**\n",
        "- Booleans *\n",
        "- Lists\n",
        "  - Creating Lists\n",
        "  - Basic List Methods *\n",
        "  - Nesting Lists\n",
        "  - ~~List Comprehensions~~\n",
        "  - **2.0 Now Try This**\n",
        "- Tuples\n",
        "  - Constructing Tuples\n",
        "  - Basic Tuple Methods\n",
        "  - Immutability\n",
        "  - When To Use Tuples\n",
        "  - **3.0 Now Try This**\n",
        "- Dictionaries\n",
        "  - Constructing a Dictionary\n",
        "  - Nesting With Dictionaries\n",
        "  - Dictionary Methods\n",
        "  - **4.0 Now Try This**\n",
        "- Comparison Operators *\n",
        "- Functions\n",
        "  - Intro to Functions *\n",
        "  - ~~`def` Statements~~\n",
        "  - Examples *\n",
        "  - ~~Using `return`~~\n",
        "  - **5.0 Now Try This**\n",
        "- ~~Errors and Exception Handling~~\n",
        "  - ~~`try` and `except`~~\n",
        "  - ~~`finally`~~\n",
        "  - ~~**6.0 Now Try This**~~\n",
        "- Modules and Packages\n",
        "  - ~~Writing Modules~~\n",
        "  - ~~Writing Modules with Jupyter~~\n",
        "  - ~~Writing Scripts~~\n",
        "  - ~~Running Scripts~~\n",
        "  - ~~Passing Command Line Arguments~~\n",
        "  - Understanding Modules\n",
        "  - Exploring Built-in Modules\n",
        "  - ~~Writing Packages~~\n",
        "  - Pipeline for Packages and Modules\n",
        "- Resources\n"
      ]
    },
    {
      "cell_type": "markdown",
      "metadata": {
        "id": "pgwfO4lclgJd"
      },
      "source": [
        "# KEY:\n",
        "\n",
        "**Bold** sections need to be added in.\n",
        "\n",
        "Starred (`*`) sections need to be modified in some way (condensed, reduced, clarified, etc.)\n",
        "\n",
        "~~Striked~~ sections are planned to be deleted/not included in the rewrite.\n",
        "\n",
        "\n",
        "\n"
      ]
    },
    {
      "cell_type": "markdown",
      "metadata": {
        "id": "yn56q8ie3bCK"
      },
      "source": [
        "## Numbers"
      ]
    },
    {
      "cell_type": "markdown",
      "metadata": {
        "id": "LvQ8LBU22wVE"
      },
      "source": [
        "### Types of numbers\n",
        "There are two different kinds of numbers we'll be going over in this course: integers and floats.\n",
        "\n",
        "Integers are whole numbers, like `3`,`100`,`-2000`.\n",
        "\n",
        "Floats are numbers with decimals, like `-3.14`,`2.917`,`1.1`.\n",
        "\n",
        "You can use Python to do basic math with these numbers."
      ]
    },
    {
      "cell_type": "markdown",
      "metadata": {
        "id": "WlZ5c0m_2wVJ"
      },
      "source": [
        "### Basic Arithmetic"
      ]
    },
    {
      "cell_type": "markdown",
      "metadata": {
        "id": "EvBmpNNDX0EH"
      },
      "source": [
        "Addition"
      ]
    },
    {
      "cell_type": "code",
      "metadata": {
        "id": "P0fJlFvk2wVQ"
      },
      "source": [
        "4+5"
      ],
      "execution_count": null,
      "outputs": []
    },
    {
      "cell_type": "markdown",
      "metadata": {
        "id": "JJDFcj0ZYGhI"
      },
      "source": [
        "Subtraction"
      ]
    },
    {
      "cell_type": "code",
      "metadata": {
        "id": "mtlYVK6b2wVj"
      },
      "source": [
        "5-10"
      ],
      "execution_count": null,
      "outputs": []
    },
    {
      "cell_type": "markdown",
      "metadata": {
        "id": "vPemMnyxYUKu"
      },
      "source": [
        "Multiplication"
      ]
    },
    {
      "cell_type": "code",
      "metadata": {
        "id": "_1f4Ofza2wV7"
      },
      "source": [
        "4.2*8.3"
      ],
      "execution_count": null,
      "outputs": []
    },
    {
      "cell_type": "markdown",
      "metadata": {
        "id": "s0bnnWMEYWtZ"
      },
      "source": [
        "Division"
      ]
    },
    {
      "cell_type": "code",
      "metadata": {
        "id": "wUCF99zx2wWC"
      },
      "source": [
        "25/5"
      ],
      "execution_count": null,
      "outputs": []
    },
    {
      "cell_type": "markdown",
      "metadata": {
        "id": "P3PhLjndYYY7"
      },
      "source": [
        "Floor Division"
      ]
    },
    {
      "cell_type": "code",
      "metadata": {
        "id": "DFVGzwgQ2wWH",
        "outputId": "474ca0e3-6309-489b-ad16-44b36035e231",
        "colab": {
          "base_uri": "https://localhost:8080/",
          "height": 35
        }
      },
      "source": [
        "12//7"
      ],
      "execution_count": null,
      "outputs": [
        {
          "output_type": "execute_result",
          "data": {
            "text/plain": [
              "1"
            ]
          },
          "metadata": {
            "tags": []
          },
          "execution_count": 2
        }
      ]
    },
    {
      "cell_type": "markdown",
      "metadata": {
        "id": "HKMA-ctF2wWS"
      },
      "source": [
        "What floor division does is return the quotient of a division without the remainder.\n",
        "\n",
        "If you do 12 divided by 7 normally, you would get approximately 1.71. Floor division leaves out the decimals and just takes the integer."
      ]
    },
    {
      "cell_type": "markdown",
      "metadata": {
        "id": "XtyIEBnHaIE-"
      },
      "source": [
        "Modulo"
      ]
    },
    {
      "cell_type": "code",
      "metadata": {
        "id": "zAwDlKQr2wWW",
        "outputId": "60995328-217f-4851-bb63-108f85b18bed",
        "colab": {
          "base_uri": "https://localhost:8080/",
          "height": 35
        }
      },
      "source": [
        "9 % 4"
      ],
      "execution_count": null,
      "outputs": [
        {
          "output_type": "execute_result",
          "data": {
            "text/plain": [
              "1"
            ]
          },
          "metadata": {
            "tags": []
          },
          "execution_count": 3
        }
      ]
    },
    {
      "cell_type": "markdown",
      "metadata": {
        "id": "SmrF4pzM2wWd"
      },
      "source": [
        "Modulo, or mod, returns the remainder of a division.\n",
        "\n",
        "For example, 4 goes into 9 twice with a remainder of 1."
      ]
    },
    {
      "cell_type": "markdown",
      "metadata": {
        "id": "XSCsHC222wXP"
      },
      "source": [
        "## Variable Assignments\n",
        "\n",
        "In programming, you store data in variables. They work exactly the same as the variables you've seen in math classes.\n",
        "\n",
        "Let's see some examples:"
      ]
    },
    {
      "cell_type": "code",
      "metadata": {
        "id": "PRjmRrLJ2wXQ"
      },
      "source": [
        "# Let's create a variable called \"a\" and assign it to equal the number 10\n",
        "a = 10"
      ],
      "execution_count": null,
      "outputs": []
    },
    {
      "cell_type": "markdown",
      "metadata": {
        "id": "2SZAO47P2wXY"
      },
      "source": [
        "Python will now substitute `a` with `10` whenever we work with that variable."
      ]
    },
    {
      "cell_type": "code",
      "metadata": {
        "id": "CNFrGd-m2wXa"
      },
      "source": [
        "# Adding the variables\n",
        "a+a"
      ],
      "execution_count": null,
      "outputs": []
    },
    {
      "cell_type": "markdown",
      "metadata": {
        "id": "TBfuZthz2wXg"
      },
      "source": [
        "Values of variables aren't set in stone. You can change them at any time."
      ]
    },
    {
      "cell_type": "code",
      "metadata": {
        "id": "IyUbGI6l2wXi"
      },
      "source": [
        "# Reassignment\n",
        "a = 20"
      ],
      "execution_count": null,
      "outputs": []
    },
    {
      "cell_type": "code",
      "metadata": {
        "id": "TGLcpU8j2wXn"
      },
      "source": [
        "# Check\n",
        "a+a"
      ],
      "execution_count": null,
      "outputs": []
    },
    {
      "cell_type": "markdown",
      "metadata": {
        "id": "CyeKAg962wXu"
      },
      "source": [
        "You don't have to just use numbers when assigning variables. You can even use other variables."
      ]
    },
    {
      "cell_type": "code",
      "metadata": {
        "id": "Ykxmc-gr2wX8"
      },
      "source": [
        "# Use A to redefine A\n",
        "a = a+a"
      ],
      "execution_count": null,
      "outputs": []
    },
    {
      "cell_type": "code",
      "metadata": {
        "id": "kuz0ctr92wX_"
      },
      "source": [
        "# Check \n",
        "a"
      ],
      "execution_count": null,
      "outputs": []
    },
    {
      "cell_type": "markdown",
      "metadata": {
        "id": "JaPrRdK3dfPK"
      },
      "source": [
        "There are a few rules when picking variable names:"
      ]
    },
    {
      "cell_type": "markdown",
      "metadata": {
        "id": "2cD46_8c2wYC"
      },
      "source": [
        "\n",
        "\n",
        "    1. Names can't start with a number. (E.g. 123name)\n",
        "    2. There can't be any spaces. (E.g. my name)\n",
        "          - Use underscores instead. (E.g. my_name)\n",
        "    3. Can't use any of these symbols :'\",<>/?|\\()!@#$%^&*~-+\n",
        "    4. Avoid using the characters 'l' (lowercase letter el), 'O' (uppercase letter oh), or 'I' (uppercase letter eye) as single letter variable names.\n",
        "    5. Avoid using words that have special meaning in Python like \"list\" and \"str\".\n",
        "    6. Using lowercase names are best practice.\n",
        "\n",
        "\n"
      ]
    },
    {
      "cell_type": "markdown",
      "metadata": {
        "id": "K5yQBMGofA4z"
      },
      "source": [
        "It's important to use meaningful variable names that accurately represent the variable's purpose. Single letter variable names are very easy to write, but can be very confusing when someone else is trying to understand your code."
      ]
    },
    {
      "cell_type": "code",
      "metadata": {
        "id": "vkyIeiFs2wYD"
      },
      "source": [
        "# Use variable names to keep better track of what's going on in your code!\n",
        "income = 1000\n",
        "\n",
        "tax_rate = 0.2\n",
        "\n",
        "taxes = income*tax_rate"
      ],
      "execution_count": null,
      "outputs": []
    },
    {
      "cell_type": "code",
      "metadata": {
        "id": "2YlBECQF2wYH"
      },
      "source": [
        "# Show the result!\n",
        "taxes"
      ],
      "execution_count": null,
      "outputs": []
    },
    {
      "cell_type": "markdown",
      "metadata": {
        "id": "kHJyh-qD2wYL"
      },
      "source": [
        "Now, we will go over the next **data type**: Strings."
      ]
    },
    {
      "cell_type": "markdown",
      "metadata": {
        "id": "P3C3zJ-7Nr_3"
      },
      "source": [
        "## Strings"
      ]
    },
    {
      "cell_type": "markdown",
      "metadata": {
        "id": "UH3RobEsNr_4"
      },
      "source": [
        "Strings are a combination of characters. Characters are singular letters, numbers, symbols, etc. \n",
        "\n",
        "More specifically, strings are a sequence, a set of things that follow a specific order. "
      ]
    },
    {
      "cell_type": "markdown",
      "metadata": {
        "id": "x6IrT_vuNr_5"
      },
      "source": [
        "### Creating Strings\n"
      ]
    },
    {
      "cell_type": "markdown",
      "metadata": {
        "id": "ZquKShWxfFa2"
      },
      "source": [
        "To create a string in Python, you must use quotes around your set of characters. "
      ]
    },
    {
      "cell_type": "code",
      "metadata": {
        "id": "rYqOQqWwNr_6"
      },
      "source": [
        "# A word\n",
        "'hi'"
      ],
      "execution_count": null,
      "outputs": []
    },
    {
      "cell_type": "code",
      "metadata": {
        "id": "B0h3v-fTNr__"
      },
      "source": [
        "# A phrase\n",
        "'A string can even be a sentence like this.'"
      ],
      "execution_count": null,
      "outputs": []
    },
    {
      "cell_type": "code",
      "metadata": {
        "id": "aqcRSHvPNsAC"
      },
      "source": [
        "# Using double quotes\n",
        "\"The quote type doesn't really matter.\""
      ],
      "execution_count": null,
      "outputs": []
    },
    {
      "cell_type": "markdown",
      "metadata": {
        "id": "xt7OF_LifZJH"
      },
      "source": [
        "Both single or double quotes are acceptable, but you have to be consistent."
      ]
    },
    {
      "cell_type": "code",
      "metadata": {
        "id": "mmszjr3vNsAG"
      },
      "source": [
        "# Be wary of contractions and apostrophes!\n",
        "'I'm using single quotes, but this will create an error'"
      ],
      "execution_count": null,
      "outputs": []
    },
    {
      "cell_type": "markdown",
      "metadata": {
        "id": "0MoF6XYPNsAJ"
      },
      "source": [
        "Use double quotes when dealing with sentences or words that have contractions."
      ]
    },
    {
      "cell_type": "code",
      "metadata": {
        "id": "wSVUTR4LNsAK"
      },
      "source": [
        "\"This shouldn't cause an error now.\""
      ],
      "execution_count": null,
      "outputs": []
    },
    {
      "cell_type": "markdown",
      "metadata": {
        "id": "4I_0dIPHNsAN"
      },
      "source": [
        "Transition"
      ]
    },
    {
      "cell_type": "markdown",
      "metadata": {
        "id": "5IkjMPlcNsAd"
      },
      "source": [
        "### String Basics"
      ]
    },
    {
      "cell_type": "markdown",
      "metadata": {
        "id": "3Ti5Nv7aNsAe"
      },
      "source": [
        "There are many built-in string **properties** that are useful when handling strings. \n",
        "\n",
        "For example, `len()`. This statement allows us to find the length (number of characters) in a string. "
      ]
    },
    {
      "cell_type": "code",
      "metadata": {
        "id": "uBNGvj9uNsAf"
      },
      "source": [
        "len('Hello World')"
      ],
      "execution_count": null,
      "outputs": []
    },
    {
      "cell_type": "markdown",
      "metadata": {
        "id": "AgTf4FqtcnD9"
      },
      "source": [
        "Since a string is a data type, we can assign it to a variable just like a number! \n"
      ]
    },
    {
      "cell_type": "code",
      "metadata": {
        "id": "RbYyeFrLNsAk"
      },
      "source": [
        "# Assign 'Hello World' to mystring variable\n",
        "mystring = 'Hello World'"
      ],
      "execution_count": null,
      "outputs": []
    },
    {
      "cell_type": "code",
      "metadata": {
        "id": "3sAvAFHzNsAp"
      },
      "source": [
        "# Did it work?\n",
        "mystring"
      ],
      "execution_count": null,
      "outputs": []
    },
    {
      "cell_type": "markdown",
      "metadata": {
        "id": "X9GNvLDRnKOX"
      },
      "source": [
        "To see what is inside a variable, use the `print()` statement. "
      ]
    },
    {
      "cell_type": "code",
      "metadata": {
        "id": "Dda7HfhGNsAr"
      },
      "source": [
        "# Print the variable mystring to see what is inside of it\n",
        "print(mystring) "
      ],
      "execution_count": null,
      "outputs": []
    },
    {
      "cell_type": "markdown",
      "metadata": {
        "id": "lk8bxjtCNsAw"
      },
      "source": [
        "Like we mentioned earlier, strings are an example of a sequence. More specifically, a sequence of characters. \n",
        "\n",
        "<font color=\"red\">This means strings are made up of individual elements that can be accessed separately. </font>\n",
        "\n",
        "To take apart a string and work with individual characters, we use **indexing**. \n",
        "\n",
        "Each element of a sequence has an index. These indices are numbers that represent the position of the element in the sequence. For example, in the string `'Hello World'`, the first character, `H` would have an index of 0. Note that in Python, indices start with 0 and not 1. \n",
        "\n"
      ]
    },
    {
      "cell_type": "code",
      "metadata": {
        "id": "Fgzo1XrCNsAx"
      },
      "source": [
        "# Extract first character in a string.\n",
        "mystring[0]"
      ],
      "execution_count": null,
      "outputs": []
    },
    {
      "cell_type": "code",
      "metadata": {
        "id": "0kcd-9EZNsA1"
      },
      "source": [
        "mystring[1]"
      ],
      "execution_count": null,
      "outputs": []
    },
    {
      "cell_type": "code",
      "metadata": {
        "id": "8M44L4hMNsA4"
      },
      "source": [
        "mystring[2]"
      ],
      "execution_count": null,
      "outputs": []
    },
    {
      "cell_type": "markdown",
      "metadata": {
        "id": "ky7Zm-NENsA7"
      },
      "source": [
        "We can use a <code>:</code> to perform *slicing* which grabs everything up to a designated index. For example:"
      ]
    },
    {
      "cell_type": "code",
      "metadata": {
        "id": "jQKnWrNtNsA8"
      },
      "source": [
        "# Grab all letters past the first letter all the way to the end of the string\n",
        "mystring[:]"
      ],
      "execution_count": null,
      "outputs": []
    },
    {
      "cell_type": "code",
      "metadata": {
        "id": "otKc90t_NsBB"
      },
      "source": [
        "# This does not change the original string in any way\n",
        "mystring"
      ],
      "execution_count": null,
      "outputs": []
    },
    {
      "cell_type": "code",
      "metadata": {
        "id": "f9xrirSANsBD"
      },
      "source": [
        "# Grab everything UP TO the 5th index\n",
        "mystring[:5]"
      ],
      "execution_count": null,
      "outputs": []
    },
    {
      "cell_type": "markdown",
      "metadata": {
        "id": "5dp4GDO0NsBG"
      },
      "source": [
        "Note what happened above. We told Python to grab everything from 0 up to 5. It doesn't include the character in the 5th index. You'll notice this a lot in Python, where statements are usually in the context of \"up to, but not including\"."
      ]
    },
    {
      "cell_type": "code",
      "metadata": {
        "id": "WfpDNfiKNsBG"
      },
      "source": [
        "# The whole string\n",
        "mystring[:]"
      ],
      "execution_count": null,
      "outputs": []
    },
    {
      "cell_type": "markdown",
      "metadata": {
        "id": "lksAiQL6NsBK"
      },
      "source": [
        "We don't have to go forwards. Negative indexing allows us to start from the *end* of the string and work backwards."
      ]
    },
    {
      "cell_type": "code",
      "metadata": {
        "id": "8TywqyZ-NsBL"
      },
      "source": [
        "# Last letter (one index behind 0 so it loops back around)\n",
        "mystring[-1]"
      ],
      "execution_count": null,
      "outputs": []
    },
    {
      "cell_type": "code",
      "metadata": {
        "id": "LTzPovveNsBO"
      },
      "source": [
        "# Grab everything but the last letter\n",
        "mystring[:-1]"
      ],
      "execution_count": null,
      "outputs": []
    },
    {
      "cell_type": "markdown",
      "metadata": {
        "id": "XxBxY0SBNsBQ"
      },
      "source": [
        "We can also use indexing and slicing to grab characters by a specified step size (1 is the default). See the following examples."
      ]
    },
    {
      "cell_type": "code",
      "metadata": {
        "id": "D4GZPT3mNsBR"
      },
      "source": [
        "# Grab everything, but go in steps size of 1\n",
        "mystring[::1]"
      ],
      "execution_count": null,
      "outputs": []
    },
    {
      "cell_type": "code",
      "metadata": {
        "id": "PjDfDe3gNsBU"
      },
      "source": [
        "# Grab everything, but go in step sizes of 2\n",
        "mystring[0::2]"
      ],
      "execution_count": null,
      "outputs": []
    },
    {
      "cell_type": "code",
      "metadata": {
        "id": "5t-mgi-KNsBW"
      },
      "source": [
        "# A handy way to reverse a string!\n",
        "mystring[::-1]"
      ],
      "execution_count": null,
      "outputs": []
    },
    {
      "cell_type": "markdown",
      "metadata": {
        "id": "jPCEC_LvfRZp"
      },
      "source": [
        "Strings have certain properties to them that affect the way we can, and cannot, interact with them."
      ]
    },
    {
      "cell_type": "markdown",
      "metadata": {
        "id": "P1U1VtJENsBZ"
      },
      "source": [
        "### String Properties\n",
        "It's important to note that strings are *immutable*. This means that once a string is created, the elements within it can not be changed or replaced. For example:"
      ]
    },
    {
      "cell_type": "code",
      "metadata": {
        "id": "xvPyEmYpNsBa"
      },
      "source": [
        "mystring"
      ],
      "execution_count": null,
      "outputs": []
    },
    {
      "cell_type": "code",
      "metadata": {
        "id": "NDk66bjZNsBc"
      },
      "source": [
        "# Let's try to change the first letter\n",
        "mystring[0] = 'a'"
      ],
      "execution_count": null,
      "outputs": []
    },
    {
      "cell_type": "markdown",
      "metadata": {
        "id": "p_Q9e1MoNsBf"
      },
      "source": [
        "The error tells it us to straight. Strings do not support assignment the same way other data types do.\n",
        "\n",
        "However, we *can* **concatenate** strings."
      ]
    },
    {
      "cell_type": "code",
      "metadata": {
        "id": "MUaQkaxfNsBg"
      },
      "source": [
        "mystring"
      ],
      "execution_count": null,
      "outputs": []
    },
    {
      "cell_type": "code",
      "metadata": {
        "id": "6MkkAvD9NsBk"
      },
      "source": [
        "# Combine strings through concatenation\n",
        "mystring + \". It's me.\""
      ],
      "execution_count": null,
      "outputs": []
    },
    {
      "cell_type": "code",
      "metadata": {
        "id": "_BEU6-T0NsBn"
      },
      "source": [
        "# We can reassign mystring to a new value, however\n",
        "mystring = mystring + \". It's me.\""
      ],
      "execution_count": null,
      "outputs": []
    },
    {
      "cell_type": "code",
      "metadata": {
        "id": "vdYO-sKKNsBq"
      },
      "source": [
        "print(mystring)"
      ],
      "execution_count": null,
      "outputs": []
    },
    {
      "cell_type": "code",
      "metadata": {
        "id": "42B3Xw-KNsBt"
      },
      "source": [
        "mystring"
      ],
      "execution_count": null,
      "outputs": []
    },
    {
      "cell_type": "markdown",
      "metadata": {
        "id": "n0u6E5p7NsBw"
      },
      "source": [
        "One neat trick we can do with strings is use multiplication whenever we want to repeat characters a certain number of times."
      ]
    },
    {
      "cell_type": "code",
      "metadata": {
        "id": "eFYcAGkWNsBw"
      },
      "source": [
        "letter = 'a'"
      ],
      "execution_count": null,
      "outputs": []
    },
    {
      "cell_type": "code",
      "metadata": {
        "id": "9W5K-pOqNsBy"
      },
      "source": [
        "letter*20"
      ],
      "execution_count": null,
      "outputs": []
    },
    {
      "cell_type": "markdown",
      "metadata": {
        "id": "QVrhPwoGhubY"
      },
      "source": [
        "We already saw how to use len(). This is an example of a built-in string method, but there are quite a few more which we will cover next."
      ]
    },
    {
      "cell_type": "markdown",
      "metadata": {
        "id": "m7KcM_wENsB1"
      },
      "source": [
        "### Basic Built-in String methods\n",
        "\n",
        "Objects in Python usually have built-in methods. These methods are functions inside the object that can perform actions or commands on the object itself.\n",
        "\n",
        "We call methods with a period and then the method name. Methods are in the form:\n",
        "\n",
        "object.method(parameters)\n",
        "\n",
        "Parameters are extra arguments we can pass into the method. Don't worry if the details don't make 100% sense right now. We will be going into more depth with these later.\n",
        "\n",
        "Here are some examples of built-in methods in strings:"
      ]
    },
    {
      "cell_type": "code",
      "metadata": {
        "id": "NoO8TSuwNsB2"
      },
      "source": [
        "mystring"
      ],
      "execution_count": null,
      "outputs": []
    },
    {
      "cell_type": "code",
      "metadata": {
        "id": "7RyvdFNGNsB5"
      },
      "source": [
        "# Make all letters in a string uppercase\n",
        "mystring.upper()"
      ],
      "execution_count": null,
      "outputs": []
    },
    {
      "cell_type": "code",
      "metadata": {
        "id": "0sUWl6CANsB-"
      },
      "source": [
        "# Make all letters in a string lowercase\n",
        "mystring.lower()"
      ],
      "execution_count": null,
      "outputs": []
    },
    {
      "cell_type": "code",
      "metadata": {
        "id": "z7tHM7qPNsCC"
      },
      "source": [
        "# Split strings with a specified character as the separator. Spaces are the default.\n",
        "mystring.split()"
      ],
      "execution_count": null,
      "outputs": []
    },
    {
      "cell_type": "code",
      "metadata": {
        "id": "Rr-Qqn3tNsCH"
      },
      "source": [
        "# Split by a specific character (doesn't include the character in the resulting string)\n",
        "mystring.split('W')"
      ],
      "execution_count": null,
      "outputs": []
    },
    {
      "cell_type": "markdown",
      "metadata": {
        "id": "4o2jcAAhNsCL"
      },
      "source": [
        "There are many more methods than the ones covered here. Visit the Advanced String section to find out more!"
      ]
    },
    {
      "cell_type": "markdown",
      "metadata": {
        "id": "IENyrelfNsCM"
      },
      "source": [
        "### Print Formatting\n",
        "\n",
        "We can use the .format() method to inject string-formatted objects into strings\n",
        "\n",
        "The easiest way to show this is through an example:"
      ]
    },
    {
      "cell_type": "code",
      "metadata": {
        "id": "wxqKz5c8NsCM"
      },
      "source": [
        "'The Eiffel Tower is in: {}'.format('Paris')"
      ],
      "execution_count": null,
      "outputs": []
    },
    {
      "cell_type": "code",
      "metadata": {
        "id": "ZtwDFyu7k0U6"
      },
      "source": [
        "# We can also use variables\n",
        "paris = \"Paris\"\n",
        "\n",
        "'The Eiffel Tower is in: {}'.format(paris)"
      ],
      "execution_count": null,
      "outputs": []
    },
    {
      "cell_type": "markdown",
      "metadata": {
        "id": "x90qHJh7DzpF"
      },
      "source": [
        "### 1.0 Now Try This"
      ]
    },
    {
      "cell_type": "markdown",
      "metadata": {
        "id": "2jQg-dN0ZbY-"
      },
      "source": [
        "Given the string 'Amsterdam' give an index command that returns 'd'. Enter your code in the cell below:"
      ]
    },
    {
      "cell_type": "code",
      "metadata": {
        "id": "3G3a5dNZZbY_"
      },
      "source": [
        "# Once your have verified your answer please uncomment the line below and run it, this will save your code \n",
        "#%%writefile -a {folder_location}/1.py\n",
        "# Please note that if you uncomment and rub multiple times, the program will keep appending to the file.\n",
        "\n",
        "s = 'Amsterdam'\n",
        "# Print out 'd' using indexing\n",
        "answer1 = # INSERT CODE HERE\n",
        "print(answer1)\n"
      ],
      "execution_count": null,
      "outputs": []
    },
    {
      "cell_type": "markdown",
      "metadata": {
        "id": "ilw29z4OZbZE"
      },
      "source": [
        "Reverse the string 'Amsterdam' using slicing:"
      ]
    },
    {
      "cell_type": "code",
      "metadata": {
        "id": "BABsKQN4ZbZE"
      },
      "source": [
        "# Once your have verified your answer please uncomment the line below and run it, this will save your code \n",
        "#%%writefile -a {folder_location}/1.py\n",
        "# Please note that if you uncomment and rub multiple times, the program will keep appending to the file.\n",
        "\n",
        "s ='Amsterdam'\n",
        "# Reverse the string using slicing\n",
        "answer2 = # INSERT CODE HERE\n",
        "print(answer2)"
      ],
      "execution_count": null,
      "outputs": []
    },
    {
      "cell_type": "markdown",
      "metadata": {
        "id": "rgM2B4rmZbZI"
      },
      "source": [
        "Given the string Amsterdam, extract the letter 'm' using negative indexing."
      ]
    },
    {
      "cell_type": "code",
      "metadata": {
        "id": "rZiItM7hZbZK"
      },
      "source": [
        "# Once your have verified your answer please uncomment the line below and run it, this will save your code \n",
        "#%%writefile -a {folder_location}/1.py\n",
        "# Please note that if you uncomment and rub multiple times, the program will keep appending to the file.\n",
        "\n",
        "s ='Amsterdam'\n",
        "\n",
        "# Print out the 'm'\n",
        "answer3 = # INSERT CODE HERE\n",
        "print(answer3)"
      ],
      "execution_count": null,
      "outputs": []
    }
  ]
}