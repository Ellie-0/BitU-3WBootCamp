{
  "nbformat": 4,
  "nbformat_minor": 0,
  "metadata": {
    "colab": {
      "name": "Week1_Introduction_to_data_and_Python.ipynb",
      "provenance": [],
      "include_colab_link": true
    },
    "kernelspec": {
      "name": "python3",
      "display_name": "Python 3"
    }
  },
  "cells": [
    {
      "cell_type": "markdown",
      "metadata": {
        "id": "view-in-github",
        "colab_type": "text"
      },
      "source": [
        "<a href=\"https://colab.research.google.com/github/bitprj/BitU-3WBootCamp/blob/Atul/Week1_Introduction_to_data_and_Python.ipynb\" target=\"_parent\"><img src=\"https://colab.research.google.com/assets/colab-badge.svg\" alt=\"Open In Colab\"/></a>"
      ]
    },
    {
      "cell_type": "markdown",
      "metadata": {
        "id": "Z_SaUKRwmqha"
      },
      "source": [
        "# <div align=\"center\">Introduction to Data and Python</div>"
      ]
    },
    {
      "cell_type": "markdown",
      "metadata": {
        "id": "JKIeFpiY-pJc"
      },
      "source": [
        "### Table of Contents (Outline)\n",
        "\n",
        "- Why, Where, and How we use Python *\n",
        "- **Intro to Data Science & Programming** (Fab 4 should write these!)\n",
        "- What we will be learning today\n",
        "  - Goals\n",
        "- Numbers\n",
        "  - Types of Numbers\n",
        "  - Basic Arithmetic\n",
        "  - ~~Arithmetic Continued~~\n",
        "- Variable Assignment *\n",
        "- Strings\n",
        "  - Creating Strings *\n",
        "  - ~~Printing Strings~~\n",
        "  - String Basics\n",
        "  - String Properties *\n",
        "  - Basic Built-In String Methods *\n",
        "  - ~~Print Formatting~~\n",
        "  - **1.0 Now Try This**\n",
        "- Booleans *\n",
        "- Lists\n",
        "  - Creating Lists\n",
        "  - Basic List Methods *\n",
        "  - Nesting Lists\n",
        "  - ~~List Comprehensions~~\n",
        "  - **2.0 Now Try This**\n",
        "- Tuples\n",
        "  - Constructing Tuples\n",
        "  - Basic Tuple Methods\n",
        "  - Immutability\n",
        "  - When To Use Tuples\n",
        "  - **3.0 Now Try This**\n",
        "- Dictionaries\n",
        "  - Constructing a Dictionary\n",
        "  - Nesting With Dictionaries\n",
        "  - Dictionary Methods\n",
        "  - **4.0 Now Try This**\n",
        "- Comparison Operators *\n",
        "- Functions\n",
        "  - Intro to Functions *\n",
        "  - ~~`def` Statements~~\n",
        "  - Examples *\n",
        "  - ~~Using `return`~~\n",
        "  - **5.0 Now Try This**\n",
        "- ~~Errors and Exception Handling~~\n",
        "  - ~~`try` and `except`~~\n",
        "  - ~~`finally`~~\n",
        "  - ~~**6.0 Now Try This**~~\n",
        "- Modules and Packages\n",
        "  - ~~Writing Modules~~\n",
        "  - ~~Writing Modules with Jupyter~~\n",
        "  - ~~Writing Scripts~~\n",
        "  - ~~Running Scripts~~\n",
        "  - ~~Passing Command Line Arguments~~\n",
        "  - Understanding Modules\n",
        "  - Exploring Built-in Modules\n",
        "  - ~~Writing Packages~~\n",
        "  - Pipeline for Packages and Modules\n",
        "- Resources\n"
      ]
    },
    {
      "cell_type": "markdown",
      "metadata": {
        "id": "pgwfO4lclgJd"
      },
      "source": [
        "# KEY:\n",
        "\n",
        "**Bold** sections need to be added in.\n",
        "\n",
        "Starred (`*`) sections need to be modified in some way (condensed, reduced, clarified, etc.)\n",
        "\n",
        "~~Striked~~ sections are planned to be deleted/not included in the rewrite.\n",
        "\n",
        "\n",
        "\n"
      ]
    },
    {
      "cell_type": "markdown",
      "metadata": {
        "id": "yn56q8ie3bCK"
      },
      "source": [
        "## Numbers"
      ]
    },
    {
      "cell_type": "markdown",
      "metadata": {
        "id": "LvQ8LBU22wVE"
      },
      "source": [
        "### Types of numbers\n",
        "There are two different kinds of numbers we'll be going over in this course: integers and floats.\n",
        "\n",
        "Integers are whole numbers, like `3`,`100`,`-2000`.\n",
        "\n",
        "Floats are numbers with decimals, like `-3.14`,`2.917`,`1.1`.\n",
        "\n",
        "You can use Python to do basic math with these numbers."
      ]
    },
    {
      "cell_type": "markdown",
      "metadata": {
        "id": "WlZ5c0m_2wVJ"
      },
      "source": [
        "### Basic Arithmetic"
      ]
    },
    {
      "cell_type": "markdown",
      "metadata": {
        "id": "EvBmpNNDX0EH"
      },
      "source": [
        "Addition"
      ]
    },
    {
      "cell_type": "code",
      "metadata": {
        "id": "P0fJlFvk2wVQ"
      },
      "source": [
        "4+5"
      ],
      "execution_count": null,
      "outputs": []
    },
    {
      "cell_type": "markdown",
      "metadata": {
        "id": "JJDFcj0ZYGhI"
      },
      "source": [
        "Subtraction"
      ]
    },
    {
      "cell_type": "code",
      "metadata": {
        "id": "mtlYVK6b2wVj"
      },
      "source": [
        "5-10"
      ],
      "execution_count": null,
      "outputs": []
    },
    {
      "cell_type": "markdown",
      "metadata": {
        "id": "vPemMnyxYUKu"
      },
      "source": [
        "Multiplication"
      ]
    },
    {
      "cell_type": "code",
      "metadata": {
        "id": "_1f4Ofza2wV7"
      },
      "source": [
        "4.2*8.3"
      ],
      "execution_count": null,
      "outputs": []
    },
    {
      "cell_type": "markdown",
      "metadata": {
        "id": "s0bnnWMEYWtZ"
      },
      "source": [
        "Division"
      ]
    },
    {
      "cell_type": "code",
      "metadata": {
        "id": "wUCF99zx2wWC"
      },
      "source": [
        "25/5"
      ],
      "execution_count": null,
      "outputs": []
    },
    {
      "cell_type": "markdown",
      "metadata": {
        "id": "P3PhLjndYYY7"
      },
      "source": [
        "Floor Division"
      ]
    },
    {
      "cell_type": "code",
      "metadata": {
        "id": "DFVGzwgQ2wWH",
        "outputId": "474ca0e3-6309-489b-ad16-44b36035e231",
        "colab": {
          "base_uri": "https://localhost:8080/",
          "height": 35
        }
      },
      "source": [
        "12//7"
      ],
      "execution_count": 2,
      "outputs": [
        {
          "output_type": "execute_result",
          "data": {
            "text/plain": [
              "1"
            ]
          },
          "metadata": {
            "tags": []
          },
          "execution_count": 2
        }
      ]
    },
    {
      "cell_type": "markdown",
      "metadata": {
        "id": "HKMA-ctF2wWS"
      },
      "source": [
        "What floor division does is return the quotient of a division without the remainder.\n",
        "\n",
        "If you do 12 divided by 7 normally, you would get approximately 1.71. Floor division leaves out the decimals and just takes the integer."
      ]
    },
    {
      "cell_type": "markdown",
      "metadata": {
        "id": "XtyIEBnHaIE-"
      },
      "source": [
        "Modulo"
      ]
    },
    {
      "cell_type": "code",
      "metadata": {
        "id": "zAwDlKQr2wWW",
        "outputId": "60995328-217f-4851-bb63-108f85b18bed",
        "colab": {
          "base_uri": "https://localhost:8080/",
          "height": 35
        }
      },
      "source": [
        "9 % 4"
      ],
      "execution_count": 3,
      "outputs": [
        {
          "output_type": "execute_result",
          "data": {
            "text/plain": [
              "1"
            ]
          },
          "metadata": {
            "tags": []
          },
          "execution_count": 3
        }
      ]
    },
    {
      "cell_type": "markdown",
      "metadata": {
        "id": "SmrF4pzM2wWd"
      },
      "source": [
        "Modulo, or mod, returns the remainder of a division.\n",
        "\n",
        "For example, 4 goes into 9 twice with a remainder of 1."
      ]
    },
    {
      "cell_type": "markdown",
      "metadata": {
        "id": "XSCsHC222wXP"
      },
      "source": [
        "## Variable Assignments\n",
        "\n",
        "In programming, you store data in variables. They work exactly the same as the variables you've seen in math classes.\n",
        "\n",
        "Let's see some examples:"
      ]
    },
    {
      "cell_type": "code",
      "metadata": {
        "id": "PRjmRrLJ2wXQ"
      },
      "source": [
        "# Let's create a variable called \"a\" and assign it to equal the number 10\n",
        "a = 10"
      ],
      "execution_count": null,
      "outputs": []
    },
    {
      "cell_type": "markdown",
      "metadata": {
        "id": "2SZAO47P2wXY"
      },
      "source": [
        "Python will now substitute `a` with `10` whenever we work with that variable."
      ]
    },
    {
      "cell_type": "code",
      "metadata": {
        "id": "CNFrGd-m2wXa"
      },
      "source": [
        "# Adding the variables\n",
        "a+a"
      ],
      "execution_count": null,
      "outputs": []
    },
    {
      "cell_type": "markdown",
      "metadata": {
        "id": "TBfuZthz2wXg"
      },
      "source": [
        "Values of variables aren't set in stone. You can change them at any time."
      ]
    },
    {
      "cell_type": "code",
      "metadata": {
        "id": "IyUbGI6l2wXi"
      },
      "source": [
        "# Reassignment\n",
        "a = 20"
      ],
      "execution_count": null,
      "outputs": []
    },
    {
      "cell_type": "code",
      "metadata": {
        "id": "TGLcpU8j2wXn"
      },
      "source": [
        "# Check\n",
        "a+a"
      ],
      "execution_count": null,
      "outputs": []
    },
    {
      "cell_type": "markdown",
      "metadata": {
        "id": "CyeKAg962wXu"
      },
      "source": [
        "You don't have to just use numbers when assigning variables. You can even use other variables."
      ]
    },
    {
      "cell_type": "code",
      "metadata": {
        "id": "Ykxmc-gr2wX8"
      },
      "source": [
        "# Use A to redefine A\n",
        "a = a+a"
      ],
      "execution_count": null,
      "outputs": []
    },
    {
      "cell_type": "code",
      "metadata": {
        "id": "kuz0ctr92wX_"
      },
      "source": [
        "# Check \n",
        "a"
      ],
      "execution_count": null,
      "outputs": []
    },
    {
      "cell_type": "markdown",
      "metadata": {
        "id": "JaPrRdK3dfPK"
      },
      "source": [
        "There are a few rules when picking variable names:"
      ]
    },
    {
      "cell_type": "markdown",
      "metadata": {
        "id": "2cD46_8c2wYC"
      },
      "source": [
        "\n",
        "\n",
        "    1. Names can't start with a number. (E.g. 123name)\n",
        "    2. There can't be any spaces. (E.g. my name)\n",
        "          - Use underscores instead. (E.g. my_name)\n",
        "    3. Can't use any of these symbols :'\",<>/?|\\()!@#$%^&*~-+\n",
        "    4. Avoid using the characters 'l' (lowercase letter el), 'O' (uppercase letter oh), or 'I' (uppercase letter eye) as single letter variable names.\n",
        "    5. Avoid using words that have special meaning in Python like \"list\" and \"str\".\n",
        "    6. Using lowercase names are best practice.\n",
        "\n",
        "\n"
      ]
    },
    {
      "cell_type": "markdown",
      "metadata": {
        "id": "K5yQBMGofA4z"
      },
      "source": [
        "It's important to use meaningful variable names that accurately represent the variable's purpose. Single letter variable names are very easy to write, but can be very confusing when someone else is trying to understand your code."
      ]
    },
    {
      "cell_type": "code",
      "metadata": {
        "id": "vkyIeiFs2wYD"
      },
      "source": [
        "# Use variable names to keep better track of what's going on in your code!\n",
        "income = 1000\n",
        "\n",
        "tax_rate = 0.2\n",
        "\n",
        "taxes = income*tax_rate"
      ],
      "execution_count": null,
      "outputs": []
    },
    {
      "cell_type": "code",
      "metadata": {
        "id": "2YlBECQF2wYH"
      },
      "source": [
        "# Show the result!\n",
        "taxes"
      ],
      "execution_count": null,
      "outputs": []
    },
    {
      "cell_type": "markdown",
      "metadata": {
        "id": "kHJyh-qD2wYL"
      },
      "source": [
        "**TRANSITION**"
      ]
    }
  ]
}