{
  "nbformat": 4,
  "nbformat_minor": 0,
  "metadata": {
    "colab": {
      "name": "Week1_Introduction_to_data_and_Python.ipynb",
      "provenance": [],
      "toc_visible": true,
      "include_colab_link": true
    },
    "kernelspec": {
      "name": "python3",
      "display_name": "Python 3"
    }
  },
  "cells": [
    {
      "cell_type": "markdown",
      "metadata": {
        "id": "view-in-github",
        "colab_type": "text"
      },
      "source": [
        "<a href=\"https://colab.research.google.com/github/bitprj/BitU-3WBootCamp/blob/Atul/Week1_Introduction_to_data_and_Python.ipynb\" target=\"_parent\"><img src=\"https://colab.research.google.com/assets/colab-badge.svg\" alt=\"Open In Colab\"/></a>"
      ]
    },
    {
      "cell_type": "markdown",
      "metadata": {
        "id": "Z_SaUKRwmqha"
      },
      "source": [
        "# <div align=\"center\">Introduction to Data and Python</div>"
      ]
    },
    {
      "cell_type": "markdown",
      "metadata": {
        "id": "JKIeFpiY-pJc"
      },
      "source": [
        "### Table of Contents (Outline)\n",
        "\n",
        "- Why, Where, and How we use Python *\n",
        "- **Intro to Data Science & Programming** (Fab 4 should write these!)\n",
        "- What we will be learning today\n",
        "  - Goals\n",
        "- Numbers\n",
        "  - Types of Numbers\n",
        "  - Basic Arithmetic\n",
        "  - ~~Arithmetic Continued~~\n",
        "- Variable Assignment *\n",
        "- Strings\n",
        "  - Creating Strings *\n",
        "  - ~~Printing Strings~~\n",
        "  - String Basics\n",
        "  - String Properties *\n",
        "  - Basic Built-In String Methods *\n",
        "  - ~~Print Formatting~~\n",
        "  - **1.0 Now Try This**\n",
        "- Booleans *\n",
        "- Lists\n",
        "  - Creating Lists\n",
        "  - Basic List Methods *\n",
        "  - Nesting Lists\n",
        "  - ~~List Comprehensions~~\n",
        "  - **2.0 Now Try This**\n",
        "- Tuples\n",
        "  - Constructing Tuples\n",
        "  - Basic Tuple Methods\n",
        "  - Immutability\n",
        "  - When To Use Tuples\n",
        "  - **3.0 Now Try This**\n",
        "- Dictionaries\n",
        "  - Constructing a Dictionary\n",
        "  - Nesting With Dictionaries\n",
        "  - Dictionary Methods\n",
        "  - **4.0 Now Try This**\n",
        "- Comparison Operators *\n",
        "- Functions\n",
        "  - Intro to Functions *\n",
        "  - ~~`def` Statements~~\n",
        "  - Examples *\n",
        "  - ~~Using `return`~~\n",
        "  - **5.0 Now Try This**\n",
        "- ~~Errors and Exception Handling~~\n",
        "  - ~~`try` and `except`~~\n",
        "  - ~~`finally`~~\n",
        "  - ~~**6.0 Now Try This**~~\n",
        "- Modules and Packages\n",
        "  - ~~Writing Modules~~\n",
        "  - ~~Writing Modules with Jupyter~~\n",
        "  - ~~Writing Scripts~~\n",
        "  - ~~Running Scripts~~\n",
        "  - ~~Passing Command Line Arguments~~\n",
        "  - Understanding Modules\n",
        "  - Exploring Built-in Modules\n",
        "  - ~~Writing Packages~~\n",
        "  - Pipeline for Packages and Modules\n",
        "- Resources\n"
      ]
    },
    {
      "cell_type": "markdown",
      "metadata": {
        "id": "pgwfO4lclgJd"
      },
      "source": [
        "# KEY:\n",
        "\n",
        "**Bold** sections need to be added in.\n",
        "\n",
        "Starred (`*`) sections need to be modified in some way (condensed, reduced, clarified, etc.)\n",
        "\n",
        "~~Striked~~ sections are planned to be deleted/not included in the rewrite.\n",
        "\n",
        "\n",
        "\n"
      ]
    },
    {
      "cell_type": "markdown",
      "metadata": {
        "id": "yn56q8ie3bCK"
      },
      "source": [
        "## Numbers"
      ]
    },
    {
      "cell_type": "markdown",
      "metadata": {
        "id": "LvQ8LBU22wVE"
      },
      "source": [
        "### Types of numbers\n",
        "There are two different kinds of numbers we'll be going over in this course: integers and floats.\n",
        "\n",
        "Integers are whole numbers, like `3`,`100`,`-2000`.\n",
        "\n",
        "Floats are numbers with decimals, like `-3.14`,`2.917`,`1.1`.\n",
        "\n",
        "You can use Python to do basic math with these numbers."
      ]
    },
    {
      "cell_type": "markdown",
      "metadata": {
        "id": "WlZ5c0m_2wVJ"
      },
      "source": [
        "### Basic Arithmetic"
      ]
    },
    {
      "cell_type": "markdown",
      "metadata": {
        "id": "EvBmpNNDX0EH"
      },
      "source": [
        "Addition"
      ]
    },
    {
      "cell_type": "code",
      "metadata": {
        "id": "P0fJlFvk2wVQ"
      },
      "source": [
        "4+5"
      ],
      "execution_count": null,
      "outputs": []
    },
    {
      "cell_type": "markdown",
      "metadata": {
        "id": "JJDFcj0ZYGhI"
      },
      "source": [
        "Subtraction"
      ]
    },
    {
      "cell_type": "code",
      "metadata": {
        "id": "mtlYVK6b2wVj"
      },
      "source": [
        "5-10"
      ],
      "execution_count": null,
      "outputs": []
    },
    {
      "cell_type": "markdown",
      "metadata": {
        "id": "vPemMnyxYUKu"
      },
      "source": [
        "Multiplication"
      ]
    },
    {
      "cell_type": "code",
      "metadata": {
        "id": "_1f4Ofza2wV7"
      },
      "source": [
        "4.2*8.3"
      ],
      "execution_count": null,
      "outputs": []
    },
    {
      "cell_type": "markdown",
      "metadata": {
        "id": "s0bnnWMEYWtZ"
      },
      "source": [
        "Division"
      ]
    },
    {
      "cell_type": "code",
      "metadata": {
        "id": "wUCF99zx2wWC"
      },
      "source": [
        "25/5"
      ],
      "execution_count": null,
      "outputs": []
    },
    {
      "cell_type": "markdown",
      "metadata": {
        "id": "P3PhLjndYYY7"
      },
      "source": [
        "Floor Division"
      ]
    },
    {
      "cell_type": "code",
      "metadata": {
        "id": "DFVGzwgQ2wWH",
        "outputId": "474ca0e3-6309-489b-ad16-44b36035e231",
        "colab": {
          "base_uri": "https://localhost:8080/",
          "height": 35
        }
      },
      "source": [
        "12//7"
      ],
      "execution_count": null,
      "outputs": [
        {
          "output_type": "execute_result",
          "data": {
            "text/plain": [
              "1"
            ]
          },
          "metadata": {
            "tags": []
          },
          "execution_count": 2
        }
      ]
    },
    {
      "cell_type": "markdown",
      "metadata": {
        "id": "HKMA-ctF2wWS"
      },
      "source": [
        "What floor division does is return the quotient of a division without the remainder.\n",
        "\n",
        "If you do 12 divided by 7 normally, you would get approximately 1.71. Floor division leaves out the decimals and just takes the integer."
      ]
    },
    {
      "cell_type": "markdown",
      "metadata": {
        "id": "XtyIEBnHaIE-"
      },
      "source": [
        "Modulo"
      ]
    },
    {
      "cell_type": "code",
      "metadata": {
        "id": "zAwDlKQr2wWW",
        "outputId": "60995328-217f-4851-bb63-108f85b18bed",
        "colab": {
          "base_uri": "https://localhost:8080/",
          "height": 35
        }
      },
      "source": [
        "9 % 4"
      ],
      "execution_count": null,
      "outputs": [
        {
          "output_type": "execute_result",
          "data": {
            "text/plain": [
              "1"
            ]
          },
          "metadata": {
            "tags": []
          },
          "execution_count": 3
        }
      ]
    },
    {
      "cell_type": "markdown",
      "metadata": {
        "id": "SmrF4pzM2wWd"
      },
      "source": [
        "Modulo, or mod, returns the remainder of a division.\n",
        "\n",
        "For example, 4 goes into 9 twice with a remainder of 1."
      ]
    },
    {
      "cell_type": "markdown",
      "metadata": {
        "id": "XSCsHC222wXP"
      },
      "source": [
        "## Variable Assignments\n",
        "\n",
        "In programming, you store data in variables. They work exactly the same as the variables you've seen in math classes.\n",
        "\n",
        "Let's see some examples:"
      ]
    },
    {
      "cell_type": "code",
      "metadata": {
        "id": "PRjmRrLJ2wXQ"
      },
      "source": [
        "# Let's create a variable called \"a\" and assign it to equal the number 10\n",
        "a = 10"
      ],
      "execution_count": null,
      "outputs": []
    },
    {
      "cell_type": "markdown",
      "metadata": {
        "id": "2SZAO47P2wXY"
      },
      "source": [
        "Python will now substitute `a` with `10` whenever we work with that variable."
      ]
    },
    {
      "cell_type": "code",
      "metadata": {
        "id": "CNFrGd-m2wXa"
      },
      "source": [
        "# Adding the variables\n",
        "a+a"
      ],
      "execution_count": null,
      "outputs": []
    },
    {
      "cell_type": "markdown",
      "metadata": {
        "id": "TBfuZthz2wXg"
      },
      "source": [
        "Values of variables aren't set in stone. You can change them at any time."
      ]
    },
    {
      "cell_type": "code",
      "metadata": {
        "id": "IyUbGI6l2wXi"
      },
      "source": [
        "# Reassignment\n",
        "a = 20"
      ],
      "execution_count": null,
      "outputs": []
    },
    {
      "cell_type": "code",
      "metadata": {
        "id": "TGLcpU8j2wXn"
      },
      "source": [
        "# Check\n",
        "a+a"
      ],
      "execution_count": null,
      "outputs": []
    },
    {
      "cell_type": "markdown",
      "metadata": {
        "id": "CyeKAg962wXu"
      },
      "source": [
        "You don't have to just use numbers when assigning variables. You can even use other variables."
      ]
    },
    {
      "cell_type": "code",
      "metadata": {
        "id": "Ykxmc-gr2wX8"
      },
      "source": [
        "# Use A to redefine A\n",
        "a = a+a"
      ],
      "execution_count": null,
      "outputs": []
    },
    {
      "cell_type": "code",
      "metadata": {
        "id": "kuz0ctr92wX_"
      },
      "source": [
        "# Check \n",
        "a"
      ],
      "execution_count": null,
      "outputs": []
    },
    {
      "cell_type": "markdown",
      "metadata": {
        "id": "JaPrRdK3dfPK"
      },
      "source": [
        "There are a few rules when picking variable names:"
      ]
    },
    {
      "cell_type": "markdown",
      "metadata": {
        "id": "2cD46_8c2wYC"
      },
      "source": [
        "\n",
        "\n",
        "    1. Names can't start with a number. (E.g. 123name)\n",
        "    2. There can't be any spaces. (E.g. my name)\n",
        "          - Use underscores instead. (E.g. my_name)\n",
        "    3. Can't use any of these symbols :'\",<>/?|\\()!@#$%^&*~-+\n",
        "    4. Avoid using the characters 'l' (lowercase letter el), 'O' (uppercase letter oh), or 'I' (uppercase letter eye) as single letter variable names.\n",
        "    5. Avoid using words that have special meaning in Python like \"list\" and \"str\".\n",
        "    6. Using lowercase names are best practice.\n",
        "\n",
        "\n"
      ]
    },
    {
      "cell_type": "markdown",
      "metadata": {
        "id": "K5yQBMGofA4z"
      },
      "source": [
        "It's important to use meaningful variable names that accurately represent the variable's purpose. Single letter variable names are very easy to write, but can be very confusing when someone else is trying to understand your code."
      ]
    },
    {
      "cell_type": "code",
      "metadata": {
        "id": "vkyIeiFs2wYD"
      },
      "source": [
        "# Use variable names to keep better track of what's going on in your code!\n",
        "income = 1000\n",
        "\n",
        "tax_rate = 0.2\n",
        "\n",
        "taxes = income*tax_rate"
      ],
      "execution_count": null,
      "outputs": []
    },
    {
      "cell_type": "code",
      "metadata": {
        "id": "2YlBECQF2wYH"
      },
      "source": [
        "# Show the result!\n",
        "taxes"
      ],
      "execution_count": null,
      "outputs": []
    },
    {
      "cell_type": "markdown",
      "metadata": {
        "id": "kHJyh-qD2wYL"
      },
      "source": [
        "Now, we will go over the next **data type**: Strings."
      ]
    },
    {
      "cell_type": "markdown",
      "metadata": {
        "id": "P3C3zJ-7Nr_3"
      },
      "source": [
        "## Strings"
      ]
    },
    {
      "cell_type": "markdown",
      "metadata": {
        "id": "UH3RobEsNr_4"
      },
      "source": [
        "Strings are a combination of characters. Characters are singular letters, numbers, symbols, etc. \n",
        "\n",
        "More specifically, strings are a sequence, a set of things that follow a specific order. "
      ]
    },
    {
      "cell_type": "markdown",
      "metadata": {
        "id": "x6IrT_vuNr_5"
      },
      "source": [
        "### Creating Strings\n"
      ]
    },
    {
      "cell_type": "markdown",
      "metadata": {
        "id": "ZquKShWxfFa2"
      },
      "source": [
        "To create a string in Python, you must use quotes around your set of characters. "
      ]
    },
    {
      "cell_type": "code",
      "metadata": {
        "id": "rYqOQqWwNr_6"
      },
      "source": [
        "# A word\n",
        "'hi'"
      ],
      "execution_count": null,
      "outputs": []
    },
    {
      "cell_type": "code",
      "metadata": {
        "id": "B0h3v-fTNr__"
      },
      "source": [
        "# A phrase\n",
        "'A string can even be a sentence like this.'"
      ],
      "execution_count": null,
      "outputs": []
    },
    {
      "cell_type": "code",
      "metadata": {
        "id": "aqcRSHvPNsAC"
      },
      "source": [
        "# Using double quotes\n",
        "\"The quote type doesn't really matter.\""
      ],
      "execution_count": null,
      "outputs": []
    },
    {
      "cell_type": "markdown",
      "metadata": {
        "id": "xt7OF_LifZJH"
      },
      "source": [
        "Both single or double quotes are acceptable, but you have to be consistent."
      ]
    },
    {
      "cell_type": "code",
      "metadata": {
        "id": "mmszjr3vNsAG"
      },
      "source": [
        "# Be wary of contractions and apostrophes!\n",
        "'I'm using single quotes, but this will create an error'"
      ],
      "execution_count": null,
      "outputs": []
    },
    {
      "cell_type": "markdown",
      "metadata": {
        "id": "0MoF6XYPNsAJ"
      },
      "source": [
        "Use double quotes when dealing with sentences or words that have contractions."
      ]
    },
    {
      "cell_type": "code",
      "metadata": {
        "id": "wSVUTR4LNsAK"
      },
      "source": [
        "\"This shouldn't cause an error now.\""
      ],
      "execution_count": null,
      "outputs": []
    },
    {
      "cell_type": "markdown",
      "metadata": {
        "id": "4I_0dIPHNsAN"
      },
      "source": [
        "Transition"
      ]
    },
    {
      "cell_type": "markdown",
      "metadata": {
        "id": "5IkjMPlcNsAd"
      },
      "source": [
        "### String Basics"
      ]
    },
    {
      "cell_type": "markdown",
      "metadata": {
        "id": "3Ti5Nv7aNsAe"
      },
      "source": [
        "There are many built-in string **properties** that are useful when handling strings. \n",
        "\n",
        "For example, `len()`. This statement allows us to find the length (number of characters) in a string. "
      ]
    },
    {
      "cell_type": "code",
      "metadata": {
        "id": "uBNGvj9uNsAf"
      },
      "source": [
        "len('Hello World')"
      ],
      "execution_count": null,
      "outputs": []
    },
    {
      "cell_type": "markdown",
      "metadata": {
        "id": "AgTf4FqtcnD9"
      },
      "source": [
        "Since a string is a data type, we can assign it to a variable just like a number! \n"
      ]
    },
    {
      "cell_type": "code",
      "metadata": {
        "id": "RbYyeFrLNsAk"
      },
      "source": [
        "# Assign 'Hello World' to mystring variable\n",
        "mystring = 'Hello World'"
      ],
      "execution_count": 2,
      "outputs": []
    },
    {
      "cell_type": "code",
      "metadata": {
        "id": "3sAvAFHzNsAp"
      },
      "source": [
        "# Did it work?\n",
        "mystring"
      ],
      "execution_count": null,
      "outputs": []
    },
    {
      "cell_type": "markdown",
      "metadata": {
        "id": "X9GNvLDRnKOX"
      },
      "source": [
        "To see what is inside a variable, use the `print()` statement. "
      ]
    },
    {
      "cell_type": "code",
      "metadata": {
        "id": "Dda7HfhGNsAr"
      },
      "source": [
        "# Print the variable mystring to see what is inside of it\n",
        "print(mystring) "
      ],
      "execution_count": null,
      "outputs": []
    },
    {
      "cell_type": "markdown",
      "metadata": {
        "id": "lk8bxjtCNsAw"
      },
      "source": [
        "Like we mentioned earlier, strings are an example of a sequence. More specifically, a sequence of characters. \n",
        "\n",
        "<font color=\"red\">This means strings are made up of individual elements that can be accessed separately. </font>\n",
        "\n",
        "To take apart a string and work with individual characters, we use **indexing**. \n",
        "\n",
        "Each element of a sequence has an index. These indices are numbers that represent the position of the element in the sequence. For example, in the string `'Hello World'`, the first character, `H` would have an index of 0. Note that in Python, indices start with 0 and not 1. \n",
        "\n"
      ]
    },
    {
      "cell_type": "code",
      "metadata": {
        "id": "Fgzo1XrCNsAx"
      },
      "source": [
        "# Extract first character in a string.\n",
        "mystring[0]"
      ],
      "execution_count": null,
      "outputs": []
    },
    {
      "cell_type": "code",
      "metadata": {
        "id": "0kcd-9EZNsA1"
      },
      "source": [
        "mystring[1]"
      ],
      "execution_count": null,
      "outputs": []
    },
    {
      "cell_type": "code",
      "metadata": {
        "id": "8M44L4hMNsA4"
      },
      "source": [
        "mystring[2]"
      ],
      "execution_count": null,
      "outputs": []
    },
    {
      "cell_type": "markdown",
      "metadata": {
        "id": "ky7Zm-NENsA7"
      },
      "source": [
        "We can use a <code>:</code> to perform ***slicing*** which <font color = \"red\"> grabs every element up to a specified index. For example: </font>"
      ]
    },
    {
      "cell_type": "code",
      "metadata": {
        "id": "jQKnWrNtNsA8",
        "outputId": "75ff3302-898e-47d3-8f6c-f3530172e04c",
        "colab": {
          "base_uri": "https://localhost:8080/",
          "height": 35
        }
      },
      "source": [
        "# Grab all the letters\n",
        "mystring[:]"
      ],
      "execution_count": null,
      "outputs": [
        {
          "output_type": "execute_result",
          "data": {
            "application/vnd.google.colaboratory.intrinsic+json": {
              "type": "string"
            },
            "text/plain": [
              "'Hello World'"
            ]
          },
          "metadata": {
            "tags": []
          },
          "execution_count": 2
        }
      ]
    },
    {
      "cell_type": "code",
      "metadata": {
        "id": "f9xrirSANsBD",
        "outputId": "60f76468-551e-4701-d858-ba3cf71e70df",
        "colab": {
          "base_uri": "https://localhost:8080/",
          "height": 35
        }
      },
      "source": [
        "# Grab all the letters UP TO the 5th index\n",
        "mystring[:5]"
      ],
      "execution_count": null,
      "outputs": [
        {
          "output_type": "execute_result",
          "data": {
            "application/vnd.google.colaboratory.intrinsic+json": {
              "type": "string"
            },
            "text/plain": [
              "'Hello'"
            ]
          },
          "metadata": {
            "tags": []
          },
          "execution_count": 4
        }
      ]
    },
    {
      "cell_type": "markdown",
      "metadata": {
        "id": "5dp4GDO0NsBG"
      },
      "source": [
        "Note that slicing does not grab the 5th indexed element, the space, above. It stops right before it. "
      ]
    },
    {
      "cell_type": "code",
      "metadata": {
        "id": "otKc90t_NsBB",
        "outputId": "530d9526-b5ba-496c-d568-37e0dc665525",
        "colab": {
          "base_uri": "https://localhost:8080/",
          "height": 35
        }
      },
      "source": [
        "# This does not change the original string in any way\n",
        "mystring"
      ],
      "execution_count": null,
      "outputs": [
        {
          "output_type": "execute_result",
          "data": {
            "application/vnd.google.colaboratory.intrinsic+json": {
              "type": "string"
            },
            "text/plain": [
              "'Hello World'"
            ]
          },
          "metadata": {
            "tags": []
          },
          "execution_count": 3
        }
      ]
    },
    {
      "cell_type": "markdown",
      "metadata": {
        "id": "lksAiQL6NsBK"
      },
      "source": [
        "You can also index sequences backwards using negative indeces. "
      ]
    },
    {
      "cell_type": "code",
      "metadata": {
        "id": "8TywqyZ-NsBL",
        "outputId": "fe4d04d4-a967-4477-d59d-74cc2f23171f",
        "colab": {
          "base_uri": "https://localhost:8080/",
          "height": 35
        }
      },
      "source": [
        "# Last letter (one index behind 0 so it loops back around)\n",
        "mystring[-1]"
      ],
      "execution_count": null,
      "outputs": [
        {
          "output_type": "execute_result",
          "data": {
            "application/vnd.google.colaboratory.intrinsic+json": {
              "type": "string"
            },
            "text/plain": [
              "'d'"
            ]
          },
          "metadata": {
            "tags": []
          },
          "execution_count": 6
        }
      ]
    },
    {
      "cell_type": "code",
      "metadata": {
        "id": "LTzPovveNsBO",
        "outputId": "0344bc38-42fe-4f7b-db09-0987bfb328bf",
        "colab": {
          "base_uri": "https://localhost:8080/",
          "height": 35
        }
      },
      "source": [
        "# Grab everything but the last letter\n",
        "mystring[:-1]"
      ],
      "execution_count": null,
      "outputs": [
        {
          "output_type": "execute_result",
          "data": {
            "application/vnd.google.colaboratory.intrinsic+json": {
              "type": "string"
            },
            "text/plain": [
              "'Hello Worl'"
            ]
          },
          "metadata": {
            "tags": []
          },
          "execution_count": 7
        }
      ]
    },
    {
      "cell_type": "markdown",
      "metadata": {
        "id": "XxBxY0SBNsBQ"
      },
      "source": [
        "You can also skip certain elements within the sequence by changing the **step size**. \n",
        "Follow the following format to include step size when dealing with indexing: `samplestring[beginning_index:ending_index:step_size] `"
      ]
    },
    {
      "cell_type": "code",
      "metadata": {
        "id": "D4GZPT3mNsBR"
      },
      "source": [
        "# Grab everything, but go in steps size of 1\n",
        "mystring[::1]"
      ],
      "execution_count": null,
      "outputs": []
    },
    {
      "cell_type": "code",
      "metadata": {
        "id": "PjDfDe3gNsBU"
      },
      "source": [
        "# Grab everything, but go in step sizes of 2\n",
        "mystring[0::2]"
      ],
      "execution_count": null,
      "outputs": []
    },
    {
      "cell_type": "code",
      "metadata": {
        "id": "5t-mgi-KNsBW"
      },
      "source": [
        "# A handy way to reverse a string!\n",
        "mystring[::-1]"
      ],
      "execution_count": null,
      "outputs": []
    },
    {
      "cell_type": "markdown",
      "metadata": {
        "id": "jPCEC_LvfRZp"
      },
      "source": [
        "**TRANSITION**"
      ]
    },
    {
      "cell_type": "markdown",
      "metadata": {
        "id": "P1U1VtJENsBZ"
      },
      "source": [
        "### String Properties\n",
        "It's important to note that strings are ***immutable***. This means that once a string is created, the elements within it can not be changed or replaced. For example:"
      ]
    },
    {
      "cell_type": "code",
      "metadata": {
        "id": "xvPyEmYpNsBa"
      },
      "source": [
        "mystring"
      ],
      "execution_count": null,
      "outputs": []
    },
    {
      "cell_type": "code",
      "metadata": {
        "id": "NDk66bjZNsBc"
      },
      "source": [
        "# Let's try to change the first letter\n",
        "mystring[0] = 'a'"
      ],
      "execution_count": null,
      "outputs": []
    },
    {
      "cell_type": "markdown",
      "metadata": {
        "id": "p_Q9e1MoNsBf"
      },
      "source": [
        "The error tells it to us straight. Strings do not support reassignment.\n",
        "\n",
        "However, we *can* **concatenate** strings. Concatenation allows us to combine strings. "
      ]
    },
    {
      "cell_type": "code",
      "metadata": {
        "id": "MUaQkaxfNsBg"
      },
      "source": [
        "mystring"
      ],
      "execution_count": null,
      "outputs": []
    },
    {
      "cell_type": "code",
      "metadata": {
        "id": "6MkkAvD9NsBk"
      },
      "source": [
        "# Combine strings through concatenation\n",
        "mystring + \". It's me.\""
      ],
      "execution_count": null,
      "outputs": []
    },
    {
      "cell_type": "code",
      "metadata": {
        "id": "_BEU6-T0NsBn"
      },
      "source": [
        "# We can reassign mystring to a new string value.\n",
        "mystring = mystring + \". It's me.\""
      ],
      "execution_count": null,
      "outputs": []
    },
    {
      "cell_type": "code",
      "metadata": {
        "id": "vdYO-sKKNsBq"
      },
      "source": [
        "print(mystring)"
      ],
      "execution_count": null,
      "outputs": []
    },
    {
      "cell_type": "markdown",
      "metadata": {
        "id": "QVrhPwoGhubY"
      },
      "source": [
        "We already saw how to use len(). This is an example of a built-in way to interact with strings, but there are quite a few more which we will cover next."
      ]
    },
    {
      "cell_type": "markdown",
      "metadata": {
        "id": "m7KcM_wENsB1"
      },
      "source": [
        "### Basic Built-in String Methods\n",
        "\n",
        "Python has many built-in string **methods**. Some methods allow the user to perform simple alterations to a string. \n",
        "\n"
      ]
    },
    {
      "cell_type": "code",
      "metadata": {
        "id": "NoO8TSuwNsB2"
      },
      "source": [
        "mystring"
      ],
      "execution_count": null,
      "outputs": []
    },
    {
      "cell_type": "code",
      "metadata": {
        "id": "7RyvdFNGNsB5"
      },
      "source": [
        "# Make all letters in a string uppercase\n",
        "mystring.upper()"
      ],
      "execution_count": null,
      "outputs": []
    },
    {
      "cell_type": "code",
      "metadata": {
        "id": "0sUWl6CANsB-"
      },
      "source": [
        "# Make all letters in a string lowercase\n",
        "mystring.lower()"
      ],
      "execution_count": null,
      "outputs": []
    },
    {
      "cell_type": "markdown",
      "metadata": {
        "id": "Q-YevLwStDCH"
      },
      "source": [
        "<font color = \"red\"> Cover `.split()` ? </font>"
      ]
    },
    {
      "cell_type": "markdown",
      "metadata": {
        "id": "4o2jcAAhNsCL"
      },
      "source": [
        "<font color = \"red\" > There are many more methods than the ones covered here. Visit the Advanced String section to find out more! </font>"
      ]
    },
    {
      "cell_type": "markdown",
      "metadata": {
        "id": "x90qHJh7DzpF"
      },
      "source": [
        "### 1.0 Now Try This"
      ]
    },
    {
      "cell_type": "markdown",
      "metadata": {
        "id": "2jQg-dN0ZbY-"
      },
      "source": [
        "Given the string `Amsterdam`, write a Python statement that displays the `'d'`. **HINT**: This requires indexing. Enter your code in the cell below:"
      ]
    },
    {
      "cell_type": "code",
      "metadata": {
        "id": "3G3a5dNZZbY_"
      },
      "source": [
        "# Once your have verified your answer please uncomment the line below and run it, this will save your code \n",
        "#%%writefile -a {folder_location}/1.py\n",
        "# Please note that if you uncomment and rub multiple times, the program will keep appending to the file.\n",
        "\n",
        "s = 'Amsterdam'\n",
        "# Print out 'd' using indexing\n",
        "answer1 = # INSERT CODE HERE\n",
        "print(answer1)\n"
      ],
      "execution_count": null,
      "outputs": []
    },
    {
      "cell_type": "markdown",
      "metadata": {
        "id": "ilw29z4OZbZE"
      },
      "source": [
        "Reverse the string `'Amsterdam'` using slicing:"
      ]
    },
    {
      "cell_type": "code",
      "metadata": {
        "id": "BABsKQN4ZbZE"
      },
      "source": [
        "# Once your have verified your answer please uncomment the line below and run it, this will save your code \n",
        "#%%writefile -a {folder_location}/1.py\n",
        "# Please note that if you uncomment and rub multiple times, the program will keep appending to the file.\n",
        "\n",
        "s ='Amsterdam'\n",
        "# Reverse the string using slicing\n",
        "answer2 = # INSERT CODE HERE\n",
        "print(answer2)"
      ],
      "execution_count": null,
      "outputs": []
    },
    {
      "cell_type": "markdown",
      "metadata": {
        "id": "rgM2B4rmZbZI"
      },
      "source": [
        "Given the string `Amsterdam`, display the letter `'m'` using negative indexing."
      ]
    },
    {
      "cell_type": "code",
      "metadata": {
        "id": "rZiItM7hZbZK"
      },
      "source": [
        "# Once your have verified your answer please uncomment the line below and run it, this will save your code \n",
        "#%%writefile -a {folder_location}/1.py\n",
        "# Please note that if you uncomment and rub multiple times, the program will keep appending to the file.\n",
        "\n",
        "s ='Amsterdam'\n",
        "\n",
        "# Print out the 'm'\n",
        "answer3 = # INSERT CODE HERE\n",
        "print(answer3)"
      ],
      "execution_count": null,
      "outputs": []
    },
    {
      "cell_type": "markdown",
      "metadata": {
        "id": "hrXZof6r218Z"
      },
      "source": [
        "## Booleans\n",
        "\n",
        "Booleans are another example of a data type. They can only be one of two values: `True` or `False`, and are usually the answers to any true/false questions."
      ]
    },
    {
      "cell_type": "code",
      "metadata": {
        "id": "UGHMeXpD218a"
      },
      "source": [
        "# Booleans can be assigned to variables, just like numbers or strings\n",
        "a = True"
      ],
      "execution_count": null,
      "outputs": []
    },
    {
      "cell_type": "code",
      "metadata": {
        "id": "B7BmKhMA218d"
      },
      "source": [
        "#Show\n",
        "a"
      ],
      "execution_count": null,
      "outputs": []
    },
    {
      "cell_type": "markdown",
      "metadata": {
        "id": "sdZjutML218i"
      },
      "source": [
        "In math, we would often ask questions in the form of inequalities, i.e \"Is 2 greater than 1?\". These questions always had True/False answers, and the same holds true in Python. Trying to answer the questions always returns a Boolean value."
      ]
    },
    {
      "cell_type": "code",
      "metadata": {
        "id": "CsA40nxa218j",
        "outputId": "faae3103-06d9-45be-ae67-e73adbcebb95",
        "colab": {
          "base_uri": "https://localhost:8080/",
          "height": 34
        }
      },
      "source": [
        "# Output is Boolean\n",
        "1 > 2"
      ],
      "execution_count": 4,
      "outputs": [
        {
          "output_type": "execute_result",
          "data": {
            "text/plain": [
              "False"
            ]
          },
          "metadata": {
            "tags": []
          },
          "execution_count": 4
        }
      ]
    },
    {
      "cell_type": "markdown",
      "metadata": {
        "id": "Q0d2MOxp218p"
      },
      "source": [
        "If we have a variable that we know will hold a Boolean value in the future, we can temporarily assign it a placeholder. In Python, that is `None`."
      ]
    },
    {
      "cell_type": "code",
      "metadata": {
        "id": "-6L2eHxX218q"
      },
      "source": [
        "# None is a Boolean placeholder\n",
        "b = None"
      ],
      "execution_count": null,
      "outputs": []
    },
    {
      "cell_type": "code",
      "metadata": {
        "id": "5AkpZ6Gu218u"
      },
      "source": [
        "# Show\n",
        "print(b)"
      ],
      "execution_count": null,
      "outputs": []
    },
    {
      "cell_type": "markdown",
      "metadata": {
        "id": "0VOMDbyu218x"
      },
      "source": [
        "**TRANSITION**"
      ]
    },
    {
      "cell_type": "markdown",
      "metadata": {
        "id": "_d9-nOtO28os"
      },
      "source": [
        "## Comparison Operators \n",
        "\n",
        "As stated previously, comparison operators allow us to compare variables and output a Boolean value (True or False). \n",
        "\n",
        "These operators are the exact same as what you've seen in Math, so there's nothing new here.\n",
        "\n",
        "First we'll present a table of the comparison operators and then work through some examples:\n",
        "\n",
        "<h2> Table of Comparison Operators </h2><p>  In the table below, a=9 and b=11.</p>\n",
        "\n",
        "<table class=\"table table-bordered\">\n",
        "<tr>\n",
        "<th style=\"width:10%\">Operator</th><th style=\"width:45%\">Description</th><th>Example</th>\n",
        "</tr>\n",
        "<tr>\n",
        "<td>==</td>\n",
        "<td>If the values of two operands are equal, then the condition becomes true.</td>\n",
        "<td> (a == b) is not true.</td>\n",
        "</tr>\n",
        "<tr>\n",
        "<td>!=</td>\n",
        "<td>If values of two operands are not equal, then condition becomes true.</td>\n",
        "<td>(a != b) is true</td>\n",
        "</tr>\n",
        "<tr>\n",
        "<td>&gt;</td>\n",
        "<td>If the value of left operand is greater than the value of right operand, then condition becomes true.</td>\n",
        "<td> (a &gt; b) is not true.</td>\n",
        "</tr>\n",
        "<tr>\n",
        "<td>&lt;</td>\n",
        "<td>If the value of left operand is less than the value of right operand, then condition becomes true.</td>\n",
        "<td> (a &lt; b) is true.</td>\n",
        "</tr>\n",
        "<tr>\n",
        "<td>&gt;=</td>\n",
        "<td>If the value of left operand is greater than or equal to the value of right operand, then condition becomes true.</td>\n",
        "<td> (a &gt;= b) is not true. </td>\n",
        "</tr>\n",
        "<tr>\n",
        "<td>&lt;=</td>\n",
        "<td>If the value of left operand is less than or equal to the value of right operand, then condition becomes true.</td>\n",
        "<td> (a &lt;= b) is true. </td>\n",
        "</tr>\n",
        "</table>"
      ]
    },
    {
      "cell_type": "markdown",
      "metadata": {
        "id": "Oxyatrdj28ow"
      },
      "source": [
        "Let's now work through quick examples of each of these.\n",
        "\n",
        "#### Equal"
      ]
    },
    {
      "cell_type": "code",
      "metadata": {
        "id": "rPThJGsl28ox"
      },
      "source": [
        "4 == 4"
      ],
      "execution_count": null,
      "outputs": []
    },
    {
      "cell_type": "code",
      "metadata": {
        "id": "W2W27aBp28o1"
      },
      "source": [
        "1 == 0"
      ],
      "execution_count": null,
      "outputs": []
    },
    {
      "cell_type": "markdown",
      "metadata": {
        "id": "gtzQpCPO28o5"
      },
      "source": [
        "Note that <code>==</code> is a <em>comparison</em> operator, while <code>=</code> is an <em>assignment</em> operator."
      ]
    },
    {
      "cell_type": "markdown",
      "metadata": {
        "id": "4FSgFc8y28o5"
      },
      "source": [
        "#### Not Equal"
      ]
    },
    {
      "cell_type": "code",
      "metadata": {
        "id": "BNQaWArv28o6"
      },
      "source": [
        "4 != 5"
      ],
      "execution_count": null,
      "outputs": []
    },
    {
      "cell_type": "code",
      "metadata": {
        "id": "D9hVgJsD28o9"
      },
      "source": [
        "1 != 1"
      ],
      "execution_count": null,
      "outputs": []
    },
    {
      "cell_type": "markdown",
      "metadata": {
        "id": "iVvotha-28pD"
      },
      "source": [
        "#### Greater Than"
      ]
    },
    {
      "cell_type": "code",
      "metadata": {
        "id": "qA1VVR7128pI"
      },
      "source": [
        "8 > 3"
      ],
      "execution_count": null,
      "outputs": []
    },
    {
      "cell_type": "code",
      "metadata": {
        "id": "PrZb9Zy_28pN"
      },
      "source": [
        "1 > 9"
      ],
      "execution_count": null,
      "outputs": []
    },
    {
      "cell_type": "markdown",
      "metadata": {
        "id": "PYK9vEa-28pT"
      },
      "source": [
        "#### Less Than"
      ]
    },
    {
      "cell_type": "code",
      "metadata": {
        "id": "f5x67fWk28pU"
      },
      "source": [
        "3 < 8"
      ],
      "execution_count": null,
      "outputs": []
    },
    {
      "cell_type": "code",
      "metadata": {
        "id": "1eB15ns928pX"
      },
      "source": [
        "7 < 0"
      ],
      "execution_count": null,
      "outputs": []
    },
    {
      "cell_type": "markdown",
      "metadata": {
        "id": "wDXSDbik28pa"
      },
      "source": [
        "#### Greater Than or Equal to"
      ]
    },
    {
      "cell_type": "code",
      "metadata": {
        "id": "k4BQs2oB28pb"
      },
      "source": [
        "7 >= 7"
      ],
      "execution_count": null,
      "outputs": []
    },
    {
      "cell_type": "code",
      "metadata": {
        "id": "BPBKLDtb28pd"
      },
      "source": [
        "9 >= 4"
      ],
      "execution_count": null,
      "outputs": []
    },
    {
      "cell_type": "markdown",
      "metadata": {
        "id": "ai1kLMhy28pi"
      },
      "source": [
        "#### Less than or Equal to"
      ]
    },
    {
      "cell_type": "code",
      "metadata": {
        "id": "5KuB4wd028pi"
      },
      "source": [
        "4 <= 4"
      ],
      "execution_count": null,
      "outputs": []
    },
    {
      "cell_type": "code",
      "metadata": {
        "id": "YFbO6yih28pl"
      },
      "source": [
        "1 <= 3"
      ],
      "execution_count": null,
      "outputs": []
    },
    {
      "cell_type": "markdown",
      "metadata": {
        "id": "eIDePOLk28po"
      },
      "source": [
        "Hopefully this was more of a review than anything new! Next, we move on to one of the most important aspects of building programs: functions and how to use them."
      ]
    }
  ]
}