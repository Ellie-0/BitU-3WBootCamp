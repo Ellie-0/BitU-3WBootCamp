{
  "nbformat": 4,
  "nbformat_minor": 0,
  "metadata": {
    "colab": {
      "name": "Week1_Introduction_to_data_and_Python.ipynb",
      "provenance": [],
      "authorship_tag": "ABX9TyN5VyijbOXeHhe3j05dvWdw",
      "include_colab_link": true
    },
    "kernelspec": {
      "name": "python3",
      "display_name": "Python 3"
    }
  },
  "cells": [
    {
      "cell_type": "markdown",
      "metadata": {
        "id": "view-in-github",
        "colab_type": "text"
      },
      "source": [
        "<a href=\"https://colab.research.google.com/github/bitprj/BitU-3WBootCamp/blob/Atul/Week1_Introduction_to_data_and_Python.ipynb\" target=\"_parent\"><img src=\"https://colab.research.google.com/assets/colab-badge.svg\" alt=\"Open In Colab\"/></a>"
      ]
    },
    {
      "cell_type": "markdown",
      "metadata": {
        "id": "Z_SaUKRwmqha"
      },
      "source": [
        "# <div align=\"center\">Introduction to Data and Python</div>"
      ]
    },
    {
      "cell_type": "markdown",
      "metadata": {
        "id": "JKIeFpiY-pJc"
      },
      "source": [
        "### Table of Contents (Outline)\n",
        "\n",
        "- Why, Where, and How we use Python *\n",
        "- **Intro to Data Science & Programming**\n",
        "- What we will be learning today\n",
        "  - Goals\n",
        "- Numbers\n",
        "  - Types of Numbers\n",
        "  - Basic Arithmetic\n",
        "  - ~~Arithmetic Continued~~\n",
        "- Variable Assignment *\n",
        "- Strings\n",
        "  - Creating Strings *\n",
        "  - ~~Printing Strings~~\n",
        "  - String Basics\n",
        "  - String Properties *\n",
        "  - Basic Built-In String Methods *\n",
        "  - ~~Print Formatting~~\n",
        "  - **1.0 Now Try This**\n",
        "- Booleans *\n",
        "- Lists\n",
        "  - Creating Lists\n",
        "  - Basic List Methods *\n",
        "  - Nesting Lists\n",
        "  - ~~List Comprehensions~~\n",
        "  - **2.0 Now Try This**\n",
        "- Tuples\n",
        "  - Constructing Tuples\n",
        "  - Basic Tuple Methods\n",
        "  - Immutability\n",
        "  - When To Use Tuples\n",
        "  - **3.0 Now Try This**\n",
        "- Dictionaries\n",
        "  - Constructing a Dictionary\n",
        "  - Nesting With Dictionaries\n",
        "  - Dictionary Methods\n",
        "  - **4.0 Now Try This**\n",
        "- Comparison Operators *\n",
        "- Functions\n",
        "  - Intro to Functions *\n",
        "  - ~~`def` Statements~~\n",
        "  - Examples *\n",
        "  - ~~Using `return`~~\n",
        "  - **5.0 Now Try This**\n",
        "- ~~Errors and Exception Handling~~\n",
        "  - ~~`try` and `except`~~\n",
        "  - ~~`finally`~~\n",
        "  - ~~**6.0 Now Try This**~~\n",
        "- Modules and Packages\n",
        "  - ~~Writing Modules~~\n",
        "  - ~~Writing Modules with Jupyter~~\n",
        "  - ~~Writing Scripts~~\n",
        "  - ~~Running Scripts~~\n",
        "  - ~~Passing Command Line Arguments~~\n",
        "  - Understanding Modules\n",
        "  - Exploring Built-in Modules\n",
        "  - ~~Writing Packages~~\n",
        "  - Pipeline for Packages and Modules\n",
        "- Resources\n"
      ]
    },
    {
      "cell_type": "markdown",
      "metadata": {
        "id": "pgwfO4lclgJd"
      },
      "source": [
        "# KEY:\n",
        "\n",
        "**Bold** sections need to be added in.\n",
        "\n",
        "*'d sections need to be modified in some way (condensed, reduced, clarified, etc.)\n",
        "\n",
        "~~Striked~~ sections are planned to b deleted/not included in the rewrite.\n",
        "\n",
        "\n",
        "\n"
      ]
    }
  ]
}