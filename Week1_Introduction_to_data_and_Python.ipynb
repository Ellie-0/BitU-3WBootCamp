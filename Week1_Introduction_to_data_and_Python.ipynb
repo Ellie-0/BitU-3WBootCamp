{
  "nbformat": 4,
  "nbformat_minor": 0,
  "metadata": {
    "colab": {
      "name": "Week1_Introduction_to_data_and_Python.ipynb",
      "provenance": [],
      "include_colab_link": true
    },
    "kernelspec": {
      "name": "python3",
      "display_name": "Python 3"
    }
  },
  "cells": [
    {
      "cell_type": "markdown",
      "metadata": {
        "id": "view-in-github",
        "colab_type": "text"
      },
      "source": [
        "<a href=\"https://colab.research.google.com/github/bitprj/BitU-3WBootCamp/blob/Atul/Week1_Introduction_to_data_and_Python.ipynb\" target=\"_parent\"><img src=\"https://colab.research.google.com/assets/colab-badge.svg\" alt=\"Open In Colab\"/></a>"
      ]
    },
    {
      "cell_type": "markdown",
      "metadata": {
        "id": "Z_SaUKRwmqha"
      },
      "source": [
        "# <div align=\"center\">Introduction to Data and Python</div>"
      ]
    },
    {
      "cell_type": "markdown",
      "metadata": {
        "id": "JKIeFpiY-pJc"
      },
      "source": [
        "### Table of Contents (Outline)\n",
        "\n",
        "- Why, Where, and How we use Python *\n",
        "- **Intro to Data Science & Programming** (Fab 4 should write these!)\n",
        "- What we will be learning today\n",
        "  - Goals\n",
        "- Numbers\n",
        "  - Types of Numbers\n",
        "  - Basic Arithmetic\n",
        "  - ~~Arithmetic Continued~~\n",
        "- Variable Assignment *\n",
        "- Strings\n",
        "  - Creating Strings *\n",
        "  - ~~Printing Strings~~\n",
        "  - String Basics\n",
        "  - String Properties *\n",
        "  - Basic Built-In String Methods *\n",
        "  - ~~Print Formatting~~\n",
        "  - **1.0 Now Try This**\n",
        "- Booleans *\n",
        "- Lists\n",
        "  - Creating Lists\n",
        "  - Basic List Methods *\n",
        "  - Nesting Lists\n",
        "  - ~~List Comprehensions~~\n",
        "  - **2.0 Now Try This**\n",
        "- Tuples\n",
        "  - Constructing Tuples\n",
        "  - Basic Tuple Methods\n",
        "  - Immutability\n",
        "  - When To Use Tuples\n",
        "  - **3.0 Now Try This**\n",
        "- Dictionaries\n",
        "  - Constructing a Dictionary\n",
        "  - Nesting With Dictionaries\n",
        "  - Dictionary Methods\n",
        "  - **4.0 Now Try This**\n",
        "- Comparison Operators *\n",
        "- Functions\n",
        "  - Intro to Functions *\n",
        "  - ~~`def` Statements~~\n",
        "  - Examples *\n",
        "  - ~~Using `return`~~\n",
        "  - **5.0 Now Try This**\n",
        "- ~~Errors and Exception Handling~~\n",
        "  - ~~`try` and `except`~~\n",
        "  - ~~`finally`~~\n",
        "  - ~~**6.0 Now Try This**~~\n",
        "- Modules and Packages\n",
        "  - ~~Writing Modules~~\n",
        "  - ~~Writing Modules with Jupyter~~\n",
        "  - ~~Writing Scripts~~\n",
        "  - ~~Running Scripts~~\n",
        "  - ~~Passing Command Line Arguments~~\n",
        "  - Understanding Modules\n",
        "  - Exploring Built-in Modules\n",
        "  - ~~Writing Packages~~\n",
        "  - Pipeline for Packages and Modules\n",
        "- Resources\n"
      ]
    },
    {
      "cell_type": "markdown",
      "metadata": {
        "id": "pgwfO4lclgJd"
      },
      "source": [
        "# KEY:\n",
        "\n",
        "**Bold** sections need to be added in.\n",
        "\n",
        "Starred (`*`) sections need to be modified in some way (condensed, reduced, clarified, etc.)\n",
        "\n",
        "~~Striked~~ sections are planned to be deleted/not included in the rewrite.\n",
        "\n",
        "\n",
        "\n"
      ]
    },
    {
      "cell_type": "markdown",
      "metadata": {
        "id": "yn56q8ie3bCK"
      },
      "source": [
        "## Numbers"
      ]
    },
    {
      "cell_type": "markdown",
      "metadata": {
        "id": "LvQ8LBU22wVE"
      },
      "source": [
        "### Types of numbers\n",
        "There are two different kinds of numbers we'll be going over in this course: integers and floats.\n",
        "\n",
        "Integers are whole numbers, like `3`,`100`,`-2000`.\n",
        "\n",
        "Floats are numbers with decimals, like `-3.14`,`2.917`,`1.1`.\n",
        "\n",
        "You can use Python to do basic math with these numbers."
      ]
    },
    {
      "cell_type": "markdown",
      "metadata": {
        "id": "WlZ5c0m_2wVJ"
      },
      "source": [
        "### Basic Arithmetic"
      ]
    },
    {
      "cell_type": "markdown",
      "metadata": {
        "id": "EvBmpNNDX0EH"
      },
      "source": [
        "Addition"
      ]
    },
    {
      "cell_type": "code",
      "metadata": {
        "id": "P0fJlFvk2wVQ"
      },
      "source": [
        "4+5"
      ],
      "execution_count": null,
      "outputs": []
    },
    {
      "cell_type": "markdown",
      "metadata": {
        "id": "JJDFcj0ZYGhI"
      },
      "source": [
        "Subtraction"
      ]
    },
    {
      "cell_type": "code",
      "metadata": {
        "id": "mtlYVK6b2wVj"
      },
      "source": [
        "5-10"
      ],
      "execution_count": null,
      "outputs": []
    },
    {
      "cell_type": "markdown",
      "metadata": {
        "id": "vPemMnyxYUKu"
      },
      "source": [
        "Multiplication"
      ]
    },
    {
      "cell_type": "code",
      "metadata": {
        "id": "_1f4Ofza2wV7"
      },
      "source": [
        "4.2*8.3"
      ],
      "execution_count": null,
      "outputs": []
    },
    {
      "cell_type": "markdown",
      "metadata": {
        "id": "s0bnnWMEYWtZ"
      },
      "source": [
        "Division"
      ]
    },
    {
      "cell_type": "code",
      "metadata": {
        "id": "wUCF99zx2wWC"
      },
      "source": [
        "25/5"
      ],
      "execution_count": null,
      "outputs": []
    },
    {
      "cell_type": "markdown",
      "metadata": {
        "id": "P3PhLjndYYY7"
      },
      "source": [
        "Floor Division"
      ]
    },
    {
      "cell_type": "code",
      "metadata": {
        "id": "DFVGzwgQ2wWH",
        "outputId": "474ca0e3-6309-489b-ad16-44b36035e231",
        "colab": {
          "base_uri": "https://localhost:8080/",
          "height": 35
        }
      },
      "source": [
        "12//7"
      ],
      "execution_count": null,
      "outputs": [
        {
          "output_type": "execute_result",
          "data": {
            "text/plain": [
              "1"
            ]
          },
          "metadata": {
            "tags": []
          },
          "execution_count": 2
        }
      ]
    },
    {
      "cell_type": "markdown",
      "metadata": {
        "id": "HKMA-ctF2wWS"
      },
      "source": [
        "What floor division does is return the quotient of a division without the remainder.\n",
        "\n",
        "If you do 12 divided by 7 normally, you would get approximately 1.71. Floor division leaves out the decimals and just takes the integer."
      ]
    },
    {
      "cell_type": "markdown",
      "metadata": {
        "id": "XtyIEBnHaIE-"
      },
      "source": [
        "Modulo"
      ]
    },
    {
      "cell_type": "code",
      "metadata": {
        "id": "zAwDlKQr2wWW",
        "outputId": "60995328-217f-4851-bb63-108f85b18bed",
        "colab": {
          "base_uri": "https://localhost:8080/",
          "height": 35
        }
      },
      "source": [
        "9 % 4"
      ],
      "execution_count": null,
      "outputs": [
        {
          "output_type": "execute_result",
          "data": {
            "text/plain": [
              "1"
            ]
          },
          "metadata": {
            "tags": []
          },
          "execution_count": 3
        }
      ]
    },
    {
      "cell_type": "markdown",
      "metadata": {
        "id": "SmrF4pzM2wWd"
      },
      "source": [
        "Modulo, or mod, returns the remainder of a division.\n",
        "\n",
        "For example, 4 goes into 9 twice with a remainder of 1."
      ]
    },
    {
      "cell_type": "markdown",
      "metadata": {
        "id": "XSCsHC222wXP"
      },
      "source": [
        "## Variable Assignments\n",
        "\n",
        "In programming, you store data in variables. They work exactly the same as the variables you've seen in math classes.\n",
        "\n",
        "Let's see some examples:"
      ]
    },
    {
      "cell_type": "code",
      "metadata": {
        "id": "PRjmRrLJ2wXQ"
      },
      "source": [
        "# Let's create a variable called \"a\" and assign it to equal the number 10\n",
        "a = 10"
      ],
      "execution_count": null,
      "outputs": []
    },
    {
      "cell_type": "markdown",
      "metadata": {
        "id": "2SZAO47P2wXY"
      },
      "source": [
        "Python will now substitute `a` with `10` whenever we work with that variable."
      ]
    },
    {
      "cell_type": "code",
      "metadata": {
        "id": "CNFrGd-m2wXa"
      },
      "source": [
        "# Adding the variables\n",
        "a+a"
      ],
      "execution_count": null,
      "outputs": []
    },
    {
      "cell_type": "markdown",
      "metadata": {
        "id": "TBfuZthz2wXg"
      },
      "source": [
        "Values of variables aren't set in stone. You can change them at any time."
      ]
    },
    {
      "cell_type": "code",
      "metadata": {
        "id": "IyUbGI6l2wXi"
      },
      "source": [
        "# Reassignment\n",
        "a = 20"
      ],
      "execution_count": null,
      "outputs": []
    },
    {
      "cell_type": "code",
      "metadata": {
        "id": "TGLcpU8j2wXn"
      },
      "source": [
        "# Check\n",
        "a+a"
      ],
      "execution_count": null,
      "outputs": []
    },
    {
      "cell_type": "markdown",
      "metadata": {
        "id": "CyeKAg962wXu"
      },
      "source": [
        "You don't have to just use numbers when assigning variables. You can even use other variables."
      ]
    },
    {
      "cell_type": "code",
      "metadata": {
        "id": "Ykxmc-gr2wX8"
      },
      "source": [
        "# Use A to redefine A\n",
        "a = a+a"
      ],
      "execution_count": null,
      "outputs": []
    },
    {
      "cell_type": "code",
      "metadata": {
        "id": "kuz0ctr92wX_"
      },
      "source": [
        "# Check \n",
        "a"
      ],
      "execution_count": null,
      "outputs": []
    },
    {
      "cell_type": "markdown",
      "metadata": {
        "id": "JaPrRdK3dfPK"
      },
      "source": [
        "There are a few rules when picking variable names:"
      ]
    },
    {
      "cell_type": "markdown",
      "metadata": {
        "id": "2cD46_8c2wYC"
      },
      "source": [
        "\n",
        "\n",
        "    1. Names can't start with a number. (E.g. 123name)\n",
        "    2. There can't be any spaces. (E.g. my name)\n",
        "          - Use underscores instead. (E.g. my_name)\n",
        "    3. Can't use any of these symbols :'\",<>/?|\\()!@#$%^&*~-+\n",
        "    4. Avoid using the characters 'l' (lowercase letter el), 'O' (uppercase letter oh), or 'I' (uppercase letter eye) as single letter variable names.\n",
        "    5. Avoid using words that have special meaning in Python like \"list\" and \"str\".\n",
        "    6. Using lowercase names are best practice.\n",
        "\n",
        "\n"
      ]
    },
    {
      "cell_type": "markdown",
      "metadata": {
        "id": "K5yQBMGofA4z"
      },
      "source": [
        "It's important to use meaningful variable names that accurately represent the variable's purpose. Single letter variable names are very easy to write, but can be very confusing when someone else is trying to understand your code."
      ]
    },
    {
      "cell_type": "code",
      "metadata": {
        "id": "vkyIeiFs2wYD"
      },
      "source": [
        "# Use variable names to keep better track of what's going on in your code!\n",
        "income = 1000\n",
        "\n",
        "tax_rate = 0.2\n",
        "\n",
        "taxes = income*tax_rate"
      ],
      "execution_count": null,
      "outputs": []
    },
    {
      "cell_type": "code",
      "metadata": {
        "id": "2YlBECQF2wYH"
      },
      "source": [
        "# Show the result!\n",
        "taxes"
      ],
      "execution_count": null,
      "outputs": []
    },
    {
      "cell_type": "markdown",
      "metadata": {
        "id": "kHJyh-qD2wYL"
      },
      "source": [
        "Now, we will go over the next **data type**: Strings."
      ]
    },
    {
      "cell_type": "markdown",
      "metadata": {
        "id": "P3C3zJ-7Nr_3"
      },
      "source": [
        "## Strings"
      ]
    },
    {
      "cell_type": "markdown",
      "metadata": {
        "id": "UH3RobEsNr_4"
      },
      "source": [
        "Strings are a combination of characters. Characters are singular letters, numbers, symbols, etc. \n",
        "\n",
        "More specifically, strings are a sequence, a set of things that follow a specific order. "
      ]
    },
    {
      "cell_type": "markdown",
      "metadata": {
        "id": "x6IrT_vuNr_5"
      },
      "source": [
        "### Creating Strings\n"
      ]
    },
    {
      "cell_type": "markdown",
      "metadata": {
        "id": "ZquKShWxfFa2"
      },
      "source": [
        "To create a string in Python, you must use quotes around your set of characters. "
      ]
    },
    {
      "cell_type": "code",
      "metadata": {
        "id": "rYqOQqWwNr_6"
      },
      "source": [
        "# A word\n",
        "'hi'"
      ],
      "execution_count": null,
      "outputs": []
    },
    {
      "cell_type": "code",
      "metadata": {
        "id": "B0h3v-fTNr__"
      },
      "source": [
        "# A phrase\n",
        "'A string can even be a sentence like this.'"
      ],
      "execution_count": null,
      "outputs": []
    },
    {
      "cell_type": "code",
      "metadata": {
        "id": "aqcRSHvPNsAC"
      },
      "source": [
        "# Using double quotes\n",
        "\"The quote type doesn't really matter.\""
      ],
      "execution_count": null,
      "outputs": []
    },
    {
      "cell_type": "markdown",
      "metadata": {
        "id": "xt7OF_LifZJH"
      },
      "source": [
        "Both single or double quotes are acceptable, but you have to be consistent."
      ]
    },
    {
      "cell_type": "code",
      "metadata": {
        "id": "mmszjr3vNsAG"
      },
      "source": [
        "# Be wary of contractions and apostrophes!\n",
        "'I'm using single quotes, but this will create an error'"
      ],
      "execution_count": null,
      "outputs": []
    },
    {
      "cell_type": "markdown",
      "metadata": {
        "id": "0MoF6XYPNsAJ"
      },
      "source": [
        "Use double quotes when dealing with sentences or words that have contractions."
      ]
    },
    {
      "cell_type": "code",
      "metadata": {
        "id": "wSVUTR4LNsAK"
      },
      "source": [
        "\"This shouldn't cause an error now.\""
      ],
      "execution_count": null,
      "outputs": []
    },
    {
      "cell_type": "markdown",
      "metadata": {
        "id": "4I_0dIPHNsAN"
      },
      "source": [
        "Transition"
      ]
    },
    {
      "cell_type": "markdown",
      "metadata": {
        "id": "5IkjMPlcNsAd"
      },
      "source": [
        "### String Basics"
      ]
    },
    {
      "cell_type": "markdown",
      "metadata": {
        "id": "3Ti5Nv7aNsAe"
      },
      "source": [
        "There are many built-in string **properties** that are useful when handling strings. \n",
        "\n",
        "For example, `len()`. This statement allows us to find the length (number of characters) in a string. "
      ]
    },
    {
      "cell_type": "code",
      "metadata": {
        "id": "uBNGvj9uNsAf"
      },
      "source": [
        "len('Hello World')"
      ],
      "execution_count": null,
      "outputs": []
    },
    {
      "cell_type": "markdown",
      "metadata": {
        "id": "AgTf4FqtcnD9"
      },
      "source": [
        "Since a string is a data type, we can assign it to a variable just like a number! \n"
      ]
    },
    {
      "cell_type": "code",
      "metadata": {
        "id": "RbYyeFrLNsAk"
      },
      "source": [
        "# Assign 'Hello World' to mystring variable\n",
        "mystring = 'Hello World'"
      ],
      "execution_count": null,
      "outputs": []
    },
    {
      "cell_type": "code",
      "metadata": {
        "id": "3sAvAFHzNsAp"
      },
      "source": [
        "# Did it work?\n",
        "mystring"
      ],
      "execution_count": null,
      "outputs": []
    },
    {
      "cell_type": "markdown",
      "metadata": {
        "id": "X9GNvLDRnKOX"
      },
      "source": [
        "To see what is inside a variable, use the `print()` statement. "
      ]
    },
    {
      "cell_type": "code",
      "metadata": {
        "id": "Dda7HfhGNsAr"
      },
      "source": [
        "# Print the variable mystring to see what is inside of it\n",
        "print(mystring) "
      ],
      "execution_count": null,
      "outputs": []
    },
    {
      "cell_type": "markdown",
      "metadata": {
        "id": "lk8bxjtCNsAw"
      },
      "source": [
        "Like we mentioned earlier, strings are an example of a sequence. More specifically, a sequence of characters. \n",
        "\n",
        "<font color=\"red\">This means strings are made up of individual elements that can be accessed separately. </font>\n",
        "\n",
        "To take apart a string and work with individual characters, we use **indexing**. \n",
        "\n",
        "Each element of a sequence has an index. These indices are numbers that represent the position of the element in the sequence. For example, in the string `'Hello World'`, the first character, `H` would have an index of 0. Note that in Python, indices start with 0 and not 1. \n",
        "\n"
      ]
    },
    {
      "cell_type": "code",
      "metadata": {
        "id": "Fgzo1XrCNsAx"
      },
      "source": [
        "# Extract first character in a string.\n",
        "mystring[0]"
      ],
      "execution_count": null,
      "outputs": []
    },
    {
      "cell_type": "code",
      "metadata": {
        "id": "0kcd-9EZNsA1"
      },
      "source": [
        "mystring[1]"
      ],
      "execution_count": null,
      "outputs": []
    },
    {
      "cell_type": "code",
      "metadata": {
        "id": "8M44L4hMNsA4"
      },
      "source": [
        "mystring[2]"
      ],
      "execution_count": null,
      "outputs": []
    },
    {
      "cell_type": "markdown",
      "metadata": {
        "id": "ky7Zm-NENsA7"
      },
      "source": [
        "We can use a <code>:</code> to perform ***slicing*** which <font color = \"red\"> grabs every element up to a specified index. For example: </font>"
      ]
    },
    {
      "cell_type": "code",
      "metadata": {
        "id": "jQKnWrNtNsA8",
        "outputId": "75ff3302-898e-47d3-8f6c-f3530172e04c",
        "colab": {
          "base_uri": "https://localhost:8080/",
          "height": 35
        }
      },
      "source": [
        "# Grab all the letters\n",
        "mystring[:]"
      ],
      "execution_count": null,
      "outputs": [
        {
          "output_type": "execute_result",
          "data": {
            "application/vnd.google.colaboratory.intrinsic+json": {
              "type": "string"
            },
            "text/plain": [
              "'Hello World'"
            ]
          },
          "metadata": {
            "tags": []
          },
          "execution_count": 2
        }
      ]
    },
    {
      "cell_type": "code",
      "metadata": {
        "id": "f9xrirSANsBD",
        "outputId": "60f76468-551e-4701-d858-ba3cf71e70df",
        "colab": {
          "base_uri": "https://localhost:8080/",
          "height": 35
        }
      },
      "source": [
        "# Grab all the letters UP TO the 5th index\n",
        "mystring[:5]"
      ],
      "execution_count": null,
      "outputs": [
        {
          "output_type": "execute_result",
          "data": {
            "application/vnd.google.colaboratory.intrinsic+json": {
              "type": "string"
            },
            "text/plain": [
              "'Hello'"
            ]
          },
          "metadata": {
            "tags": []
          },
          "execution_count": 4
        }
      ]
    },
    {
      "cell_type": "markdown",
      "metadata": {
        "id": "5dp4GDO0NsBG"
      },
      "source": [
        "Note that slicing does not grab the 5th indexed element, the space, above. It stops right before it. "
      ]
    },
    {
      "cell_type": "code",
      "metadata": {
        "id": "otKc90t_NsBB",
        "outputId": "530d9526-b5ba-496c-d568-37e0dc665525",
        "colab": {
          "base_uri": "https://localhost:8080/",
          "height": 35
        }
      },
      "source": [
        "# This does not change the original string in any way\n",
        "mystring"
      ],
      "execution_count": null,
      "outputs": [
        {
          "output_type": "execute_result",
          "data": {
            "application/vnd.google.colaboratory.intrinsic+json": {
              "type": "string"
            },
            "text/plain": [
              "'Hello World'"
            ]
          },
          "metadata": {
            "tags": []
          },
          "execution_count": 3
        }
      ]
    },
    {
      "cell_type": "markdown",
      "metadata": {
        "id": "lksAiQL6NsBK"
      },
      "source": [
        "You can also index sequences backwards using negative indeces. "
      ]
    },
    {
      "cell_type": "code",
      "metadata": {
        "id": "8TywqyZ-NsBL",
        "outputId": "fe4d04d4-a967-4477-d59d-74cc2f23171f",
        "colab": {
          "base_uri": "https://localhost:8080/",
          "height": 35
        }
      },
      "source": [
        "# Last letter (one index behind 0 so it loops back around)\n",
        "mystring[-1]"
      ],
      "execution_count": null,
      "outputs": [
        {
          "output_type": "execute_result",
          "data": {
            "application/vnd.google.colaboratory.intrinsic+json": {
              "type": "string"
            },
            "text/plain": [
              "'d'"
            ]
          },
          "metadata": {
            "tags": []
          },
          "execution_count": 6
        }
      ]
    },
    {
      "cell_type": "code",
      "metadata": {
        "id": "LTzPovveNsBO",
        "outputId": "0344bc38-42fe-4f7b-db09-0987bfb328bf",
        "colab": {
          "base_uri": "https://localhost:8080/",
          "height": 35
        }
      },
      "source": [
        "# Grab everything but the last letter\n",
        "mystring[:-1]"
      ],
      "execution_count": null,
      "outputs": [
        {
          "output_type": "execute_result",
          "data": {
            "application/vnd.google.colaboratory.intrinsic+json": {
              "type": "string"
            },
            "text/plain": [
              "'Hello Worl'"
            ]
          },
          "metadata": {
            "tags": []
          },
          "execution_count": 7
        }
      ]
    },
    {
      "cell_type": "markdown",
      "metadata": {
        "id": "XxBxY0SBNsBQ"
      },
      "source": [
        "You can also skip certain elements within the sequence by changing the **step size**. \n",
        "Follow the following format to include step size when dealing with indexing: `samplestring[beginning_index:ending_index:step_size] `"
      ]
    },
    {
      "cell_type": "code",
      "metadata": {
        "id": "D4GZPT3mNsBR"
      },
      "source": [
        "# Grab everything, but go in steps size of 1\n",
        "mystring[::1]"
      ],
      "execution_count": null,
      "outputs": []
    },
    {
      "cell_type": "code",
      "metadata": {
        "id": "PjDfDe3gNsBU"
      },
      "source": [
        "# Grab everything, but go in step sizes of 2\n",
        "mystring[0::2]"
      ],
      "execution_count": null,
      "outputs": []
    },
    {
      "cell_type": "code",
      "metadata": {
        "id": "5t-mgi-KNsBW"
      },
      "source": [
        "# A handy way to reverse a string!\n",
        "mystring[::-1]"
      ],
      "execution_count": null,
      "outputs": []
    },
    {
      "cell_type": "markdown",
      "metadata": {
        "id": "jPCEC_LvfRZp"
      },
      "source": [
        "**TRANSITION**"
      ]
    },
    {
      "cell_type": "markdown",
      "metadata": {
        "id": "P1U1VtJENsBZ"
      },
      "source": [
        "### String Properties\n",
        "It's important to note that strings are ***immutable***. This means that once a string is created, the elements within it can not be changed or replaced. For example:"
      ]
    },
    {
      "cell_type": "code",
      "metadata": {
        "id": "xvPyEmYpNsBa"
      },
      "source": [
        "mystring"
      ],
      "execution_count": null,
      "outputs": []
    },
    {
      "cell_type": "code",
      "metadata": {
        "id": "NDk66bjZNsBc"
      },
      "source": [
        "# Let's try to change the first letter\n",
        "mystring[0] = 'a'"
      ],
      "execution_count": null,
      "outputs": []
    },
    {
      "cell_type": "markdown",
      "metadata": {
        "id": "p_Q9e1MoNsBf"
      },
      "source": [
        "The error tells it to us straight. Strings do not support reassignment.\n",
        "\n",
        "However, we *can* **concatenate** strings. Concatenation allows us to combine strings. "
      ]
    },
    {
      "cell_type": "code",
      "metadata": {
        "id": "MUaQkaxfNsBg"
      },
      "source": [
        "mystring"
      ],
      "execution_count": null,
      "outputs": []
    },
    {
      "cell_type": "code",
      "metadata": {
        "id": "6MkkAvD9NsBk"
      },
      "source": [
        "# Combine strings through concatenation\n",
        "mystring + \". It's me.\""
      ],
      "execution_count": null,
      "outputs": []
    },
    {
      "cell_type": "code",
      "metadata": {
        "id": "_BEU6-T0NsBn"
      },
      "source": [
        "# We can reassign mystring to a new string value.\n",
        "mystring = mystring + \". It's me.\""
      ],
      "execution_count": null,
      "outputs": []
    },
    {
      "cell_type": "code",
      "metadata": {
        "id": "vdYO-sKKNsBq"
      },
      "source": [
        "print(mystring)"
      ],
      "execution_count": null,
      "outputs": []
    },
    {
      "cell_type": "markdown",
      "metadata": {
        "id": "QVrhPwoGhubY"
      },
      "source": [
        "We already saw how to use len(). This is an example of a built-in way to interact with strings, but there are quite a few more which we will cover next."
      ]
    },
    {
      "cell_type": "markdown",
      "metadata": {
        "id": "m7KcM_wENsB1"
      },
      "source": [
        "### Basic Built-in String Methods\n",
        "\n",
        "Python has many built-in string **methods**. Some methods allow the user to perform simple alterations to a string. \n",
        "\n"
      ]
    },
    {
      "cell_type": "code",
      "metadata": {
        "id": "NoO8TSuwNsB2"
      },
      "source": [
        "mystring"
      ],
      "execution_count": null,
      "outputs": []
    },
    {
      "cell_type": "code",
      "metadata": {
        "id": "7RyvdFNGNsB5"
      },
      "source": [
        "# Make all letters in a string uppercase\n",
        "mystring.upper()"
      ],
      "execution_count": null,
      "outputs": []
    },
    {
      "cell_type": "code",
      "metadata": {
        "id": "0sUWl6CANsB-"
      },
      "source": [
        "# Make all letters in a string lowercase\n",
        "mystring.lower()"
      ],
      "execution_count": null,
      "outputs": []
    },
    {
      "cell_type": "markdown",
      "metadata": {
        "id": "Q-YevLwStDCH"
      },
      "source": [
        "<font color = \"red\"> Cover `.split()` ? </font>"
      ]
    },
    {
      "cell_type": "markdown",
      "metadata": {
        "id": "4o2jcAAhNsCL"
      },
      "source": [
        "<font color = \"red\" > There are many more methods than the ones covered here. Visit the Advanced String section to find out more! </font>"
      ]
    },
    {
      "cell_type": "markdown",
      "metadata": {
        "id": "x90qHJh7DzpF"
      },
      "source": [
        "### 1.0 Now Try This"
      ]
    },
    {
      "cell_type": "markdown",
      "metadata": {
        "id": "2jQg-dN0ZbY-"
      },
      "source": [
        "Given the string `Amsterdam`, write a Python statement that displays the `'d'`. **HINT**: This requires indexing. Enter your code in the cell below:"
      ]
    },
    {
      "cell_type": "code",
      "metadata": {
        "id": "3G3a5dNZZbY_"
      },
      "source": [
        "# Once your have verified your answer please uncomment the line below and run it, this will save your code \n",
        "#%%writefile -a {folder_location}/1.py\n",
        "# Please note that if you uncomment and rub multiple times, the program will keep appending to the file.\n",
        "\n",
        "s = 'Amsterdam'\n",
        "# Print out 'd' using indexing\n",
        "answer1 = # INSERT CODE HERE\n",
        "print(answer1)\n"
      ],
      "execution_count": null,
      "outputs": []
    },
    {
      "cell_type": "markdown",
      "metadata": {
        "id": "ilw29z4OZbZE"
      },
      "source": [
        "Reverse the string `'Amsterdam'` using slicing:"
      ]
    },
    {
      "cell_type": "code",
      "metadata": {
        "id": "BABsKQN4ZbZE"
      },
      "source": [
        "# Once your have verified your answer please uncomment the line below and run it, this will save your code \n",
        "#%%writefile -a {folder_location}/1.py\n",
        "# Please note that if you uncomment and rub multiple times, the program will keep appending to the file.\n",
        "\n",
        "s ='Amsterdam'\n",
        "# Reverse the string using slicing\n",
        "answer2 = # INSERT CODE HERE\n",
        "print(answer2)"
      ],
      "execution_count": null,
      "outputs": []
    },
    {
      "cell_type": "markdown",
      "metadata": {
        "id": "rgM2B4rmZbZI"
      },
      "source": [
        "Given the string `Amsterdam`, display the letter `'m'` using negative indexing."
      ]
    },
    {
      "cell_type": "code",
      "metadata": {
        "id": "rZiItM7hZbZK"
      },
      "source": [
        "# Once your have verified your answer please uncomment the line below and run it, this will save your code \n",
        "#%%writefile -a {folder_location}/1.py\n",
        "# Please note that if you uncomment and rub multiple times, the program will keep appending to the file.\n",
        "\n",
        "s ='Amsterdam'\n",
        "\n",
        "# Print out the 'm'\n",
        "answer3 = # INSERT CODE HERE\n",
        "print(answer3)"
      ],
      "execution_count": null,
      "outputs": []
    },
    {
      "cell_type": "markdown",
      "metadata": {
        "id": "hrXZof6r218Z"
      },
      "source": [
        "## Booleans\n",
        "\n",
        "Booleans are another example of a data type. They can only be one of two values: `True` or `False`, and are usually the answers to any true/false questions."
      ]
    },
    {
      "cell_type": "code",
      "metadata": {
        "id": "UGHMeXpD218a"
      },
      "source": [
        "# Booleans can be assigned to variables, just like numbers or strings\n",
        "a = True"
      ],
      "execution_count": null,
      "outputs": []
    },
    {
      "cell_type": "code",
      "metadata": {
        "id": "B7BmKhMA218d"
      },
      "source": [
        "#Show\n",
        "a"
      ],
      "execution_count": null,
      "outputs": []
    },
    {
      "cell_type": "markdown",
      "metadata": {
        "id": "sdZjutML218i"
      },
      "source": [
        "In math, we would often ask questions in the form of inequalities, i.e \"Is 2 greater than 1?\". These questions always had True/False answers, and the same holds true in Python. Trying to answer the questions always returns a Boolean value."
      ]
    },
    {
      "cell_type": "code",
      "metadata": {
        "id": "CsA40nxa218j",
        "outputId": "faae3103-06d9-45be-ae67-e73adbcebb95",
        "colab": {
          "base_uri": "https://localhost:8080/",
          "height": 34
        }
      },
      "source": [
        "# Output is Boolean\n",
        "1 > 2"
      ],
      "execution_count": null,
      "outputs": [
        {
          "output_type": "execute_result",
          "data": {
            "text/plain": [
              "False"
            ]
          },
          "metadata": {
            "tags": []
          },
          "execution_count": 4
        }
      ]
    },
    {
      "cell_type": "markdown",
      "metadata": {
        "id": "Q0d2MOxp218p"
      },
      "source": [
        "If we have a variable that we know will hold a Boolean value in the future, we can temporarily assign it a placeholder. In Python, that is `None`."
      ]
    },
    {
      "cell_type": "code",
      "metadata": {
        "id": "-6L2eHxX218q"
      },
      "source": [
        "# None is a Boolean placeholder\n",
        "b = None"
      ],
      "execution_count": null,
      "outputs": []
    },
    {
      "cell_type": "code",
      "metadata": {
        "id": "5AkpZ6Gu218u"
      },
      "source": [
        "# Show\n",
        "print(b)"
      ],
      "execution_count": null,
      "outputs": []
    },
    {
      "cell_type": "markdown",
      "metadata": {
        "id": "0VOMDbyu218x"
      },
      "source": [
        "**TRANSITION**"
      ]
    },
    {
      "cell_type": "markdown",
      "metadata": {
        "id": "_d9-nOtO28os"
      },
      "source": [
        "## Comparison Operators \n",
        "Many times we want to compare two numbers and see which one is greater, or if they are equal. This isn't just limited to basic math, but will also play a key part when trying to filter a dataset. You've probably seen all of these operators before, but let's do a quick refresher. \n",
        "\n",
        "<h2> Table of Comparison Operators </h2><p>  In the table below, assume $a=9$ and $b=11$.</p>\n",
        "\n",
        "<table class=\"table table-bordered\">\n",
        "<tr>\n",
        "<th style=\"width:10%\">Operator</th><th style=\"width:45%\">Description</th><th>Example</th>\n",
        "</tr>\n",
        "<tr>\n",
        "<td>==</td>\n",
        "<td> Checks to see if two numbers are equal.</td>\n",
        "<td> (a == b) is not true.</td>\n",
        "</tr>\n",
        "<tr>\n",
        "<td>!=</td>\n",
        "<td>Checks to see if two numbers are <b> not </b> equal.</td>\n",
        "<td>(a != b) is true</td>\n",
        "</tr>\n",
        "<tr>\n",
        "<td>&gt;</td>\n",
        "<td>Checks to see if the first number is greater than the second.</td>\n",
        "<td> (a &gt; b) is not true.</td>\n",
        "</tr>\n",
        "<tr>\n",
        "<td>&lt;</td>\n",
        "<td>Checks to see if the first number is lesser than the second.</td>\n",
        "<td> (a &lt; b) is true.</td>\n",
        "</tr>\n",
        "<tr>\n",
        "<td>&gt;=</td>\n",
        "<td>Checks to see if the first number is greater than <b> or equal to </b> the second.</td>\n",
        "<td> (a &gt;= b) is not true. </td>\n",
        "</tr>\n",
        "<tr>\n",
        "<td>&lt;=</td>\n",
        "<td>Checks to see if the first number is lesser than <b> or equal to </b> the second.</td>\n",
        "<td> (a &lt;= b) is true. </td>\n",
        "</tr>\n",
        "</table>"
      ]
    },
    {
      "cell_type": "markdown",
      "metadata": {
        "id": "Oxyatrdj28ow"
      },
      "source": [
        "Let's work through quick examples of each of these.\n",
        "\n",
        "#### Equal"
      ]
    },
    {
      "cell_type": "code",
      "metadata": {
        "id": "rPThJGsl28ox"
      },
      "source": [
        "4 == 4"
      ],
      "execution_count": null,
      "outputs": []
    },
    {
      "cell_type": "code",
      "metadata": {
        "id": "W2W27aBp28o1"
      },
      "source": [
        "1 == 0"
      ],
      "execution_count": null,
      "outputs": []
    },
    {
      "cell_type": "markdown",
      "metadata": {
        "id": "gtzQpCPO28o5"
      },
      "source": [
        "Note that <code>==</code> is a <em>comparison</em> operator, while <code>=</code> is an <em>assignment</em> operator."
      ]
    },
    {
      "cell_type": "markdown",
      "metadata": {
        "id": "4FSgFc8y28o5"
      },
      "source": [
        "#### Not Equal"
      ]
    },
    {
      "cell_type": "code",
      "metadata": {
        "id": "BNQaWArv28o6"
      },
      "source": [
        "4 != 5"
      ],
      "execution_count": null,
      "outputs": []
    },
    {
      "cell_type": "code",
      "metadata": {
        "id": "D9hVgJsD28o9"
      },
      "source": [
        "1 != 1"
      ],
      "execution_count": null,
      "outputs": []
    },
    {
      "cell_type": "markdown",
      "metadata": {
        "id": "iVvotha-28pD"
      },
      "source": [
        "#### Greater Than"
      ]
    },
    {
      "cell_type": "code",
      "metadata": {
        "id": "qA1VVR7128pI"
      },
      "source": [
        "8 > 3"
      ],
      "execution_count": null,
      "outputs": []
    },
    {
      "cell_type": "code",
      "metadata": {
        "id": "PrZb9Zy_28pN"
      },
      "source": [
        "1 > 9"
      ],
      "execution_count": null,
      "outputs": []
    },
    {
      "cell_type": "markdown",
      "metadata": {
        "id": "PYK9vEa-28pT"
      },
      "source": [
        "#### Less Than"
      ]
    },
    {
      "cell_type": "code",
      "metadata": {
        "id": "f5x67fWk28pU"
      },
      "source": [
        "3 < 8"
      ],
      "execution_count": null,
      "outputs": []
    },
    {
      "cell_type": "code",
      "metadata": {
        "id": "1eB15ns928pX"
      },
      "source": [
        "7 < 0"
      ],
      "execution_count": null,
      "outputs": []
    },
    {
      "cell_type": "markdown",
      "metadata": {
        "id": "wDXSDbik28pa"
      },
      "source": [
        "#### Greater Than or Equal to"
      ]
    },
    {
      "cell_type": "code",
      "metadata": {
        "id": "k4BQs2oB28pb"
      },
      "source": [
        "7 >= 7"
      ],
      "execution_count": null,
      "outputs": []
    },
    {
      "cell_type": "code",
      "metadata": {
        "id": "BPBKLDtb28pd"
      },
      "source": [
        "9 >= 4"
      ],
      "execution_count": null,
      "outputs": []
    },
    {
      "cell_type": "markdown",
      "metadata": {
        "id": "ai1kLMhy28pi"
      },
      "source": [
        "#### Less than or Equal to"
      ]
    },
    {
      "cell_type": "code",
      "metadata": {
        "id": "5KuB4wd028pi"
      },
      "source": [
        "4 <= 4"
      ],
      "execution_count": null,
      "outputs": []
    },
    {
      "cell_type": "code",
      "metadata": {
        "id": "YFbO6yih28pl"
      },
      "source": [
        "1 <= 3"
      ],
      "execution_count": null,
      "outputs": []
    },
    {
      "cell_type": "markdown",
      "metadata": {
        "id": "eIDePOLk28po"
      },
      "source": [
        "**TRANSITION**"
      ]
    },
    {
      "cell_type": "markdown",
      "metadata": {
        "id": "06d6iMqfOk_Z"
      },
      "source": [
        "## Lists\n",
        "We briefly talked about *sequences* when going over strings. A list is another kind of sequence. The main difference is that a list is more generic. It can hold more data types than just letters or characters."
      ]
    },
    {
      "cell_type": "markdown",
      "metadata": {
        "id": "UGViz_ZWjVTP"
      },
      "source": [
        "### Creating Lists"
      ]
    },
    {
      "cell_type": "markdown",
      "metadata": {
        "id": "GpuayryD9ktV"
      },
      "source": [
        "A list is of the form: `[a,b,c]` where each data element is separated by commas, and the whole list is surrounded by square brackets."
      ]
    },
    {
      "cell_type": "code",
      "metadata": {
        "id": "93uSScXTOk_a"
      },
      "source": [
        "# Create a list and asisgn it to the variable my_list\n",
        "my_list = [1,2,3]"
      ],
      "execution_count": null,
      "outputs": []
    },
    {
      "cell_type": "markdown",
      "metadata": {
        "id": "9ggyXUl8Ok_e"
      },
      "source": [
        "That was a list of integers, but like we mentioned, lists can store many data types at once."
      ]
    },
    {
      "cell_type": "code",
      "metadata": {
        "id": "TPyS5RpIOk_g"
      },
      "source": [
        "# Here, my_list is storing a string, an integer, a float, and a character\n",
        "my_list = ['A string',23,100.232,'o']"
      ],
      "execution_count": null,
      "outputs": []
    },
    {
      "cell_type": "markdown",
      "metadata": {
        "id": "vRJ7rYkuOk_l"
      },
      "source": [
        "You can examine list properties by using the same statements that we used for strings. For example, if you wanted to know how many elements are in a list, you can use the `len()` statement."
      ]
    },
    {
      "cell_type": "code",
      "metadata": {
        "id": "ukEGubDvOk_m"
      },
      "source": [
        "len(my_list)"
      ],
      "execution_count": null,
      "outputs": []
    },
    {
      "cell_type": "code",
      "metadata": {
        "id": "oWgtuVsmOk_q"
      },
      "source": [
        "my_list = ['one','two','three',4,5]"
      ],
      "execution_count": null,
      "outputs": []
    },
    {
      "cell_type": "markdown",
      "metadata": {
        "id": "u2fBYlzo-uZ7"
      },
      "source": [
        "All sequences can be indexed. We saw how to do it with strings, and lists are no different."
      ]
    },
    {
      "cell_type": "code",
      "metadata": {
        "id": "xDX7DN7uOk_t"
      },
      "source": [
        "# Grab element at index 0\n",
        "my_list[0]"
      ],
      "execution_count": null,
      "outputs": []
    },
    {
      "cell_type": "code",
      "metadata": {
        "id": "4Z36l5JOOk_x"
      },
      "source": [
        "# Grab index 1 and everything past it\n",
        "my_list[1:]"
      ],
      "execution_count": null,
      "outputs": []
    },
    {
      "cell_type": "code",
      "metadata": {
        "id": "VjuHzfJvOk_1"
      },
      "source": [
        "# Grab everything UP TO index 3\n",
        "my_list[:3]"
      ],
      "execution_count": null,
      "outputs": []
    },
    {
      "cell_type": "markdown",
      "metadata": {
        "id": "a4zfPBV5Ok_4"
      },
      "source": [
        "Lists can be concatenated the same way strings can."
      ]
    },
    {
      "cell_type": "code",
      "metadata": {
        "id": "34u_E9sVOk_5"
      },
      "source": [
        "my_list + ['new item']"
      ],
      "execution_count": null,
      "outputs": []
    },
    {
      "cell_type": "markdown",
      "metadata": {
        "id": "uWeYqzrdOk_8"
      },
      "source": [
        "Since we didn't reassign `my_list`, this didn't change the original `my_list`."
      ]
    },
    {
      "cell_type": "code",
      "metadata": {
        "id": "iDezs3lnOk_8"
      },
      "source": [
        "my_list"
      ],
      "execution_count": null,
      "outputs": []
    },
    {
      "cell_type": "markdown",
      "metadata": {
        "id": "HpAWR1hJOlAA"
      },
      "source": [
        "If you want the change to be permanent, you need to reassign `my_list`."
      ]
    },
    {
      "cell_type": "code",
      "metadata": {
        "id": "eFNB5w3fOlAA"
      },
      "source": [
        "# Reassign\n",
        "my_list = my_list + ['add new item permanently']"
      ],
      "execution_count": null,
      "outputs": []
    },
    {
      "cell_type": "code",
      "metadata": {
        "id": "fm453awNOlAE"
      },
      "source": [
        "my_list"
      ],
      "execution_count": null,
      "outputs": []
    },
    {
      "cell_type": "markdown",
      "metadata": {
        "id": "R9hddNpTtVc6"
      },
      "source": [
        "Now let's briefly go over some list methods."
      ]
    },
    {
      "cell_type": "markdown",
      "metadata": {
        "id": "zjduIynaOlAP"
      },
      "source": [
        "### Basic List Methods\n",
        "We already mentioned how lists were more flexible as a sequence than strings. Another key difference between them is that lists are **mutable**. In other words, they can be changed after creation."
      ]
    },
    {
      "cell_type": "code",
      "metadata": {
        "id": "A4xC0i8NOlAQ"
      },
      "source": [
        "# Create a new list\n",
        "list1 = [1,2,3]"
      ],
      "execution_count": null,
      "outputs": []
    },
    {
      "cell_type": "markdown",
      "metadata": {
        "id": "qLfxNw4yOlAU"
      },
      "source": [
        "If we want to add a new item to the end of a list, we can do so with the `append()` method."
      ]
    },
    {
      "cell_type": "code",
      "metadata": {
        "id": "C-TiI_eUOlAV"
      },
      "source": [
        "# Append a string t \n",
        "list1.append('append me!')"
      ],
      "execution_count": null,
      "outputs": []
    },
    {
      "cell_type": "code",
      "metadata": {
        "id": "Jaj9-tzgOlAZ"
      },
      "source": [
        "# Show\n",
        "list1"
      ],
      "execution_count": null,
      "outputs": []
    },
    {
      "cell_type": "markdown",
      "metadata": {
        "id": "7CIIhCgYOlAd"
      },
      "source": [
        "Sometimes, we also want to remove an item from a list. To do this, we use the `pop()` method. \n",
        "\n",
        "While `append()` always adds the item to the end of the list, you can actually choose which item `pop()` should remove by specifying the index of that item. If you don't choose a specific index, `pop()` removes the last item by default."
      ]
    },
    {
      "cell_type": "code",
      "metadata": {
        "id": "hnX-fPkBOlAe"
      },
      "source": [
        "# Pop off the 0 indexed item\n",
        "list1.pop(0)"
      ],
      "execution_count": null,
      "outputs": []
    },
    {
      "cell_type": "code",
      "metadata": {
        "id": "JrMYJOQdOlAh"
      },
      "source": [
        "# The first item was permanently deleted from list1\n",
        "list1"
      ],
      "execution_count": null,
      "outputs": []
    },
    {
      "cell_type": "markdown",
      "metadata": {
        "id": "-u5ZXjEgByAQ"
      },
      "source": [
        "We can keep track of the elements that we remove from a list."
      ]
    },
    {
      "cell_type": "code",
      "metadata": {
        "id": "ttUAkqYWOlAl"
      },
      "source": [
        "popped_item = list1.pop()\n",
        "popped_item"
      ],
      "execution_count": null,
      "outputs": []
    },
    {
      "cell_type": "code",
      "metadata": {
        "id": "n5GIoG9HCDiz"
      },
      "source": [
        "# Now list1 had its last element removed\n",
        "list1"
      ],
      "execution_count": null,
      "outputs": []
    },
    {
      "cell_type": "markdown",
      "metadata": {
        "id": "8Z-DqqQiOlAt"
      },
      "source": [
        "When indexing any sequence, you will get an error if you try to access an index that doesn't exist."
      ]
    },
    {
      "cell_type": "code",
      "metadata": {
        "id": "4W5S_ImiOlAu"
      },
      "source": [
        "list1[100]"
      ],
      "execution_count": null,
      "outputs": []
    },
    {
      "cell_type": "markdown",
      "metadata": {
        "id": "YPVuQbfQOlAx"
      },
      "source": [
        "Two additional methods that come in handy for lists are `sort()` and `reverse()`.\n",
        "\n",
        "`sort()` does just that. If you have a list of strings or characters, it will sort the list in alphabetical order. If you're dealing with a list of numbers, it will sort from smallest to largest. (You can also make it sort from largest to smallest).\n",
        "\n"
      ]
    },
    {
      "cell_type": "code",
      "metadata": {
        "id": "OhTzTsCqOlAy"
      },
      "source": [
        "new_list = ['a','e','x','b','c']"
      ],
      "execution_count": null,
      "outputs": []
    },
    {
      "cell_type": "code",
      "metadata": {
        "id": "g3-2LXA8OlA_"
      },
      "source": [
        "# Since new_list only has letters, it will be sorted in alphabetical order\n",
        "new_list.sort()\n",
        "new_list"
      ],
      "execution_count": null,
      "outputs": []
    },
    {
      "cell_type": "code",
      "metadata": {
        "id": "eoKP7X-zDQ00"
      },
      "source": [
        "# Here's an example of sorting a list of numbers from least to greatest\n",
        "list2 = [3,2,9,6,4,0]\n",
        "list2.sort()"
      ],
      "execution_count": null,
      "outputs": []
    },
    {
      "cell_type": "markdown",
      "metadata": {
        "id": "LIoVWPC0EdKd"
      },
      "source": [
        "By specifying `reverse=True` when using `sort()`, we can sort a list of numbers in descending order."
      ]
    },
    {
      "cell_type": "code",
      "metadata": {
        "id": "8VfWHNCpEcIh"
      },
      "source": [
        "list2.sort(reverse=True)\n",
        "list2"
      ],
      "execution_count": null,
      "outputs": []
    },
    {
      "cell_type": "markdown",
      "metadata": {
        "id": "0sJc8on2Dx2y"
      },
      "source": [
        "`reverse()` simply reverses the current order of the list."
      ]
    },
    {
      "cell_type": "code",
      "metadata": {
        "id": "WskGGD9iOlA6"
      },
      "source": [
        "# Use reverse to reverse order (this is permanent!)\n",
        "new_list.reverse()\n",
        "new_list"
      ],
      "execution_count": null,
      "outputs": []
    },
    {
      "cell_type": "markdown",
      "metadata": {
        "id": "ZMIKx3AjOlBH"
      },
      "source": [
        "### Nesting Lists\n",
        "We already showed how lists can store data of different types, but we can take that even further. Lists can even store other lists. This is called **nesting**.\n",
        "\n",
        "Let's go through one example."
      ]
    },
    {
      "cell_type": "code",
      "metadata": {
        "id": "-P9Wkw91OlBI"
      },
      "source": [
        "# Here, we build three lists\n",
        "lst_1=[1,2,3]\n",
        "lst_2=[4,5,6]\n",
        "lst_3=[7,8,9]\n",
        "\n",
        "# By nesting them all, we create a matrix (a list of lists)\n",
        "matrix = [lst_1,lst_2,lst_3]"
      ],
      "execution_count": null,
      "outputs": []
    },
    {
      "cell_type": "code",
      "metadata": {
        "id": "eMKJk5cLOlBK"
      },
      "source": [
        "# Show\n",
        "matrix"
      ],
      "execution_count": null,
      "outputs": []
    },
    {
      "cell_type": "markdown",
      "metadata": {
        "id": "1CiTJaLFOlBN"
      },
      "source": [
        "Indexing gets trickier when dealing with nested lists. <font color=\"red\">Now we have elements that have their own elements. </font> So to actually index them, we have to index multiple times, as you can see in the following example.\n"
      ]
    },
    {
      "cell_type": "code",
      "metadata": {
        "id": "fK_B1F2iOlBN"
      },
      "source": [
        "# Grab first element in matrix (lst_1)\n",
        "matrix[0]"
      ],
      "execution_count": null,
      "outputs": []
    },
    {
      "cell_type": "code",
      "metadata": {
        "id": "L2qEysM1OlBQ"
      },
      "source": [
        "# Grab first element of lst_1 (1)\n",
        "matrix[0][0]"
      ],
      "execution_count": null,
      "outputs": []
    },
    {
      "cell_type": "markdown",
      "metadata": {
        "id": "jlS7xu6QFvqJ"
      },
      "source": [
        "### 2.0 Now Try This"
      ]
    },
    {
      "cell_type": "markdown",
      "metadata": {
        "id": "IKYj6iiBZbZR"
      },
      "source": [
        "Using any way that we've already taught you, build the list `[0,0,0]`."
      ]
    },
    {
      "cell_type": "code",
      "metadata": {
        "id": "qvMc4qjWZbZY"
      },
      "source": [
        "# Once your have verified your answer please uncomment the line below and run it, this will save your code \n",
        "#%%writefile -a {folder_location}/2.py\n",
        "# Please note that if you uncomment and press multiple times, the program will keep appending to the file.\n",
        "\n",
        "# Build the list\n",
        "answer1 = #INSERT CODE HERE\n",
        "print(answer1)"
      ],
      "execution_count": null,
      "outputs": []
    },
    {
      "cell_type": "markdown",
      "metadata": {
        "id": "TIvqQqsBZbZn"
      },
      "source": [
        "Modify `answer2` and replace the `hello` element with `goodbye`."
      ]
    },
    {
      "cell_type": "code",
      "metadata": {
        "id": "20643TYxZbZo"
      },
      "source": [
        "# Once your have verified your answer please uncomment the line below and run it, this will save your code \n",
        "#%%writefile -a {folder_location}/2.py\n",
        "# Please note that if you uncomment and press multiple times, the program will keep appending to the file.\n",
        "\n",
        "answer2 = [1,2,[3,4,'hello']]\n",
        "answer2 = #INSERT CODE HERE\n",
        "print(answer2)"
      ],
      "execution_count": null,
      "outputs": []
    },
    {
      "cell_type": "markdown",
      "metadata": {
        "id": "v_zLIslPZbZw"
      },
      "source": [
        "Sort the list below:"
      ]
    },
    {
      "cell_type": "code",
      "metadata": {
        "id": "IJZRvdN7ZbZx"
      },
      "source": [
        "# Once your have verified your answer please uncomment the line below and run it, this will save your code \n",
        "#%%writefile -a {folder_location}/2.py\n",
        "# Please note that if you uncomment and press multiple times, the program will keep appending to the file.\n",
        "\n",
        "answer3 = [5,3,4,6,1]\n",
        "answer3 = #INSERT CODE HERE\n",
        "print(answer3)"
      ],
      "execution_count": null,
      "outputs": []
    },
    {
      "cell_type": "markdown",
      "metadata": {
        "id": "qDEeD8_NBbSc"
      },
      "source": [
        "## Tuples\n",
        "\n",
        "Tuples are very similar to lists with one key difference. They are immutable. In other words, once you create a tuple, you can never modify its contents."
      ]
    },
    {
      "cell_type": "markdown",
      "metadata": {
        "id": "WDYmdzPj935W"
      },
      "source": [
        "### Constructing Tuples\n",
        "\n",
        "You can construct a tuple almost exactly like a list. Only, you would surround the elements with parentheses `( )` rather than square brackets `[ ]`."
      ]
    },
    {
      "cell_type": "code",
      "metadata": {
        "id": "PI539KXHBbSe"
      },
      "source": [
        "# Create a tuple\n",
        "t = (1,2,3)"
      ],
      "execution_count": 6,
      "outputs": []
    },
    {
      "cell_type": "markdown",
      "metadata": {
        "id": "x2cHknnxcGOy"
      },
      "source": [
        "Trying to change a tuple afterwards won't work."
      ]
    },
    {
      "cell_type": "code",
      "metadata": {
        "id": "_75GFI-0cMkF",
        "outputId": "3a83e43d-1006-426c-e050-abb363ce18ad",
        "colab": {
          "base_uri": "https://localhost:8080/",
          "height": 164
        }
      },
      "source": [
        "# Tuples are immutable\n",
        "t[0] = 4"
      ],
      "execution_count": 7,
      "outputs": [
        {
          "output_type": "error",
          "ename": "TypeError",
          "evalue": "ignored",
          "traceback": [
            "\u001b[0;31m---------------------------------------------------------------------------\u001b[0m",
            "\u001b[0;31mTypeError\u001b[0m                                 Traceback (most recent call last)",
            "\u001b[0;32m<ipython-input-7-08a0409f2124>\u001b[0m in \u001b[0;36m<module>\u001b[0;34m()\u001b[0m\n\u001b[0;32m----> 1\u001b[0;31m \u001b[0mt\u001b[0m\u001b[0;34m[\u001b[0m\u001b[0;36m0\u001b[0m\u001b[0;34m]\u001b[0m \u001b[0;34m=\u001b[0m \u001b[0;36m4\u001b[0m\u001b[0;34m\u001b[0m\u001b[0;34m\u001b[0m\u001b[0m\n\u001b[0m",
            "\u001b[0;31mTypeError\u001b[0m: 'tuple' object does not support item assignment"
          ]
        }
      ]
    },
    {
      "cell_type": "markdown",
      "metadata": {
        "id": "St0HF6LOaxMl"
      },
      "source": [
        "You can use `len()` on tuples just like with strings or lists."
      ]
    },
    {
      "cell_type": "code",
      "metadata": {
        "id": "dU_pWYhQBbSi"
      },
      "source": [
        "len(t)"
      ],
      "execution_count": null,
      "outputs": []
    },
    {
      "cell_type": "markdown",
      "metadata": {
        "id": "rN_pdVRBa4bz"
      },
      "source": [
        "Tuples can also hold data of different types."
      ]
    },
    {
      "cell_type": "code",
      "metadata": {
        "id": "QtnrN6_PBbSm",
        "outputId": "00f09664-95b2-4756-d334-3ead821b0cfd",
        "colab": {
          "base_uri": "https://localhost:8080/",
          "height": 34
        }
      },
      "source": [
        "\n",
        "t = ('one',2,'f',3.14)\n",
        "\n",
        "# Show\n",
        "t"
      ],
      "execution_count": 2,
      "outputs": [
        {
          "output_type": "execute_result",
          "data": {
            "text/plain": [
              "('one', 2, 'f', 3.14)"
            ]
          },
          "metadata": {
            "tags": []
          },
          "execution_count": 2
        }
      ]
    },
    {
      "cell_type": "markdown",
      "metadata": {
        "id": "fJQXx7vgbByc"
      },
      "source": [
        "You can also index and slice a tuple just like a list."
      ]
    },
    {
      "cell_type": "code",
      "metadata": {
        "id": "xyu4CGwZBbSq",
        "outputId": "22b30ff6-48aa-42c1-8f0f-d1d946436eea",
        "colab": {
          "base_uri": "https://localhost:8080/",
          "height": 51
        }
      },
      "source": [
        "# Indexing\n",
        "print(t[0])\n",
        "\n",
        "# Slicing\n",
        "print(t[:2])"
      ],
      "execution_count": 3,
      "outputs": [
        {
          "output_type": "stream",
          "text": [
            "one\n",
            "('one', 2)\n"
          ],
          "name": "stdout"
        }
      ]
    },
    {
      "cell_type": "markdown",
      "metadata": {
        "id": "DBLmUGHfBbSw"
      },
      "source": [
        "### Basic Tuple Methods\n",
        "\n",
        "Tuples only have a few methods to work with. Two of the most useful are `index()` and `count()`."
      ]
    },
    {
      "cell_type": "code",
      "metadata": {
        "id": "9iAxkxEfBbSx",
        "outputId": "9b4a2d91-c8ed-40e4-8c94-0be788bcd12d",
        "colab": {
          "base_uri": "https://localhost:8080/",
          "height": 34
        }
      },
      "source": [
        "# Use .index to enter a value and return the index\n",
        "t.index('one')"
      ],
      "execution_count": 4,
      "outputs": [
        {
          "output_type": "execute_result",
          "data": {
            "text/plain": [
              "0"
            ]
          },
          "metadata": {
            "tags": []
          },
          "execution_count": 4
        }
      ]
    },
    {
      "cell_type": "code",
      "metadata": {
        "id": "YxcUO8JhBbS2",
        "outputId": "f29132f8-a1cd-4ee8-e56e-7f0564dd440b",
        "colab": {
          "base_uri": "https://localhost:8080/",
          "height": 34
        }
      },
      "source": [
        "# Use .count to count the number of times a value appears\n",
        "t.count('one')"
      ],
      "execution_count": 5,
      "outputs": [
        {
          "output_type": "execute_result",
          "data": {
            "text/plain": [
              "1"
            ]
          },
          "metadata": {
            "tags": []
          },
          "execution_count": 5
        }
      ]
    },
    {
      "cell_type": "markdown",
      "metadata": {
        "id": "rbJsQW4vBbTD"
      },
      "source": [
        "### When to Use Tuples\n",
        "\n",
        "It might seem like tuples are just inferior versions of lists. But they are very useful in certain circumstances. For instance, if you have a set of data that you don't ever want modified, even intentionally, storing it in a tuple is the best approach."
      ]
    },
    {
      "cell_type": "markdown",
      "metadata": {
        "id": "GavPLpw0GjP_"
      },
      "source": [
        "### 3.0 Now Try This"
      ]
    },
    {
      "cell_type": "markdown",
      "metadata": {
        "id": "2XImAqwcZbaH"
      },
      "source": [
        "Create a tuple."
      ]
    },
    {
      "cell_type": "code",
      "metadata": {
        "id": "JNKxQlgfeIQx"
      },
      "source": [
        "# Once your have verified your answer please uncomment the line below and run it, this will save your code \n",
        "#%%writefile -a {folder_location}/3.py\n",
        "# Please note that if you uncomment and press multiple times, the program will keep appending to the file. \n",
        "# So only uncomment it when you want to save your answer.\n",
        "\n",
        "answer1 = #INSERT CODE HERE\n",
        "print(type(answer1))"
      ],
      "execution_count": null,
      "outputs": []
    },
    {
      "cell_type": "markdown",
      "metadata": {
        "id": "Gml2Q3rPOzP6"
      },
      "source": [
        "## Dictionaries\n",
        "\n",
        "So far, we've only been talking about sequences. Dictionaries are an example of a **mapping**. They store data in the form of **key-value pairs**. This method is when you assign a unique ID to a data value, and make it so that you can only access that data by using its ID. \n",
        "\n",
        "You can think of a Python dictionary to be like an actual dictionary. The words are the keys, and their definitions are the values."
      ]
    },
    {
      "cell_type": "markdown",
      "metadata": {
        "id": "j5v_alrd8KaO"
      },
      "source": [
        "### Constructing a Dictionary\n",
        "Dictionaries are built a little differently than tuples or lists. They generally look like this:\n",
        "\n",
        "`{key1:value1,key2:value2,...}`\n",
        "\n",
        "They are surrounded by curly braces `{ }`, each key is connected to its value by a colon `:`, and every pair is separated by commas.\n",
        "\n",
        "# START HERE"
      ]
    },
    {
      "cell_type": "code",
      "metadata": {
        "id": "Ibt_zazrOzP7"
      },
      "source": [
        "# Make a dictionary with {} and : to signify a key and a value\n",
        "my_dict = {'key1':'value1','key2':'value2'}"
      ],
      "execution_count": null,
      "outputs": []
    },
    {
      "cell_type": "code",
      "metadata": {
        "id": "UcpULUI4OzQC"
      },
      "source": [
        "# Call values by their key\n",
        "my_dict['key2']"
      ],
      "execution_count": null,
      "outputs": []
    },
    {
      "cell_type": "markdown",
      "metadata": {
        "id": "17-ijFwFOzQI"
      },
      "source": [
        "Its important to note that dictionaries are very flexible in the data types they can hold. For example:"
      ]
    },
    {
      "cell_type": "code",
      "metadata": {
        "id": "j7ZWMM7oOzQJ"
      },
      "source": [
        "my_dict = {'key1':123,'key2':[12,23,33],'key3':['item0','item1','item2']}"
      ],
      "execution_count": null,
      "outputs": []
    },
    {
      "cell_type": "code",
      "metadata": {
        "id": "57kiUxF2OzQO"
      },
      "source": [
        "# Let's call items from the dictionary\n",
        "my_dict['key3']"
      ],
      "execution_count": null,
      "outputs": []
    },
    {
      "cell_type": "code",
      "metadata": {
        "id": "f0T3aDArOzQT"
      },
      "source": [
        "# Can call an index on that value\n",
        "my_dict['key3'][0]"
      ],
      "execution_count": null,
      "outputs": []
    },
    {
      "cell_type": "code",
      "metadata": {
        "id": "cB7xzb4FOzQY"
      },
      "source": [
        "# Can then even call methods on that value\n",
        "my_dict['key3'][0].upper()"
      ],
      "execution_count": null,
      "outputs": []
    },
    {
      "cell_type": "markdown",
      "metadata": {
        "id": "VfbPr4MpOzQf"
      },
      "source": [
        "We can affect the values of a key as well. For instance:"
      ]
    },
    {
      "cell_type": "code",
      "metadata": {
        "id": "5P_IW7-wOzQh"
      },
      "source": [
        "my_dict['key1']"
      ],
      "execution_count": null,
      "outputs": []
    },
    {
      "cell_type": "code",
      "metadata": {
        "id": "_JE2n8BLOzQn"
      },
      "source": [
        "# Subtract 123 from the value\n",
        "my_dict['key1'] = my_dict['key1'] - 123"
      ],
      "execution_count": null,
      "outputs": []
    },
    {
      "cell_type": "code",
      "metadata": {
        "id": "UZQnyDq3OzQq"
      },
      "source": [
        "#Check\n",
        "my_dict['key1']"
      ],
      "execution_count": null,
      "outputs": []
    },
    {
      "cell_type": "markdown",
      "metadata": {
        "id": "Ba8UE39VOzQv"
      },
      "source": [
        "A quick note, Python has a built-in method of doing a self subtraction or addition (or multiplication or division). We could have also used += or -= for the above statement. For example:"
      ]
    },
    {
      "cell_type": "code",
      "metadata": {
        "id": "enQczBulOzQw"
      },
      "source": [
        "# Set the object equal to itself minus 123 \n",
        "my_dict['key1'] -= 123\n",
        "my_dict['key1']"
      ],
      "execution_count": null,
      "outputs": []
    },
    {
      "cell_type": "markdown",
      "metadata": {
        "id": "Ym1tQXryOzQ0"
      },
      "source": [
        "We can also create keys by assignment. For instance if we started off with an empty dictionary, we could continually add to it:"
      ]
    },
    {
      "cell_type": "code",
      "metadata": {
        "id": "XYTOL_t6OzQ0"
      },
      "source": [
        "# Create a new dictionary\n",
        "d = {}"
      ],
      "execution_count": null,
      "outputs": []
    },
    {
      "cell_type": "code",
      "metadata": {
        "id": "6cxK3dXhOzQ4"
      },
      "source": [
        "# Create a new key through assignment\n",
        "d['animal'] = 'Dog'"
      ],
      "execution_count": null,
      "outputs": []
    },
    {
      "cell_type": "code",
      "metadata": {
        "id": "2udYamqwOzQ7"
      },
      "source": [
        "# Can do this with any object\n",
        "d['answer'] = 42"
      ],
      "execution_count": null,
      "outputs": []
    },
    {
      "cell_type": "code",
      "metadata": {
        "id": "LIICwuVGOzQ_"
      },
      "source": [
        "#Show\n",
        "d"
      ],
      "execution_count": null,
      "outputs": []
    },
    {
      "cell_type": "markdown",
      "metadata": {
        "id": "lQjKGTqyOzRD"
      },
      "source": [
        "### Nesting with Dictionaries\n",
        "\n",
        "Hopefully you're starting to see how powerful Python is with its flexibility of nesting objects and calling methods on them. Let's see a dictionary nested inside a dictionary:"
      ]
    },
    {
      "cell_type": "code",
      "metadata": {
        "id": "SqlnsrceOzRD"
      },
      "source": [
        "# Dictionary nested inside a dictionary nested inside a dictionary\n",
        "d = {'key1':{'nestkey':{'subnestkey':'value'}}}"
      ],
      "execution_count": null,
      "outputs": []
    },
    {
      "cell_type": "markdown",
      "metadata": {
        "id": "S9j8ZHcvOzRG"
      },
      "source": [
        "Seems complicated, but let's see how we can grab that value:"
      ]
    },
    {
      "cell_type": "code",
      "metadata": {
        "id": "vbNLXS9COzRH"
      },
      "source": [
        "# Keep calling the keys\n",
        "d['key1']['nestkey']['subnestkey']"
      ],
      "execution_count": null,
      "outputs": []
    },
    {
      "cell_type": "markdown",
      "metadata": {
        "id": "aToEjqLPOzRK"
      },
      "source": [
        "### Dictionary Methods\n",
        "\n",
        "There are a few methods we can call on a dictionary. Let's get a quick introduction to a few of them:"
      ]
    },
    {
      "cell_type": "code",
      "metadata": {
        "id": "NizEqIn3OzRK"
      },
      "source": [
        "# Create a typical dictionary\n",
        "d = {'key1':1,'key2':2,'key3':3}"
      ],
      "execution_count": null,
      "outputs": []
    },
    {
      "cell_type": "code",
      "metadata": {
        "id": "F_d4EiF0OzRN"
      },
      "source": [
        "# Method to return a list of all keys \n",
        "d.keys()"
      ],
      "execution_count": null,
      "outputs": []
    },
    {
      "cell_type": "code",
      "metadata": {
        "id": "vXhVyVd3OzRP"
      },
      "source": [
        "# Method to grab all values\n",
        "d.values()"
      ],
      "execution_count": null,
      "outputs": []
    },
    {
      "cell_type": "code",
      "metadata": {
        "id": "JPkBFpoGOzRR"
      },
      "source": [
        "# Method to return tuples of all items  (we'll learn about tuples soon)\n",
        "d.items()"
      ],
      "execution_count": null,
      "outputs": []
    },
    {
      "cell_type": "markdown",
      "metadata": {
        "id": "jljY3mE2G-oX"
      },
      "source": [
        "### 4.0 Now Try This\n"
      ]
    },
    {
      "cell_type": "markdown",
      "metadata": {
        "id": "MAp2fG9nZbZ6"
      },
      "source": [
        "Using keys and indexing, grab the 'hello' from the following dictionaries:"
      ]
    },
    {
      "cell_type": "code",
      "metadata": {
        "id": "5nfaiz0yZbZ6"
      },
      "source": [
        "# Once your have verified your answer please uncomment the line below and run it, this will save your code \n",
        "#%%writefile -a {folder_location}/4.py\n",
        "# Please note that if you uncomment and press multiple times, the program will keep appending to the file.\n",
        "# So only uncomment it when you want to save your answer.\n",
        "\n",
        "d = {'simple_key':'hello'}\n",
        "\n",
        "# Grab 'hello'\n",
        "answer1 = #INSERT CODE HERE\n",
        "print(answer1)"
      ],
      "execution_count": null,
      "outputs": []
    },
    {
      "cell_type": "code",
      "metadata": {
        "id": "2ddxOLcqZbZ9"
      },
      "source": [
        "# Once your have verified your answer please uncomment the line below and run it, this will save your code \n",
        "#%%writefile -a {folder_location}/4.py\n",
        "# Please note that if you uncomment and press multiple times, the program will keep appending to the file.\n",
        "# So only uncomment it when you want to save your answer.\n",
        "\n",
        "d = {'k1':{'k2':'hello'}}\n",
        "\n",
        "# Grab 'hello'\n",
        "answer2 = #INSERT CODE HERE\n",
        "print(answer2)"
      ],
      "execution_count": null,
      "outputs": []
    },
    {
      "cell_type": "code",
      "metadata": {
        "id": "rJlGHUFTZbaA"
      },
      "source": [
        "# Once your have verified your answer please uncomment the line below and run it, this will save your code \n",
        "#%%writefile -a {folder_location}/4.py\n",
        "# Please note that if you uncomment and press multiple times, the program will keep appending to the file.\n",
        "# So only uncomment it when you want to save your answer.\n",
        "\n",
        "# Getting a little tricker\n",
        "d = {'k1':[{'nest_key':['this is deep',['hello']]}]}\n",
        "\n",
        "#Grab hello\n",
        "answer3 = #INSERT CODE HERE\n",
        "print(answer3)"
      ],
      "execution_count": null,
      "outputs": []
    },
    {
      "cell_type": "code",
      "metadata": {
        "id": "vjadbMt3ZbaE"
      },
      "source": [
        "# Once your have verified your answer please uncomment the line below and run it, this will save your code \n",
        "#%%writefile -a {folder_location}/4.py\n",
        "# Please note that if you uncomment and press multiple times, the program will keep appending to the file.\n",
        "# So only uncomment it when you want to save your answer.\n",
        "\n",
        "# This will be hard and annoying!\n",
        "d = {'k1':[1,2,{'k2':['this is tricky',{'tough':[1,2,['hello']]}]}]}\n",
        "\n",
        "# Grab hello\n",
        "answer4 = #INSERT CODE HERE\n",
        "print(answer4)"
      ],
      "execution_count": null,
      "outputs": []
    }
  ]
}