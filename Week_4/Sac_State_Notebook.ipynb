{
  "nbformat": 4,
  "nbformat_minor": 0,
  "metadata": {
    "colab": {
      "name": "Sac-State-Notebook.ipynb",
      "provenance": [],
      "collapsed_sections": [],
      "toc_visible": true
    },
    "kernelspec": {
      "name": "python3",
      "display_name": "Python 3"
    }
  },
  "cells": [
    {
      "cell_type": "markdown",
      "metadata": {
        "id": "f0_IggpYdWw4"
      },
      "source": [
        "# <div align=\"center\"> Main Notebook </div>"
      ]
    },
    {
      "cell_type": "markdown",
      "metadata": {
        "id": "qh5vBQaCdco9"
      },
      "source": [
        "# <div align=\"center\"> Experimental</div>"
      ]
    },
    {
      "cell_type": "markdown",
      "metadata": {
        "id": "ukV8nQksHw7e"
      },
      "source": [
        "## Q1 Load Libraries and File"
      ]
    },
    {
      "cell_type": "code",
      "metadata": {
        "id": "0niYQTRFiV0j"
      },
      "source": [
        "'''\n",
        "import _________________ as plt  # INSERT CODE HERE\n",
        "import ______ as pd  # INSERT CODE HERE\n",
        "'''\n",
        "import matplotlib.pyplot as plt\n",
        "import pandas as pd"
      ],
      "execution_count": 1,
      "outputs": []
    },
    {
      "cell_type": "code",
      "metadata": {
        "id": "KcbxdH0WiYDA"
      },
      "source": [
        "#df = pd.read_csv('/SAC_STATE_DATASET.csv')\n",
        "'''\n",
        "url = 'https://raw.githubusercontent.com/bitprj/BitU-3WBootCamp/main/Week_4/SAC_STATE_DATASET.csv'\n",
        "df = __.read_csv(___)  # INSERT CODE HERE\n",
        "'''\n",
        "\n",
        "url = 'https://raw.githubusercontent.com/bitprj/BitU-3WBootCamp/main/Week_4/SAC_STATE_DATASET.csv'\n",
        "df = pd.read_csv('https://raw.githubusercontent.com/bitprj/BitU-3WBootCamp/main/Week_4/SAC_STATE_DATASET.csv')"
      ],
      "execution_count": 4,
      "outputs": []
    },
    {
      "cell_type": "code",
      "metadata": {
        "id": "SlEOsX9NpuhB",
        "colab": {
          "base_uri": "https://localhost:8080/",
          "height": 640
        },
        "outputId": "dc1dc33d-2cfc-4543-e9f2-cd4daa8ca0e7"
      },
      "source": [
        "df"
      ],
      "execution_count": 5,
      "outputs": [
        {
          "output_type": "execute_result",
          "data": {
            "text/html": [
              "<div>\n",
              "<style scoped>\n",
              "    .dataframe tbody tr th:only-of-type {\n",
              "        vertical-align: middle;\n",
              "    }\n",
              "\n",
              "    .dataframe tbody tr th {\n",
              "        vertical-align: top;\n",
              "    }\n",
              "\n",
              "    .dataframe thead th {\n",
              "        text-align: right;\n",
              "    }\n",
              "</style>\n",
              "<table border=\"1\" class=\"dataframe\">\n",
              "  <thead>\n",
              "    <tr style=\"text-align: right;\">\n",
              "      <th></th>\n",
              "      <th>Gss year for this respondent</th>\n",
              "      <th>Confid. in united states supreme court</th>\n",
              "      <th>City or place r lives in</th>\n",
              "      <th>Improving nations education system</th>\n",
              "      <th>Solving problems of big cities</th>\n",
              "      <th>Respondents income</th>\n",
              "      <th>Total family income</th>\n",
              "      <th>Race of respondent</th>\n",
              "      <th>Respondents sex</th>\n",
              "      <th>Marital status</th>\n",
              "      <th>Respondent id number</th>\n",
              "      <th>Ballot used for interview</th>\n",
              "    </tr>\n",
              "  </thead>\n",
              "  <tbody>\n",
              "    <tr>\n",
              "      <th>0</th>\n",
              "      <td>1972</td>\n",
              "      <td>Not applicable</td>\n",
              "      <td>Not applicable</td>\n",
              "      <td>Not applicable</td>\n",
              "      <td>Not applicable</td>\n",
              "      <td>Not applicable</td>\n",
              "      <td>Not applicable</td>\n",
              "      <td>White</td>\n",
              "      <td>Female</td>\n",
              "      <td>Never married</td>\n",
              "      <td>1.0</td>\n",
              "      <td>Not applicable</td>\n",
              "    </tr>\n",
              "    <tr>\n",
              "      <th>1</th>\n",
              "      <td>1972</td>\n",
              "      <td>Not applicable</td>\n",
              "      <td>Not applicable</td>\n",
              "      <td>Not applicable</td>\n",
              "      <td>Not applicable</td>\n",
              "      <td>Not applicable</td>\n",
              "      <td>Not applicable</td>\n",
              "      <td>White</td>\n",
              "      <td>Male</td>\n",
              "      <td>Married</td>\n",
              "      <td>2.0</td>\n",
              "      <td>Not applicable</td>\n",
              "    </tr>\n",
              "    <tr>\n",
              "      <th>2</th>\n",
              "      <td>1972</td>\n",
              "      <td>Not applicable</td>\n",
              "      <td>Not applicable</td>\n",
              "      <td>Not applicable</td>\n",
              "      <td>Not applicable</td>\n",
              "      <td>Not applicable</td>\n",
              "      <td>Not applicable</td>\n",
              "      <td>White</td>\n",
              "      <td>Female</td>\n",
              "      <td>Married</td>\n",
              "      <td>3.0</td>\n",
              "      <td>Not applicable</td>\n",
              "    </tr>\n",
              "    <tr>\n",
              "      <th>3</th>\n",
              "      <td>1972</td>\n",
              "      <td>Not applicable</td>\n",
              "      <td>Not applicable</td>\n",
              "      <td>Not applicable</td>\n",
              "      <td>Not applicable</td>\n",
              "      <td>Not applicable</td>\n",
              "      <td>Not applicable</td>\n",
              "      <td>White</td>\n",
              "      <td>Female</td>\n",
              "      <td>Married</td>\n",
              "      <td>4.0</td>\n",
              "      <td>Not applicable</td>\n",
              "    </tr>\n",
              "    <tr>\n",
              "      <th>4</th>\n",
              "      <td>1972</td>\n",
              "      <td>Not applicable</td>\n",
              "      <td>Not applicable</td>\n",
              "      <td>Not applicable</td>\n",
              "      <td>Not applicable</td>\n",
              "      <td>Not applicable</td>\n",
              "      <td>Not applicable</td>\n",
              "      <td>White</td>\n",
              "      <td>Female</td>\n",
              "      <td>Married</td>\n",
              "      <td>5.0</td>\n",
              "      <td>Not applicable</td>\n",
              "    </tr>\n",
              "    <tr>\n",
              "      <th>...</th>\n",
              "      <td>...</td>\n",
              "      <td>...</td>\n",
              "      <td>...</td>\n",
              "      <td>...</td>\n",
              "      <td>...</td>\n",
              "      <td>...</td>\n",
              "      <td>...</td>\n",
              "      <td>...</td>\n",
              "      <td>...</td>\n",
              "      <td>...</td>\n",
              "      <td>...</td>\n",
              "      <td>...</td>\n",
              "    </tr>\n",
              "    <tr>\n",
              "      <th>64811</th>\n",
              "      <td>2018</td>\n",
              "      <td>Only some</td>\n",
              "      <td>Not applicable</td>\n",
              "      <td>Not applicable</td>\n",
              "      <td>Not applicable</td>\n",
              "      <td>$3000 to 3999</td>\n",
              "      <td>$25000 or more</td>\n",
              "      <td>White</td>\n",
              "      <td>Female</td>\n",
              "      <td>Married</td>\n",
              "      <td>2346.0</td>\n",
              "      <td>Ballot c</td>\n",
              "    </tr>\n",
              "    <tr>\n",
              "      <th>64812</th>\n",
              "      <td>2018</td>\n",
              "      <td>A great deal</td>\n",
              "      <td>Not applicable</td>\n",
              "      <td>About right</td>\n",
              "      <td>About right</td>\n",
              "      <td>Not applicable</td>\n",
              "      <td>$25000 or more</td>\n",
              "      <td>White</td>\n",
              "      <td>Male</td>\n",
              "      <td>Married</td>\n",
              "      <td>2347.0</td>\n",
              "      <td>Ballot b</td>\n",
              "    </tr>\n",
              "    <tr>\n",
              "      <th>64813</th>\n",
              "      <td>2018</td>\n",
              "      <td>Not applicable</td>\n",
              "      <td>Not applicable</td>\n",
              "      <td>Not applicable</td>\n",
              "      <td>Not applicable</td>\n",
              "      <td>Not applicable</td>\n",
              "      <td>Refused</td>\n",
              "      <td>White</td>\n",
              "      <td>Female</td>\n",
              "      <td>Widowed</td>\n",
              "      <td>2348.0</td>\n",
              "      <td>Ballot a</td>\n",
              "    </tr>\n",
              "    <tr>\n",
              "      <th>64814</th>\n",
              "      <td>NaN</td>\n",
              "      <td>NaN</td>\n",
              "      <td>NaN</td>\n",
              "      <td>NaN</td>\n",
              "      <td>NaN</td>\n",
              "      <td>NaN</td>\n",
              "      <td>NaN</td>\n",
              "      <td>NaN</td>\n",
              "      <td>NaN</td>\n",
              "      <td>NaN</td>\n",
              "      <td>NaN</td>\n",
              "      <td>NaN</td>\n",
              "    </tr>\n",
              "    <tr>\n",
              "      <th>64815</th>\n",
              "      <td>Source</td>\n",
              "      <td>Data collection: General Social Survey\\nCase S...</td>\n",
              "      <td>NaN</td>\n",
              "      <td>NaN</td>\n",
              "      <td>NaN</td>\n",
              "      <td>NaN</td>\n",
              "      <td>NaN</td>\n",
              "      <td>NaN</td>\n",
              "      <td>NaN</td>\n",
              "      <td>NaN</td>\n",
              "      <td>NaN</td>\n",
              "      <td>NaN</td>\n",
              "    </tr>\n",
              "  </tbody>\n",
              "</table>\n",
              "<p>64816 rows × 12 columns</p>\n",
              "</div>"
            ],
            "text/plain": [
              "      Gss year for this respondent                         ... Ballot used for interview\n",
              "0                                                   1972   ...            Not applicable\n",
              "1                                                   1972   ...            Not applicable\n",
              "2                                                   1972   ...            Not applicable\n",
              "3                                                   1972   ...            Not applicable\n",
              "4                                                   1972   ...            Not applicable\n",
              "...                                                  ...   ...                       ...\n",
              "64811                                               2018   ...                  Ballot c\n",
              "64812                                               2018   ...                  Ballot b\n",
              "64813                                               2018   ...                  Ballot a\n",
              "64814                                                NaN   ...                       NaN\n",
              "64815                                             Source   ...                       NaN\n",
              "\n",
              "[64816 rows x 12 columns]"
            ]
          },
          "metadata": {
            "tags": []
          },
          "execution_count": 5
        }
      ]
    },
    {
      "cell_type": "code",
      "metadata": {
        "id": "aHlVT7B-c4Iv"
      },
      "source": [
        "df = df.rename(columns = {\n",
        "    'Gss year for this respondent                       ': 'respondent_year',\n",
        "    'Confid. in united states supreme court' : 'confidence_in_supreme_court',\n",
        "    'City or place r lives in' : 'city_of_residence',\n",
        "    'Improving nations education system' : 'improving_national_reducation_system',\n",
        "    'Solving problems of big cities' : 'solving_big_city_problems',\n",
        "    'Respondents income' : 'respondents_income',\n",
        "    'Total family income' : 'total_family_income',\n",
        "    'Race of respondent' : 'respondents_race',\n",
        "    'Respondents sex' : 'respondents_sex',\n",
        "    \"Marital status\" : 'marital_status',\n",
        "    \"Respondent id number\": 'respondents_id_num' ,\n",
        "    \t\"Ballot used for interview\" : \"ballot_used\"\n",
        "})\n"
      ],
      "execution_count": 6,
      "outputs": []
    },
    {
      "cell_type": "markdown",
      "metadata": {
        "id": "HgjmUo3AH7Xz"
      },
      "source": [
        "### **Observing the Dataset Using Pandas**\n",
        "Now, the dataset is loaded as a dataframe `df`."
      ]
    },
    {
      "cell_type": "markdown",
      "metadata": {
        "id": "kKnjvrtBIBqx"
      },
      "source": [
        "####**head()**\n",
        "Let's check what columns this file has by calling `head()` function. It returns first n rows, and it's useful to see the dataset at a quick glance.\n",
        "\n",
        "By default, the head() function returns the first 5 rows.\n",
        "\n",
        "You can specify the number of rows to display by calling df.head(number)"
      ]
    },
    {
      "cell_type": "code",
      "metadata": {
        "id": "7G6i6H1efIdk"
      },
      "source": [
        "'''\n",
        "# INSERT CODE HERE\n",
        "'''\n",
        "df.head()\n"
      ],
      "execution_count": null,
      "outputs": []
    },
    {
      "cell_type": "markdown",
      "metadata": {
        "id": "6mE5p-aaIVDm"
      },
      "source": [
        "####**tail()**\n",
        "The `tail()` method prints the last 5 rows of our dataset."
      ]
    },
    {
      "cell_type": "code",
      "metadata": {
        "id": "jjf8KASjfJY3"
      },
      "source": [
        "'''\n",
        "# INSERT CODE HERE\n",
        "'''\n",
        "df.tail()\n",
        "\n"
      ],
      "execution_count": null,
      "outputs": []
    },
    {
      "cell_type": "markdown",
      "metadata": {
        "id": "Cc9xu4stIecZ"
      },
      "source": [
        "####**info()**\n",
        "This will return all of the column  names and its types. This function is useful to get the idea of what the dataframe is like."
      ]
    },
    {
      "cell_type": "code",
      "metadata": {
        "id": "XkeNDCRrfN6e",
        "colab": {
          "base_uri": "https://localhost:8080/"
        },
        "outputId": "289b9d35-e9e2-4090-e434-92f8841674df"
      },
      "source": [
        "'''\n",
        "# INSERT CODE HERE\n",
        "'''\n",
        "df.info()"
      ],
      "execution_count": null,
      "outputs": [
        {
          "output_type": "stream",
          "text": [
            "<class 'pandas.core.frame.DataFrame'>\n",
            "Int64Index: 64814 entries, 0 to 64813\n",
            "Data columns (total 12 columns):\n",
            " #   Column                                Non-Null Count  Dtype  \n",
            "---  ------                                --------------  -----  \n",
            " 0   respondent_year                       64814 non-null  object \n",
            " 1   confidence_in_supreme_court           64814 non-null  object \n",
            " 2   city_of_residence                     64814 non-null  object \n",
            " 3   improving_national_reducation_system  64814 non-null  object \n",
            " 4   solving_big_city_problems             64814 non-null  object \n",
            " 5   respondents_income                    64814 non-null  object \n",
            " 6   total_family_income                   64814 non-null  object \n",
            " 7   respondents_race                      64814 non-null  object \n",
            " 8   respondents_sex                       64814 non-null  object \n",
            " 9   marital_status                        64814 non-null  object \n",
            " 10  respondents_id_num                    64814 non-null  float64\n",
            " 11  ballot_used                           64814 non-null  object \n",
            "dtypes: float64(1), object(11)\n",
            "memory usage: 6.4+ MB\n"
          ],
          "name": "stdout"
        }
      ]
    },
    {
      "cell_type": "markdown",
      "metadata": {
        "id": "-bwydbMjJIaO"
      },
      "source": [
        "###**Observations**\n",
        "*****Questions:*****\n",
        "- List down the number of unique `Dtype` in this dataset\n",
        "- Is the datset uneven? If so list downthe column with the most missing rows?"
      ]
    },
    {
      "cell_type": "markdown",
      "metadata": {
        "id": "PqSFXfcWfL77"
      },
      "source": [
        "####**describe()**\n",
        "`describe()` is used to view summary statistics of numeric columns. this will help you to have a general idea of the dataset."
      ]
    },
    {
      "cell_type": "code",
      "metadata": {
        "id": "6-qpKmadfMPN",
        "colab": {
          "base_uri": "https://localhost:8080/",
          "height": 300
        },
        "outputId": "17418b6a-5af6-44a2-81d1-a4fb4de5323c"
      },
      "source": [
        "'''\n",
        "# INSERT CODE HERE\n",
        "'''\n",
        "df.describe()\n",
        "\n"
      ],
      "execution_count": null,
      "outputs": [
        {
          "output_type": "execute_result",
          "data": {
            "text/html": [
              "<div>\n",
              "<style scoped>\n",
              "    .dataframe tbody tr th:only-of-type {\n",
              "        vertical-align: middle;\n",
              "    }\n",
              "\n",
              "    .dataframe tbody tr th {\n",
              "        vertical-align: top;\n",
              "    }\n",
              "\n",
              "    .dataframe thead th {\n",
              "        text-align: right;\n",
              "    }\n",
              "</style>\n",
              "<table border=\"1\" class=\"dataframe\">\n",
              "  <thead>\n",
              "    <tr style=\"text-align: right;\">\n",
              "      <th></th>\n",
              "      <th>respondents_id_num</th>\n",
              "    </tr>\n",
              "  </thead>\n",
              "  <tbody>\n",
              "    <tr>\n",
              "      <th>count</th>\n",
              "      <td>64814.000000</td>\n",
              "    </tr>\n",
              "    <tr>\n",
              "      <th>mean</th>\n",
              "      <td>1151.810211</td>\n",
              "    </tr>\n",
              "    <tr>\n",
              "      <th>std</th>\n",
              "      <td>828.030233</td>\n",
              "    </tr>\n",
              "    <tr>\n",
              "      <th>min</th>\n",
              "      <td>1.000000</td>\n",
              "    </tr>\n",
              "    <tr>\n",
              "      <th>25%</th>\n",
              "      <td>507.000000</td>\n",
              "    </tr>\n",
              "    <tr>\n",
              "      <th>50%</th>\n",
              "      <td>1029.500000</td>\n",
              "    </tr>\n",
              "    <tr>\n",
              "      <th>75%</th>\n",
              "      <td>1570.000000</td>\n",
              "    </tr>\n",
              "    <tr>\n",
              "      <th>max</th>\n",
              "      <td>4510.000000</td>\n",
              "    </tr>\n",
              "  </tbody>\n",
              "</table>\n",
              "</div>"
            ],
            "text/plain": [
              "       respondents_id_num\n",
              "count        64814.000000\n",
              "mean          1151.810211\n",
              "std            828.030233\n",
              "min              1.000000\n",
              "25%            507.000000\n",
              "50%           1029.500000\n",
              "75%           1570.000000\n",
              "max           4510.000000"
            ]
          },
          "metadata": {
            "tags": []
          },
          "execution_count": 71
        }
      ]
    },
    {
      "cell_type": "markdown",
      "metadata": {
        "id": "v5RqEWzZKC_M"
      },
      "source": [
        "####**shape**\n",
        "To see the size of the dataset, we can use the `shape` function, which returns the number of rows and columns in a format of (#rows, #columns)"
      ]
    },
    {
      "cell_type": "code",
      "metadata": {
        "id": "2Nv-Edc7KMiO"
      },
      "source": [
        "'''\n",
        "INSERT CODE HERE\n",
        "'''\n",
        "df.shape"
      ],
      "execution_count": null,
      "outputs": []
    },
    {
      "cell_type": "markdown",
      "metadata": {
        "id": "iyxTvY8ugKmy"
      },
      "source": [
        "## Drop `NaN` or `null` values\n",
        "The `dropna()` method is designed to drop every value in our dataframe whose cell might have a null or undefined value. They are usually shown as `NaN`. \n",
        "Use this method to remove all null values."
      ]
    },
    {
      "cell_type": "code",
      "metadata": {
        "id": "HZ-e4ma0gKFC"
      },
      "source": [
        "'''\n",
        "# INSERT CODE HERE\n",
        "'''\n",
        "df = df.dropna()"
      ],
      "execution_count": null,
      "outputs": []
    },
    {
      "cell_type": "markdown",
      "metadata": {
        "id": "xmxOdFQ4N3ky"
      },
      "source": [
        "In this dataset, we only want to consider certain relevant data. We can disregard data that we don't need for today.\n",
        "\n",
        "Using the `drop()` method, remove these columns:\n",
        "```\n",
        "- Gss year for this respondent\n",
        "- Improving nations education system\t\n",
        "- Solving problems of big cities\n",
        "```"
      ]
    },
    {
      "cell_type": "code",
      "metadata": {
        "id": "1Q4MjsovOVEC"
      },
      "source": [
        "'''\n",
        "# INSERT CODE HERE\n",
        "'''\n"
      ],
      "execution_count": null,
      "outputs": []
    },
    {
      "cell_type": "markdown",
      "metadata": {
        "id": "KlXX2uAffj-q"
      },
      "source": [
        "## Checking Columns\n",
        "Let's check the columns that we have. We can use the built-in attribute `.columns` to view the names of the columns in our dataframe."
      ]
    },
    {
      "cell_type": "code",
      "metadata": {
        "id": "eCIM5aS7diJi",
        "colab": {
          "base_uri": "https://localhost:8080/"
        },
        "outputId": "32df3067-67f7-4ba4-fa7e-3c9273c022ae"
      },
      "source": [
        "'''\n",
        "# INSERT CODE HERE\n",
        "'''\n",
        "df.columns.values"
      ],
      "execution_count": null,
      "outputs": [
        {
          "output_type": "execute_result",
          "data": {
            "text/plain": [
              "array(['respondent_year', 'confidence_in_supreme_court',\n",
              "       'city_of_residence', 'improving_national_reducation_system',\n",
              "       'solving_big_city_problems', 'respondents_income',\n",
              "       'total_family_income', 'respondents_race', 'respondents_sex',\n",
              "       'marital_status', 'respondents_id_num', 'ballot_used'],\n",
              "      dtype=object)"
            ]
          },
          "metadata": {
            "tags": []
          },
          "execution_count": 75
        }
      ]
    },
    {
      "cell_type": "markdown",
      "metadata": {
        "id": "RiHlE98fflof"
      },
      "source": [
        "## Checking unique values for every column\n",
        "There are various different values for each column. We can check the unique values for each column with the built-in method of `unique()`. We can get the number of unique values in a column by calling `nunique()`. \n",
        "\n",
        "Print out the unique values and number of unique values for the following attributes:\n",
        "- Confidence in Supreme Court\n",
        "- Marital Status\n",
        "- Respondents' Race\n",
        "- Respondents' Sex\n",
        "- Respondents' Income\n",
        "- Ballot Used"
      ]
    },
    {
      "cell_type": "code",
      "metadata": {
        "id": "l_lIdAd7djNv",
        "colab": {
          "base_uri": "https://localhost:8080/"
        },
        "outputId": "bbc2bc5b-218e-4114-f9e6-ea8cb75564af"
      },
      "source": [
        "'''\n",
        "# Unique values list\n",
        "print(df.___________________)  # INSERT CODE HERE\n",
        "# Number of unique\n",
        "print(df.___________________)  # INSERT CODE HERE\n",
        "'''\n",
        "print(df.confidence_in_supreme_court.unique())\n",
        "print(df.confidence_in_supreme_court.nunique())"
      ],
      "execution_count": null,
      "outputs": [
        {
          "output_type": "stream",
          "text": [
            "['Not applicable' 'A great deal' 'Only some' 'Hardly any' \"Don't know\"\n",
            " 'No answer']\n",
            "6\n"
          ],
          "name": "stdout"
        }
      ]
    },
    {
      "cell_type": "code",
      "metadata": {
        "id": "71tOJ-KbeR3r",
        "colab": {
          "base_uri": "https://localhost:8080/"
        },
        "outputId": "696af45a-267a-4bb2-c385-2029403640b0"
      },
      "source": [
        "'''\n",
        "# Unique values list\n",
        "print(df.___________________)  # INSERT CODE HERE\n",
        "# Number of unique\n",
        "print(df.___________________)  # INSERT CODE HERE\n",
        "'''\n",
        "print(df.marital_status.unique())\n",
        "print(df.marital_status.nunique())"
      ],
      "execution_count": null,
      "outputs": [
        {
          "output_type": "stream",
          "text": [
            "['Never married' 'Married' 'Divorced' 'Widowed' 'Separated' 'No answer']\n",
            "6\n"
          ],
          "name": "stdout"
        }
      ]
    },
    {
      "cell_type": "code",
      "metadata": {
        "id": "86qkOl7EeUCK",
        "colab": {
          "base_uri": "https://localhost:8080/"
        },
        "outputId": "33b200eb-12e0-468f-8027-f19c85fcf140"
      },
      "source": [
        "'''\n",
        "# Unique values list\n",
        "print(df.___________________)  # INSERT CODE HERE\n",
        "# Number of unique\n",
        "print(df.___________________)  # INSERT CODE HERE\n",
        "'''\n",
        "print(df.respondents_race.unique())\n",
        "print(df.respondents_race.nunique())"
      ],
      "execution_count": null,
      "outputs": [
        {
          "output_type": "stream",
          "text": [
            "['White' 'Black' 'Other']\n",
            "3\n"
          ],
          "name": "stdout"
        }
      ]
    },
    {
      "cell_type": "code",
      "metadata": {
        "id": "d5B2eaE5e1ab",
        "colab": {
          "base_uri": "https://localhost:8080/"
        },
        "outputId": "a5986b8a-6fa2-478f-ca60-1c2d492cbb66"
      },
      "source": [
        "'''\n",
        "# Unique values list\n",
        "print(df.___________________)  # INSERT CODE HERE\n",
        "# Number of unique\n",
        "print(df.___________________)  # INSERT CODE HERE\n",
        "'''\n",
        "print(df.respondents_sex.unique())\n",
        "print(df.respondents_sex.nunique())"
      ],
      "execution_count": null,
      "outputs": [
        {
          "output_type": "stream",
          "text": [
            "['Female' 'Male']\n",
            "2\n"
          ],
          "name": "stdout"
        }
      ]
    },
    {
      "cell_type": "code",
      "metadata": {
        "id": "hoJpohhQe5XH",
        "colab": {
          "base_uri": "https://localhost:8080/"
        },
        "outputId": "9a4937d5-2240-48f5-8e13-24067dcbc30f"
      },
      "source": [
        "'''\n",
        "# Unique values list\n",
        "print(df.___________________)  # INSERT CODE HERE\n",
        "# Number of unique\n",
        "print(df.___________________)  # INSERT CODE HERE\n",
        "'''\n",
        "print(df.respondents_income.unique())\n",
        "print(df.respondents_income.nunique())"
      ],
      "execution_count": null,
      "outputs": [
        {
          "output_type": "stream",
          "text": [
            "['Not applicable' '$1000 to 2999' '$15000 - 19999' '$7000 to 7999'\n",
            " '$8000 to 9999' '$20000 - 24999' '$4000 to 4999' \"Don't know\"\n",
            " '$10000 - 14999' '$25000 or more' '$3000 to 3999' 'Lt $1000'\n",
            " '$5000 to 5999' '$6000 to 6999' 'Refused' 'No answer']\n",
            "16\n"
          ],
          "name": "stdout"
        }
      ]
    },
    {
      "cell_type": "code",
      "metadata": {
        "id": "ZkoVexvve8UF",
        "colab": {
          "base_uri": "https://localhost:8080/"
        },
        "outputId": "bc01048b-7a95-411f-c471-204c0ba2a907"
      },
      "source": [
        "'''\n",
        "# Unique values list\n",
        "print(df.___________________)  # INSERT CODE HERE\n",
        "# Number of unique\n",
        "print(df.___________________)  # INSERT CODE HERE\n",
        "'''\n",
        "print(df.ballot_used.unique())\n",
        "print(df.ballot_used.nunique())"
      ],
      "execution_count": null,
      "outputs": [
        {
          "output_type": "stream",
          "text": [
            "['Not applicable' 'Ballot b' 'Ballot c' 'Ballot a' 'Ballot d']\n",
            "5\n"
          ],
          "name": "stdout"
        }
      ]
    },
    {
      "cell_type": "markdown",
      "metadata": {
        "id": "V5LAnx98L8Ls"
      },
      "source": [
        "*****Questions:*****\n",
        "- What were the values for confidence levels in supreme court? Is this a good scale to measure by?\n",
        "- What are the ranges of income that were surveyed?\n",
        "- How many different types of ballot were cast?"
      ]
    },
    {
      "cell_type": "markdown",
      "metadata": {
        "id": "sNyp00jUgglT"
      },
      "source": [
        "## Basic Plots\n",
        "Recall that we learned about tools to plot data. Lets review some of this now.\n"
      ]
    },
    {
      "cell_type": "markdown",
      "metadata": {
        "id": "q6wcREwCXh9J"
      },
      "source": [
        "kind : `str`\n",
        "\n",
        "        ‘line’ : line plot (default)\n",
        "        ‘bar’ : vertical bar plot\n",
        "        ‘barh’ : horizontal bar plot\n",
        "        ‘hist’ : histogram\n",
        "        ‘box’ : boxplot\n",
        "        ‘kde’ : Kernel Density Estimation plot\n",
        "        ‘density’ : same as ‘kde’\n",
        "        ‘area’ : area plot\n",
        "        ‘pie’ : pie plot\n",
        "        ‘scatter’ : scatter plot\n",
        "        ‘hexbin’ : hexbin plot\n",
        "\n"
      ]
    },
    {
      "cell_type": "markdown",
      "metadata": {
        "id": "agv8J_OoMvvJ"
      },
      "source": [
        "####Plotting Ballot Types\n",
        "Let's take a look at the various ballots that were cast.\n",
        "Use `matplotlib` 's `hist()` feature to plot a histogram for the ballots used in this dataset."
      ]
    },
    {
      "cell_type": "code",
      "metadata": {
        "id": "b-GhOJYzheSr",
        "colab": {
          "base_uri": "https://localhost:8080/",
          "height": 334
        },
        "outputId": "681065ce-c12c-468e-e727-b3ca8f9a2e58"
      },
      "source": [
        "'''\n",
        "INSERT CODE HERE\n",
        "'''\n",
        "plt.hist(df.ballot_used)"
      ],
      "execution_count": null,
      "outputs": [
        {
          "output_type": "execute_result",
          "data": {
            "text/plain": [
              "(array([21875.,     0., 13917.,     0.,     0., 13798.,     0., 13706.,\n",
              "            0.,  1518.]),\n",
              " array([0. , 0.4, 0.8, 1.2, 1.6, 2. , 2.4, 2.8, 3.2, 3.6, 4. ]),\n",
              " <a list of 10 Patch objects>)"
            ]
          },
          "metadata": {
            "tags": []
          },
          "execution_count": 112
        },
        {
          "output_type": "display_data",
          "data": {
            "image/png": "[encoded data removed]",
            "text/plain": [
              "<Figure size 432x288 with 1 Axes>"
            ]
          },
          "metadata": {
            "tags": [],
            "needs_background": "light"
          }
        }
      ]
    },
    {
      "cell_type": "markdown",
      "metadata": {
        "id": "v5by8WrLNCJ4"
      },
      "source": [
        "*****Questions:*****\n",
        "- What conclusions can you form from this data?"
      ]
    },
    {
      "cell_type": "markdown",
      "metadata": {
        "id": "qTS0JmjDNVrT"
      },
      "source": [
        "### Plotting Income Brackets\n",
        "This dataset features statistics about people from various income brackets.\n",
        "Use the plot of your choice to graphically represent the various income groups of respondents."
      ]
    },
    {
      "cell_type": "code",
      "metadata": {
        "id": "YEZ9E9_Kimiv",
        "colab": {
          "base_uri": "https://localhost:8080/",
          "height": 163
        },
        "outputId": "13aad287-5d54-4a03-8b52-bb51556892f4"
      },
      "source": [
        "''' \n",
        "INSERT CODE HERE\n",
        "'''"
      ],
      "execution_count": 8,
      "outputs": [
        {
          "output_type": "error",
          "ename": "TypeError",
          "evalue": "ignored",
          "traceback": [
            "\u001b[0;31m---------------------------------------------------------------------------\u001b[0m",
            "\u001b[0;31mTypeError\u001b[0m                                 Traceback (most recent call last)",
            "\u001b[0;32m<ipython-input-8-89d48e993a6e>\u001b[0m in \u001b[0;36m<module>\u001b[0;34m()\u001b[0m\n\u001b[0;32m----> 1\u001b[0;31m \u001b[0mplt\u001b[0m\u001b[0;34m(\u001b[0m\u001b[0mdf\u001b[0m\u001b[0;34m.\u001b[0m\u001b[0mrespondents_income\u001b[0m\u001b[0;34m)\u001b[0m\u001b[0;34m\u001b[0m\u001b[0;34m\u001b[0m\u001b[0m\n\u001b[0m",
            "\u001b[0;31mTypeError\u001b[0m: 'module' object is not callable"
          ]
        }
      ]
    },
    {
      "cell_type": "markdown",
      "metadata": {
        "id": "twfHfQdfNI5h"
      },
      "source": [
        "*****Questions:*****\n",
        "- What conclusions can you form from this data?"
      ]
    },
    {
      "cell_type": "markdown",
      "metadata": {
        "id": "ABxnEMRXOkPR"
      },
      "source": [
        "### Plotting Marital Status\n",
        "Plot marital status with income and marital status with confidence in supreme court using your plot of choice."
      ]
    },
    {
      "cell_type": "code",
      "metadata": {
        "id": "pu9VE59IMlVR"
      },
      "source": [
        "'''\n",
        "INSERT CODE HERE\n",
        "'''"
      ],
      "execution_count": null,
      "outputs": []
    },
    {
      "cell_type": "markdown",
      "metadata": {
        "id": "_tb2MZ0VOzUI"
      },
      "source": [
        "*****Questions:*****\n",
        "- What conclusions can you form from this data?"
      ]
    }
  ]
}