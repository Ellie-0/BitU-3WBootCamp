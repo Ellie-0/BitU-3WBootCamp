{
  "nbformat": 4,
  "nbformat_minor": 0,
  "metadata": {
    "colab": {
      "name": "Sac-State-Notebook.ipynb",
      "provenance": [],
      "collapsed_sections": [],
      "toc_visible": true,
      "include_colab_link": true
    },
    "kernelspec": {
      "name": "python3",
      "display_name": "Python 3"
    }
  },
  "cells": [
    {
      "cell_type": "markdown",
      "metadata": {
        "id": "view-in-github",
        "colab_type": "text"
      },
      "source": [
        "<a href=\"https://colab.research.google.com/github/bitprj/BitU-3WBootCamp/blob/main/Week_4/Sac_State_Notebook.ipynb\" target=\"_parent\"><img src=\"https://colab.research.google.com/assets/colab-badge.svg\" alt=\"Open In Colab\"/></a>"
      ]
    },
    {
      "cell_type": "markdown",
      "metadata": {
        "id": "f0_IggpYdWw4"
      },
      "source": [
        "# <div align=\"center\"> Module 4: Lab </div>"
      ]
    },
    {
      "cell_type": "markdown",
      "metadata": {
        "id": "qh5vBQaCdco9"
      },
      "source": [
        "# <div align=\"center\"> Experimental</div>"
      ]
    },
    {
      "cell_type": "markdown",
      "metadata": {
        "id": "pz50__8SQQK3"
      },
      "source": [
        "#Grading\n",
        "In order to work on the questions in this Practicum and submit them for grading, you'll need to run the code block below. It will ask for your student ID number and then create a folder that will house your answers for each question. At the very end of the notebook, there is a code section that will download this folder as a zip file to your computer. This zip file will be your final submission."
      ]
    },
    {
      "cell_type": "code",
      "metadata": {
        "id": "K8lrutzLQXVb"
      },
      "source": [
        "import os\n",
        "import shutil\n",
        "\n",
        "!rm -rf sample_data\n",
        "\n",
        "student_id = input('Please Enter your Student ID: ') # Enter Student ID.\n",
        "\n",
        "while len(student_id) != 9:\n",
        " student_id = int('Please Enter your Student ID: ')  \n",
        "  \n",
        "folder_location = f'{student_id}/Week_Six/Practicum'\n",
        "if not os.path.exists(folder_location):\n",
        "  os.makedirs(folder_location)\n",
        "  print('Successfully Created Directory, Lets get started')\n",
        "else:\n",
        "  print('Directory Already Exists')"
      ],
      "execution_count": null,
      "outputs": []
    },
    {
      "cell_type": "markdown",
      "metadata": {
        "id": "ukV8nQksHw7e"
      },
      "source": [
        "# Q1 Load Libraries and File"
      ]
    },
    {
      "cell_type": "code",
      "metadata": {
        "id": "0niYQTRFiV0j"
      },
      "source": [
        "#Once your have verified your answer please uncomment the line below and run it, this will save your code \n",
        "#%%writefile -a {folder_location}/1.py\n",
        "#Please note that if you uncomment and run multiple times, the program will keep appending to the file.\n",
        "\n",
        "'''\n",
        "import _________________ as plt  # INSERT CODE HERE\n",
        "import ______ as pd  # INSERT CODE HERE\n",
        "'''\n",
        "import matplotlib.pyplot as plt\n",
        "import pandas as pd"
      ],
      "execution_count": 1,
      "outputs": []
    },
    {
      "cell_type": "code",
      "metadata": {
        "id": "KcbxdH0WiYDA"
      },
      "source": [
        "#Once your have verified your answer please uncomment the line below and run it, this will save your code \n",
        "#%%writefile -a {folder_location}/1.py\n",
        "#Please note that if you uncomment and run multiple times, the program will keep appending to the file.\n",
        "\n",
        "#df = pd.read_csv('/SAC_STATE_DATASET.csv')\n",
        "'''\n",
        "url = 'https://raw.githubusercontent.com/bitprj/BitU-3WBootCamp/main/Week_4/SAC_STATE_DATASET.csv'\n",
        "df = __.read_csv(___)  # INSERT CODE HERE\n",
        "'''\n",
        "\n",
        "url = 'https://raw.githubusercontent.com/bitprj/BitU-3WBootCamp/main/Week_4/SAC_STATE_DATASET.csv'\n",
        "df = pd.read_csv('https://raw.githubusercontent.com/bitprj/BitU-3WBootCamp/main/Week_4/SAC_STATE_DATASET.csv')"
      ],
      "execution_count": 13,
      "outputs": []
    },
    {
      "cell_type": "code",
      "metadata": {
        "id": "SlEOsX9NpuhB",
        "colab": {
          "base_uri": "https://localhost:8080/",
          "height": 730
        },
        "outputId": "7ccc0544-0e32-42e4-a9d8-4fdc13b9d591"
      },
      "source": [
        "df"
      ],
      "execution_count": 14,
      "outputs": [
        {
          "output_type": "execute_result",
          "data": {
            "text/html": [
              "<div>\n",
              "<style scoped>\n",
              "    .dataframe tbody tr th:only-of-type {\n",
              "        vertical-align: middle;\n",
              "    }\n",
              "\n",
              "    .dataframe tbody tr th {\n",
              "        vertical-align: top;\n",
              "    }\n",
              "\n",
              "    .dataframe thead th {\n",
              "        text-align: right;\n",
              "    }\n",
              "</style>\n",
              "<table border=\"1\" class=\"dataframe\">\n",
              "  <thead>\n",
              "    <tr style=\"text-align: right;\">\n",
              "      <th></th>\n",
              "      <th>Gss year for this respondent</th>\n",
              "      <th>Confid. in united states supreme court</th>\n",
              "      <th>City or place r lives in</th>\n",
              "      <th>Improving nations education system</th>\n",
              "      <th>Solving problems of big cities</th>\n",
              "      <th>Respondents income</th>\n",
              "      <th>Total family income</th>\n",
              "      <th>Race of respondent</th>\n",
              "      <th>Respondents sex</th>\n",
              "      <th>Marital status</th>\n",
              "      <th>Respondent id number</th>\n",
              "      <th>Ballot used for interview</th>\n",
              "    </tr>\n",
              "  </thead>\n",
              "  <tbody>\n",
              "    <tr>\n",
              "      <th>0</th>\n",
              "      <td>1972</td>\n",
              "      <td>Not applicable</td>\n",
              "      <td>Not applicable</td>\n",
              "      <td>Not applicable</td>\n",
              "      <td>Not applicable</td>\n",
              "      <td>Not applicable</td>\n",
              "      <td>Not applicable</td>\n",
              "      <td>White</td>\n",
              "      <td>Female</td>\n",
              "      <td>Never married</td>\n",
              "      <td>1.0</td>\n",
              "      <td>Not applicable</td>\n",
              "    </tr>\n",
              "    <tr>\n",
              "      <th>1</th>\n",
              "      <td>1972</td>\n",
              "      <td>Not applicable</td>\n",
              "      <td>Not applicable</td>\n",
              "      <td>Not applicable</td>\n",
              "      <td>Not applicable</td>\n",
              "      <td>Not applicable</td>\n",
              "      <td>Not applicable</td>\n",
              "      <td>White</td>\n",
              "      <td>Male</td>\n",
              "      <td>Married</td>\n",
              "      <td>2.0</td>\n",
              "      <td>Not applicable</td>\n",
              "    </tr>\n",
              "    <tr>\n",
              "      <th>2</th>\n",
              "      <td>1972</td>\n",
              "      <td>Not applicable</td>\n",
              "      <td>Not applicable</td>\n",
              "      <td>Not applicable</td>\n",
              "      <td>Not applicable</td>\n",
              "      <td>Not applicable</td>\n",
              "      <td>Not applicable</td>\n",
              "      <td>White</td>\n",
              "      <td>Female</td>\n",
              "      <td>Married</td>\n",
              "      <td>3.0</td>\n",
              "      <td>Not applicable</td>\n",
              "    </tr>\n",
              "    <tr>\n",
              "      <th>3</th>\n",
              "      <td>1972</td>\n",
              "      <td>Not applicable</td>\n",
              "      <td>Not applicable</td>\n",
              "      <td>Not applicable</td>\n",
              "      <td>Not applicable</td>\n",
              "      <td>Not applicable</td>\n",
              "      <td>Not applicable</td>\n",
              "      <td>White</td>\n",
              "      <td>Female</td>\n",
              "      <td>Married</td>\n",
              "      <td>4.0</td>\n",
              "      <td>Not applicable</td>\n",
              "    </tr>\n",
              "    <tr>\n",
              "      <th>4</th>\n",
              "      <td>1972</td>\n",
              "      <td>Not applicable</td>\n",
              "      <td>Not applicable</td>\n",
              "      <td>Not applicable</td>\n",
              "      <td>Not applicable</td>\n",
              "      <td>Not applicable</td>\n",
              "      <td>Not applicable</td>\n",
              "      <td>White</td>\n",
              "      <td>Female</td>\n",
              "      <td>Married</td>\n",
              "      <td>5.0</td>\n",
              "      <td>Not applicable</td>\n",
              "    </tr>\n",
              "    <tr>\n",
              "      <th>...</th>\n",
              "      <td>...</td>\n",
              "      <td>...</td>\n",
              "      <td>...</td>\n",
              "      <td>...</td>\n",
              "      <td>...</td>\n",
              "      <td>...</td>\n",
              "      <td>...</td>\n",
              "      <td>...</td>\n",
              "      <td>...</td>\n",
              "      <td>...</td>\n",
              "      <td>...</td>\n",
              "      <td>...</td>\n",
              "    </tr>\n",
              "    <tr>\n",
              "      <th>64811</th>\n",
              "      <td>2018</td>\n",
              "      <td>Only some</td>\n",
              "      <td>Not applicable</td>\n",
              "      <td>Not applicable</td>\n",
              "      <td>Not applicable</td>\n",
              "      <td>$3000 to 3999</td>\n",
              "      <td>$25000 or more</td>\n",
              "      <td>White</td>\n",
              "      <td>Female</td>\n",
              "      <td>Married</td>\n",
              "      <td>2346.0</td>\n",
              "      <td>Ballot c</td>\n",
              "    </tr>\n",
              "    <tr>\n",
              "      <th>64812</th>\n",
              "      <td>2018</td>\n",
              "      <td>A great deal</td>\n",
              "      <td>Not applicable</td>\n",
              "      <td>About right</td>\n",
              "      <td>About right</td>\n",
              "      <td>Not applicable</td>\n",
              "      <td>$25000 or more</td>\n",
              "      <td>White</td>\n",
              "      <td>Male</td>\n",
              "      <td>Married</td>\n",
              "      <td>2347.0</td>\n",
              "      <td>Ballot b</td>\n",
              "    </tr>\n",
              "    <tr>\n",
              "      <th>64813</th>\n",
              "      <td>2018</td>\n",
              "      <td>Not applicable</td>\n",
              "      <td>Not applicable</td>\n",
              "      <td>Not applicable</td>\n",
              "      <td>Not applicable</td>\n",
              "      <td>Not applicable</td>\n",
              "      <td>Refused</td>\n",
              "      <td>White</td>\n",
              "      <td>Female</td>\n",
              "      <td>Widowed</td>\n",
              "      <td>2348.0</td>\n",
              "      <td>Ballot a</td>\n",
              "    </tr>\n",
              "    <tr>\n",
              "      <th>64814</th>\n",
              "      <td>NaN</td>\n",
              "      <td>NaN</td>\n",
              "      <td>NaN</td>\n",
              "      <td>NaN</td>\n",
              "      <td>NaN</td>\n",
              "      <td>NaN</td>\n",
              "      <td>NaN</td>\n",
              "      <td>NaN</td>\n",
              "      <td>NaN</td>\n",
              "      <td>NaN</td>\n",
              "      <td>NaN</td>\n",
              "      <td>NaN</td>\n",
              "    </tr>\n",
              "    <tr>\n",
              "      <th>64815</th>\n",
              "      <td>Source</td>\n",
              "      <td>Data collection: General Social Survey\\nCase S...</td>\n",
              "      <td>NaN</td>\n",
              "      <td>NaN</td>\n",
              "      <td>NaN</td>\n",
              "      <td>NaN</td>\n",
              "      <td>NaN</td>\n",
              "      <td>NaN</td>\n",
              "      <td>NaN</td>\n",
              "      <td>NaN</td>\n",
              "      <td>NaN</td>\n",
              "      <td>NaN</td>\n",
              "    </tr>\n",
              "  </tbody>\n",
              "</table>\n",
              "<p>64816 rows × 12 columns</p>\n",
              "</div>"
            ],
            "text/plain": [
              "      Gss year for this respondent                         ... Ballot used for interview\n",
              "0                                                   1972   ...            Not applicable\n",
              "1                                                   1972   ...            Not applicable\n",
              "2                                                   1972   ...            Not applicable\n",
              "3                                                   1972   ...            Not applicable\n",
              "4                                                   1972   ...            Not applicable\n",
              "...                                                  ...   ...                       ...\n",
              "64811                                               2018   ...                  Ballot c\n",
              "64812                                               2018   ...                  Ballot b\n",
              "64813                                               2018   ...                  Ballot a\n",
              "64814                                                NaN   ...                       NaN\n",
              "64815                                             Source   ...                       NaN\n",
              "\n",
              "[64816 rows x 12 columns]"
            ]
          },
          "metadata": {
            "tags": []
          },
          "execution_count": 14
        }
      ]
    },
    {
      "cell_type": "code",
      "metadata": {
        "id": "aHlVT7B-c4Iv"
      },
      "source": [
        "df = df.rename(columns = {\n",
        "    'Gss year for this respondent                       ': 'respondent_year',\n",
        "    'Confid. in united states supreme court' : 'confidence_in_supreme_court',\n",
        "    'City or place r lives in' : 'city_of_residence',\n",
        "    'Improving nations education system' : 'improving_national_reducation_system',\n",
        "    'Solving problems of big cities' : 'solving_big_city_problems',\n",
        "    'Respondents income' : 'respondents_income',\n",
        "    'Total family income' : 'total_family_income',\n",
        "    'Race of respondent' : 'respondents_race',\n",
        "    'Respondents sex' : 'respondents_sex',\n",
        "    \"Marital status\" : 'marital_status',\n",
        "    \"Respondent id number\": 'respondents_id_num' ,\n",
        "    \t\"Ballot used for interview\" : \"ballot_used\"\n",
        "})\n"
      ],
      "execution_count": 15,
      "outputs": []
    },
    {
      "cell_type": "markdown",
      "metadata": {
        "id": "HgjmUo3AH7Xz"
      },
      "source": [
        "### **Observing the Dataset Using Pandas**\n",
        "Now, the dataset is loaded as a dataframe `df`."
      ]
    },
    {
      "cell_type": "markdown",
      "metadata": {
        "id": "kKnjvrtBIBqx"
      },
      "source": [
        "####**head()**\n",
        "Let's check what columns this file has by calling `head()` function. It returns first n rows, and it's useful to see the dataset at a quick glance.\n",
        "\n",
        "By default, the head() function returns the first 5 rows.\n",
        "\n",
        "You can specify the number of rows to display by calling df.head(number)"
      ]
    },
    {
      "cell_type": "code",
      "metadata": {
        "id": "7G6i6H1efIdk",
        "outputId": "8421297c-a60c-4c0d-f445-e17d90f6ed89",
        "colab": {
          "base_uri": "https://localhost:8080/",
          "height": 309
        }
      },
      "source": [
        "'''\n",
        "# INSERT CODE HERE\n",
        "'''\n",
        "df.head()\n"
      ],
      "execution_count": 5,
      "outputs": [
        {
          "output_type": "execute_result",
          "data": {
            "text/html": [
              "<div>\n",
              "<style scoped>\n",
              "    .dataframe tbody tr th:only-of-type {\n",
              "        vertical-align: middle;\n",
              "    }\n",
              "\n",
              "    .dataframe tbody tr th {\n",
              "        vertical-align: top;\n",
              "    }\n",
              "\n",
              "    .dataframe thead th {\n",
              "        text-align: right;\n",
              "    }\n",
              "</style>\n",
              "<table border=\"1\" class=\"dataframe\">\n",
              "  <thead>\n",
              "    <tr style=\"text-align: right;\">\n",
              "      <th></th>\n",
              "      <th>respondent_year</th>\n",
              "      <th>confidence_in_supreme_court</th>\n",
              "      <th>city_of_residence</th>\n",
              "      <th>improving_national_reducation_system</th>\n",
              "      <th>solving_big_city_problems</th>\n",
              "      <th>respondents_income</th>\n",
              "      <th>total_family_income</th>\n",
              "      <th>respondents_race</th>\n",
              "      <th>respondents_sex</th>\n",
              "      <th>marital_status</th>\n",
              "      <th>respondents_id_num</th>\n",
              "      <th>ballot_used</th>\n",
              "    </tr>\n",
              "  </thead>\n",
              "  <tbody>\n",
              "    <tr>\n",
              "      <th>0</th>\n",
              "      <td>1972</td>\n",
              "      <td>Not applicable</td>\n",
              "      <td>Not applicable</td>\n",
              "      <td>Not applicable</td>\n",
              "      <td>Not applicable</td>\n",
              "      <td>Not applicable</td>\n",
              "      <td>Not applicable</td>\n",
              "      <td>White</td>\n",
              "      <td>Female</td>\n",
              "      <td>Never married</td>\n",
              "      <td>1.0</td>\n",
              "      <td>Not applicable</td>\n",
              "    </tr>\n",
              "    <tr>\n",
              "      <th>1</th>\n",
              "      <td>1972</td>\n",
              "      <td>Not applicable</td>\n",
              "      <td>Not applicable</td>\n",
              "      <td>Not applicable</td>\n",
              "      <td>Not applicable</td>\n",
              "      <td>Not applicable</td>\n",
              "      <td>Not applicable</td>\n",
              "      <td>White</td>\n",
              "      <td>Male</td>\n",
              "      <td>Married</td>\n",
              "      <td>2.0</td>\n",
              "      <td>Not applicable</td>\n",
              "    </tr>\n",
              "    <tr>\n",
              "      <th>2</th>\n",
              "      <td>1972</td>\n",
              "      <td>Not applicable</td>\n",
              "      <td>Not applicable</td>\n",
              "      <td>Not applicable</td>\n",
              "      <td>Not applicable</td>\n",
              "      <td>Not applicable</td>\n",
              "      <td>Not applicable</td>\n",
              "      <td>White</td>\n",
              "      <td>Female</td>\n",
              "      <td>Married</td>\n",
              "      <td>3.0</td>\n",
              "      <td>Not applicable</td>\n",
              "    </tr>\n",
              "    <tr>\n",
              "      <th>3</th>\n",
              "      <td>1972</td>\n",
              "      <td>Not applicable</td>\n",
              "      <td>Not applicable</td>\n",
              "      <td>Not applicable</td>\n",
              "      <td>Not applicable</td>\n",
              "      <td>Not applicable</td>\n",
              "      <td>Not applicable</td>\n",
              "      <td>White</td>\n",
              "      <td>Female</td>\n",
              "      <td>Married</td>\n",
              "      <td>4.0</td>\n",
              "      <td>Not applicable</td>\n",
              "    </tr>\n",
              "    <tr>\n",
              "      <th>4</th>\n",
              "      <td>1972</td>\n",
              "      <td>Not applicable</td>\n",
              "      <td>Not applicable</td>\n",
              "      <td>Not applicable</td>\n",
              "      <td>Not applicable</td>\n",
              "      <td>Not applicable</td>\n",
              "      <td>Not applicable</td>\n",
              "      <td>White</td>\n",
              "      <td>Female</td>\n",
              "      <td>Married</td>\n",
              "      <td>5.0</td>\n",
              "      <td>Not applicable</td>\n",
              "    </tr>\n",
              "  </tbody>\n",
              "</table>\n",
              "</div>"
            ],
            "text/plain": [
              "  respondent_year  ...     ballot_used\n",
              "0            1972  ...  Not applicable\n",
              "1            1972  ...  Not applicable\n",
              "2            1972  ...  Not applicable\n",
              "3            1972  ...  Not applicable\n",
              "4            1972  ...  Not applicable\n",
              "\n",
              "[5 rows x 12 columns]"
            ]
          },
          "metadata": {
            "tags": []
          },
          "execution_count": 5
        }
      ]
    },
    {
      "cell_type": "markdown",
      "metadata": {
        "id": "6mE5p-aaIVDm"
      },
      "source": [
        "####**tail()**\n",
        "The `tail()` method prints the last 5 rows of our dataset."
      ]
    },
    {
      "cell_type": "code",
      "metadata": {
        "id": "jjf8KASjfJY3",
        "outputId": "eb7e486e-408e-4fc8-8d6a-e536770ddb62",
        "colab": {
          "base_uri": "https://localhost:8080/",
          "height": 239
        }
      },
      "source": [
        "'''\n",
        "# INSERT CODE HERE\n",
        "'''\n",
        "df.tail()\n",
        "\n"
      ],
      "execution_count": 6,
      "outputs": [
        {
          "output_type": "execute_result",
          "data": {
            "text/html": [
              "<div>\n",
              "<style scoped>\n",
              "    .dataframe tbody tr th:only-of-type {\n",
              "        vertical-align: middle;\n",
              "    }\n",
              "\n",
              "    .dataframe tbody tr th {\n",
              "        vertical-align: top;\n",
              "    }\n",
              "\n",
              "    .dataframe thead th {\n",
              "        text-align: right;\n",
              "    }\n",
              "</style>\n",
              "<table border=\"1\" class=\"dataframe\">\n",
              "  <thead>\n",
              "    <tr style=\"text-align: right;\">\n",
              "      <th></th>\n",
              "      <th>respondent_year</th>\n",
              "      <th>confidence_in_supreme_court</th>\n",
              "      <th>city_of_residence</th>\n",
              "      <th>improving_national_reducation_system</th>\n",
              "      <th>solving_big_city_problems</th>\n",
              "      <th>respondents_income</th>\n",
              "      <th>total_family_income</th>\n",
              "      <th>respondents_race</th>\n",
              "      <th>respondents_sex</th>\n",
              "      <th>marital_status</th>\n",
              "      <th>respondents_id_num</th>\n",
              "      <th>ballot_used</th>\n",
              "    </tr>\n",
              "  </thead>\n",
              "  <tbody>\n",
              "    <tr>\n",
              "      <th>64811</th>\n",
              "      <td>2018</td>\n",
              "      <td>Only some</td>\n",
              "      <td>Not applicable</td>\n",
              "      <td>Not applicable</td>\n",
              "      <td>Not applicable</td>\n",
              "      <td>$3000 to 3999</td>\n",
              "      <td>$25000 or more</td>\n",
              "      <td>White</td>\n",
              "      <td>Female</td>\n",
              "      <td>Married</td>\n",
              "      <td>2346.0</td>\n",
              "      <td>Ballot c</td>\n",
              "    </tr>\n",
              "    <tr>\n",
              "      <th>64812</th>\n",
              "      <td>2018</td>\n",
              "      <td>A great deal</td>\n",
              "      <td>Not applicable</td>\n",
              "      <td>About right</td>\n",
              "      <td>About right</td>\n",
              "      <td>Not applicable</td>\n",
              "      <td>$25000 or more</td>\n",
              "      <td>White</td>\n",
              "      <td>Male</td>\n",
              "      <td>Married</td>\n",
              "      <td>2347.0</td>\n",
              "      <td>Ballot b</td>\n",
              "    </tr>\n",
              "    <tr>\n",
              "      <th>64813</th>\n",
              "      <td>2018</td>\n",
              "      <td>Not applicable</td>\n",
              "      <td>Not applicable</td>\n",
              "      <td>Not applicable</td>\n",
              "      <td>Not applicable</td>\n",
              "      <td>Not applicable</td>\n",
              "      <td>Refused</td>\n",
              "      <td>White</td>\n",
              "      <td>Female</td>\n",
              "      <td>Widowed</td>\n",
              "      <td>2348.0</td>\n",
              "      <td>Ballot a</td>\n",
              "    </tr>\n",
              "    <tr>\n",
              "      <th>64814</th>\n",
              "      <td>NaN</td>\n",
              "      <td>NaN</td>\n",
              "      <td>NaN</td>\n",
              "      <td>NaN</td>\n",
              "      <td>NaN</td>\n",
              "      <td>NaN</td>\n",
              "      <td>NaN</td>\n",
              "      <td>NaN</td>\n",
              "      <td>NaN</td>\n",
              "      <td>NaN</td>\n",
              "      <td>NaN</td>\n",
              "      <td>NaN</td>\n",
              "    </tr>\n",
              "    <tr>\n",
              "      <th>64815</th>\n",
              "      <td>Source</td>\n",
              "      <td>Data collection: General Social Survey\\nCase S...</td>\n",
              "      <td>NaN</td>\n",
              "      <td>NaN</td>\n",
              "      <td>NaN</td>\n",
              "      <td>NaN</td>\n",
              "      <td>NaN</td>\n",
              "      <td>NaN</td>\n",
              "      <td>NaN</td>\n",
              "      <td>NaN</td>\n",
              "      <td>NaN</td>\n",
              "      <td>NaN</td>\n",
              "    </tr>\n",
              "  </tbody>\n",
              "</table>\n",
              "</div>"
            ],
            "text/plain": [
              "      respondent_year  ... ballot_used\n",
              "64811            2018  ...    Ballot c\n",
              "64812            2018  ...    Ballot b\n",
              "64813            2018  ...    Ballot a\n",
              "64814             NaN  ...         NaN\n",
              "64815          Source  ...         NaN\n",
              "\n",
              "[5 rows x 12 columns]"
            ]
          },
          "metadata": {
            "tags": []
          },
          "execution_count": 6
        }
      ]
    },
    {
      "cell_type": "markdown",
      "metadata": {
        "id": "Cc9xu4stIecZ"
      },
      "source": [
        "####**info()**\n",
        "This will return all of the column  names and its types. This function is useful to get the idea of what the dataframe is like."
      ]
    },
    {
      "cell_type": "code",
      "metadata": {
        "id": "XkeNDCRrfN6e",
        "colab": {
          "base_uri": "https://localhost:8080/"
        },
        "outputId": "0585a76b-0492-4b83-b14a-59cc12e98b71"
      },
      "source": [
        "'''\n",
        "# INSERT CODE HERE\n",
        "'''\n",
        "df.info()"
      ],
      "execution_count": 7,
      "outputs": [
        {
          "output_type": "stream",
          "text": [
            "<class 'pandas.core.frame.DataFrame'>\n",
            "RangeIndex: 64816 entries, 0 to 64815\n",
            "Data columns (total 12 columns):\n",
            " #   Column                                Non-Null Count  Dtype  \n",
            "---  ------                                --------------  -----  \n",
            " 0   respondent_year                       64815 non-null  object \n",
            " 1   confidence_in_supreme_court           64815 non-null  object \n",
            " 2   city_of_residence                     64814 non-null  object \n",
            " 3   improving_national_reducation_system  64814 non-null  object \n",
            " 4   solving_big_city_problems             64814 non-null  object \n",
            " 5   respondents_income                    64814 non-null  object \n",
            " 6   total_family_income                   64814 non-null  object \n",
            " 7   respondents_race                      64814 non-null  object \n",
            " 8   respondents_sex                       64814 non-null  object \n",
            " 9   marital_status                        64814 non-null  object \n",
            " 10  respondents_id_num                    64814 non-null  float64\n",
            " 11  ballot_used                           64814 non-null  object \n",
            "dtypes: float64(1), object(11)\n",
            "memory usage: 5.9+ MB\n"
          ],
          "name": "stdout"
        }
      ]
    },
    {
      "cell_type": "markdown",
      "metadata": {
        "id": "-bwydbMjJIaO"
      },
      "source": [
        "###**Observations**\n",
        "*****Questions:*****\n",
        "- List down the number of unique `Dtype` in this dataset\n",
        "- Is the datset uneven? If so list downthe column with the most missing rows?"
      ]
    },
    {
      "cell_type": "markdown",
      "metadata": {
        "id": "PqSFXfcWfL77"
      },
      "source": [
        "####**describe()**\n",
        "`describe()` is used to view summary statistics of numeric columns. this will help you to have a general idea of the dataset."
      ]
    },
    {
      "cell_type": "code",
      "metadata": {
        "id": "6-qpKmadfMPN",
        "colab": {
          "base_uri": "https://localhost:8080/",
          "height": 294
        },
        "outputId": "56ac9bf8-c9c8-41a1-a4ea-72e8689b1c7c"
      },
      "source": [
        "'''\n",
        "# INSERT CODE HERE\n",
        "'''\n",
        "df.describe()\n",
        "\n"
      ],
      "execution_count": 8,
      "outputs": [
        {
          "output_type": "execute_result",
          "data": {
            "text/html": [
              "<div>\n",
              "<style scoped>\n",
              "    .dataframe tbody tr th:only-of-type {\n",
              "        vertical-align: middle;\n",
              "    }\n",
              "\n",
              "    .dataframe tbody tr th {\n",
              "        vertical-align: top;\n",
              "    }\n",
              "\n",
              "    .dataframe thead th {\n",
              "        text-align: right;\n",
              "    }\n",
              "</style>\n",
              "<table border=\"1\" class=\"dataframe\">\n",
              "  <thead>\n",
              "    <tr style=\"text-align: right;\">\n",
              "      <th></th>\n",
              "      <th>respondents_id_num</th>\n",
              "    </tr>\n",
              "  </thead>\n",
              "  <tbody>\n",
              "    <tr>\n",
              "      <th>count</th>\n",
              "      <td>64814.000000</td>\n",
              "    </tr>\n",
              "    <tr>\n",
              "      <th>mean</th>\n",
              "      <td>1151.810211</td>\n",
              "    </tr>\n",
              "    <tr>\n",
              "      <th>std</th>\n",
              "      <td>828.030233</td>\n",
              "    </tr>\n",
              "    <tr>\n",
              "      <th>min</th>\n",
              "      <td>1.000000</td>\n",
              "    </tr>\n",
              "    <tr>\n",
              "      <th>25%</th>\n",
              "      <td>507.000000</td>\n",
              "    </tr>\n",
              "    <tr>\n",
              "      <th>50%</th>\n",
              "      <td>1029.500000</td>\n",
              "    </tr>\n",
              "    <tr>\n",
              "      <th>75%</th>\n",
              "      <td>1570.000000</td>\n",
              "    </tr>\n",
              "    <tr>\n",
              "      <th>max</th>\n",
              "      <td>4510.000000</td>\n",
              "    </tr>\n",
              "  </tbody>\n",
              "</table>\n",
              "</div>"
            ],
            "text/plain": [
              "       respondents_id_num\n",
              "count        64814.000000\n",
              "mean          1151.810211\n",
              "std            828.030233\n",
              "min              1.000000\n",
              "25%            507.000000\n",
              "50%           1029.500000\n",
              "75%           1570.000000\n",
              "max           4510.000000"
            ]
          },
          "metadata": {
            "tags": []
          },
          "execution_count": 8
        }
      ]
    },
    {
      "cell_type": "markdown",
      "metadata": {
        "id": "v5RqEWzZKC_M"
      },
      "source": [
        "####**shape**\n",
        "To see the size of the dataset, we can use the `shape` function, which returns the number of rows and columns in a format of (#rows, #columns)"
      ]
    },
    {
      "cell_type": "code",
      "metadata": {
        "id": "2Nv-Edc7KMiO",
        "outputId": "4a4a1d54-9882-4755-891a-c30bc4ed7d80",
        "colab": {
          "base_uri": "https://localhost:8080/"
        }
      },
      "source": [
        "'''\n",
        "INSERT CODE HERE\n",
        "'''\n",
        "df.shape"
      ],
      "execution_count": 9,
      "outputs": [
        {
          "output_type": "execute_result",
          "data": {
            "text/plain": [
              "(64816, 12)"
            ]
          },
          "metadata": {
            "tags": []
          },
          "execution_count": 9
        }
      ]
    },
    {
      "cell_type": "markdown",
      "metadata": {
        "id": "z_6FGAbaRP00"
      },
      "source": [
        "#Q2 Basic Data Manipulation"
      ]
    },
    {
      "cell_type": "markdown",
      "metadata": {
        "id": "iyxTvY8ugKmy"
      },
      "source": [
        "## Drop `NaN` or `null` values\n",
        "The `dropna()` method is designed to drop every value in our dataframe whose cell might have a null or undefined value. They are usually shown as `NaN`. \n",
        "Use this method to remove all null values."
      ]
    },
    {
      "cell_type": "code",
      "metadata": {
        "id": "HZ-e4ma0gKFC"
      },
      "source": [
        "'''\n",
        "# INSERT CODE HERE\n",
        "'''\n",
        "df = df.dropna()"
      ],
      "execution_count": 16,
      "outputs": []
    },
    {
      "cell_type": "markdown",
      "metadata": {
        "id": "xmxOdFQ4N3ky"
      },
      "source": [
        "In this dataset, we only want to consider certain relevant data. We can disregard data that we don't need for today.\n",
        "\n",
        "Using the `drop()` method, remove these columns:\n",
        "```\n",
        "- Gss year for this respondent\n",
        "- Improving nations education system\t\n",
        "- Solving problems of big cities\n",
        "```"
      ]
    },
    {
      "cell_type": "code",
      "metadata": {
        "id": "1Q4MjsovOVEC",
        "outputId": "cb5a148d-b1bb-430f-d4f8-7735a404ee12",
        "colab": {
          "base_uri": "https://localhost:8080/",
          "height": 522
        }
      },
      "source": [
        "'''\n",
        "# INSERT CODE HERE\n",
        "'''\n",
        "df = df.drop(columns=['respondent_year','improving_national_reducation_system','solving_big_city_problems'])\n",
        "df"
      ],
      "execution_count": 17,
      "outputs": [
        {
          "output_type": "execute_result",
          "data": {
            "text/html": [
              "<div>\n",
              "<style scoped>\n",
              "    .dataframe tbody tr th:only-of-type {\n",
              "        vertical-align: middle;\n",
              "    }\n",
              "\n",
              "    .dataframe tbody tr th {\n",
              "        vertical-align: top;\n",
              "    }\n",
              "\n",
              "    .dataframe thead th {\n",
              "        text-align: right;\n",
              "    }\n",
              "</style>\n",
              "<table border=\"1\" class=\"dataframe\">\n",
              "  <thead>\n",
              "    <tr style=\"text-align: right;\">\n",
              "      <th></th>\n",
              "      <th>confidence_in_supreme_court</th>\n",
              "      <th>city_of_residence</th>\n",
              "      <th>respondents_income</th>\n",
              "      <th>total_family_income</th>\n",
              "      <th>respondents_race</th>\n",
              "      <th>respondents_sex</th>\n",
              "      <th>marital_status</th>\n",
              "      <th>respondents_id_num</th>\n",
              "      <th>ballot_used</th>\n",
              "    </tr>\n",
              "  </thead>\n",
              "  <tbody>\n",
              "    <tr>\n",
              "      <th>0</th>\n",
              "      <td>Not applicable</td>\n",
              "      <td>Not applicable</td>\n",
              "      <td>Not applicable</td>\n",
              "      <td>Not applicable</td>\n",
              "      <td>White</td>\n",
              "      <td>Female</td>\n",
              "      <td>Never married</td>\n",
              "      <td>1.0</td>\n",
              "      <td>Not applicable</td>\n",
              "    </tr>\n",
              "    <tr>\n",
              "      <th>1</th>\n",
              "      <td>Not applicable</td>\n",
              "      <td>Not applicable</td>\n",
              "      <td>Not applicable</td>\n",
              "      <td>Not applicable</td>\n",
              "      <td>White</td>\n",
              "      <td>Male</td>\n",
              "      <td>Married</td>\n",
              "      <td>2.0</td>\n",
              "      <td>Not applicable</td>\n",
              "    </tr>\n",
              "    <tr>\n",
              "      <th>2</th>\n",
              "      <td>Not applicable</td>\n",
              "      <td>Not applicable</td>\n",
              "      <td>Not applicable</td>\n",
              "      <td>Not applicable</td>\n",
              "      <td>White</td>\n",
              "      <td>Female</td>\n",
              "      <td>Married</td>\n",
              "      <td>3.0</td>\n",
              "      <td>Not applicable</td>\n",
              "    </tr>\n",
              "    <tr>\n",
              "      <th>3</th>\n",
              "      <td>Not applicable</td>\n",
              "      <td>Not applicable</td>\n",
              "      <td>Not applicable</td>\n",
              "      <td>Not applicable</td>\n",
              "      <td>White</td>\n",
              "      <td>Female</td>\n",
              "      <td>Married</td>\n",
              "      <td>4.0</td>\n",
              "      <td>Not applicable</td>\n",
              "    </tr>\n",
              "    <tr>\n",
              "      <th>4</th>\n",
              "      <td>Not applicable</td>\n",
              "      <td>Not applicable</td>\n",
              "      <td>Not applicable</td>\n",
              "      <td>Not applicable</td>\n",
              "      <td>White</td>\n",
              "      <td>Female</td>\n",
              "      <td>Married</td>\n",
              "      <td>5.0</td>\n",
              "      <td>Not applicable</td>\n",
              "    </tr>\n",
              "    <tr>\n",
              "      <th>...</th>\n",
              "      <td>...</td>\n",
              "      <td>...</td>\n",
              "      <td>...</td>\n",
              "      <td>...</td>\n",
              "      <td>...</td>\n",
              "      <td>...</td>\n",
              "      <td>...</td>\n",
              "      <td>...</td>\n",
              "      <td>...</td>\n",
              "    </tr>\n",
              "    <tr>\n",
              "      <th>64809</th>\n",
              "      <td>Not applicable</td>\n",
              "      <td>Not applicable</td>\n",
              "      <td>Refused</td>\n",
              "      <td>Refused</td>\n",
              "      <td>White</td>\n",
              "      <td>Female</td>\n",
              "      <td>Divorced</td>\n",
              "      <td>2344.0</td>\n",
              "      <td>Ballot a</td>\n",
              "    </tr>\n",
              "    <tr>\n",
              "      <th>64810</th>\n",
              "      <td>Not applicable</td>\n",
              "      <td>Not applicable</td>\n",
              "      <td>$15000 - 19999</td>\n",
              "      <td>$25000 or more</td>\n",
              "      <td>White</td>\n",
              "      <td>Female</td>\n",
              "      <td>Married</td>\n",
              "      <td>2345.0</td>\n",
              "      <td>Ballot a</td>\n",
              "    </tr>\n",
              "    <tr>\n",
              "      <th>64811</th>\n",
              "      <td>Only some</td>\n",
              "      <td>Not applicable</td>\n",
              "      <td>$3000 to 3999</td>\n",
              "      <td>$25000 or more</td>\n",
              "      <td>White</td>\n",
              "      <td>Female</td>\n",
              "      <td>Married</td>\n",
              "      <td>2346.0</td>\n",
              "      <td>Ballot c</td>\n",
              "    </tr>\n",
              "    <tr>\n",
              "      <th>64812</th>\n",
              "      <td>A great deal</td>\n",
              "      <td>Not applicable</td>\n",
              "      <td>Not applicable</td>\n",
              "      <td>$25000 or more</td>\n",
              "      <td>White</td>\n",
              "      <td>Male</td>\n",
              "      <td>Married</td>\n",
              "      <td>2347.0</td>\n",
              "      <td>Ballot b</td>\n",
              "    </tr>\n",
              "    <tr>\n",
              "      <th>64813</th>\n",
              "      <td>Not applicable</td>\n",
              "      <td>Not applicable</td>\n",
              "      <td>Not applicable</td>\n",
              "      <td>Refused</td>\n",
              "      <td>White</td>\n",
              "      <td>Female</td>\n",
              "      <td>Widowed</td>\n",
              "      <td>2348.0</td>\n",
              "      <td>Ballot a</td>\n",
              "    </tr>\n",
              "  </tbody>\n",
              "</table>\n",
              "<p>64814 rows × 9 columns</p>\n",
              "</div>"
            ],
            "text/plain": [
              "      confidence_in_supreme_court  ...     ballot_used\n",
              "0                  Not applicable  ...  Not applicable\n",
              "1                  Not applicable  ...  Not applicable\n",
              "2                  Not applicable  ...  Not applicable\n",
              "3                  Not applicable  ...  Not applicable\n",
              "4                  Not applicable  ...  Not applicable\n",
              "...                           ...  ...             ...\n",
              "64809              Not applicable  ...        Ballot a\n",
              "64810              Not applicable  ...        Ballot a\n",
              "64811                   Only some  ...        Ballot c\n",
              "64812                A great deal  ...        Ballot b\n",
              "64813              Not applicable  ...        Ballot a\n",
              "\n",
              "[64814 rows x 9 columns]"
            ]
          },
          "metadata": {
            "tags": []
          },
          "execution_count": 17
        }
      ]
    },
    {
      "cell_type": "markdown",
      "metadata": {
        "id": "KlXX2uAffj-q"
      },
      "source": [
        "## Checking Columns\n",
        "Let's check the columns that we have. We can use the built-in attribute `.columns` to view the names of the columns in our dataframe."
      ]
    },
    {
      "cell_type": "code",
      "metadata": {
        "id": "eCIM5aS7diJi",
        "colab": {
          "base_uri": "https://localhost:8080/"
        },
        "outputId": "35446999-340d-4d07-a788-75ed225e7552"
      },
      "source": [
        "'''\n",
        "# INSERT CODE HERE\n",
        "'''\n",
        "df.columns.values"
      ],
      "execution_count": 18,
      "outputs": [
        {
          "output_type": "execute_result",
          "data": {
            "text/plain": [
              "array(['confidence_in_supreme_court', 'city_of_residence',\n",
              "       'respondents_income', 'total_family_income', 'respondents_race',\n",
              "       'respondents_sex', 'marital_status', 'respondents_id_num',\n",
              "       'ballot_used'], dtype=object)"
            ]
          },
          "metadata": {
            "tags": []
          },
          "execution_count": 18
        }
      ]
    },
    {
      "cell_type": "markdown",
      "metadata": {
        "id": "RiHlE98fflof"
      },
      "source": [
        "## Checking unique values for every column\n",
        "There are various different values for each column. We can check the unique values for each column with the built-in method of `unique()`. We can get the number of unique values in a column by calling `nunique()`. \n",
        "\n",
        "Print out the unique values and number of unique values for the following attributes:\n",
        "- Confidence in Supreme Court\n",
        "- Marital Status\n",
        "- Respondents' Race\n",
        "- Respondents' Sex\n",
        "- Respondents' Income\n",
        "- Ballot Used"
      ]
    },
    {
      "cell_type": "code",
      "metadata": {
        "id": "l_lIdAd7djNv",
        "colab": {
          "base_uri": "https://localhost:8080/"
        },
        "outputId": "c4652fdc-20fb-4471-9a39-3a8dcd515f43"
      },
      "source": [
        "'''\n",
        "# Unique values list\n",
        "print(df.___________________)  # INSERT CODE HERE\n",
        "# Number of unique\n",
        "print(df.___________________)  # INSERT CODE HERE\n",
        "'''\n",
        "print(df.confidence_in_supreme_court.unique())\n",
        "print(df.confidence_in_supreme_court.nunique())"
      ],
      "execution_count": 19,
      "outputs": [
        {
          "output_type": "stream",
          "text": [
            "['Not applicable' 'A great deal' 'Only some' 'Hardly any' \"Don't know\"\n",
            " 'No answer']\n",
            "6\n"
          ],
          "name": "stdout"
        }
      ]
    },
    {
      "cell_type": "code",
      "metadata": {
        "id": "71tOJ-KbeR3r",
        "colab": {
          "base_uri": "https://localhost:8080/"
        },
        "outputId": "e5048f43-6679-473e-b1cd-453bc2a69f56"
      },
      "source": [
        "'''\n",
        "# Unique values list\n",
        "print(df.___________________)  # INSERT CODE HERE\n",
        "# Number of unique\n",
        "print(df.___________________)  # INSERT CODE HERE\n",
        "'''\n",
        "print(df.marital_status.unique())\n",
        "print(df.marital_status.nunique())"
      ],
      "execution_count": 20,
      "outputs": [
        {
          "output_type": "stream",
          "text": [
            "['Never married' 'Married' 'Divorced' 'Widowed' 'Separated' 'No answer']\n",
            "6\n"
          ],
          "name": "stdout"
        }
      ]
    },
    {
      "cell_type": "code",
      "metadata": {
        "id": "86qkOl7EeUCK",
        "colab": {
          "base_uri": "https://localhost:8080/"
        },
        "outputId": "5f773261-6fa1-406d-d5b6-b468311bd9ac"
      },
      "source": [
        "'''\n",
        "# Unique values list\n",
        "print(df.___________________)  # INSERT CODE HERE\n",
        "# Number of unique\n",
        "print(df.___________________)  # INSERT CODE HERE\n",
        "'''\n",
        "print(df.respondents_race.unique())\n",
        "print(df.respondents_race.nunique())"
      ],
      "execution_count": 21,
      "outputs": [
        {
          "output_type": "stream",
          "text": [
            "['White' 'Black' 'Other']\n",
            "3\n"
          ],
          "name": "stdout"
        }
      ]
    },
    {
      "cell_type": "code",
      "metadata": {
        "id": "d5B2eaE5e1ab",
        "colab": {
          "base_uri": "https://localhost:8080/"
        },
        "outputId": "084978ac-a53d-4265-b8ae-256e47b98379"
      },
      "source": [
        "'''\n",
        "# Unique values list\n",
        "print(df.___________________)  # INSERT CODE HERE\n",
        "# Number of unique\n",
        "print(df.___________________)  # INSERT CODE HERE\n",
        "'''\n",
        "print(df.respondents_sex.unique())\n",
        "print(df.respondents_sex.nunique())"
      ],
      "execution_count": 22,
      "outputs": [
        {
          "output_type": "stream",
          "text": [
            "['Female' 'Male']\n",
            "2\n"
          ],
          "name": "stdout"
        }
      ]
    },
    {
      "cell_type": "code",
      "metadata": {
        "id": "hoJpohhQe5XH",
        "colab": {
          "base_uri": "https://localhost:8080/"
        },
        "outputId": "573d5c9f-6b03-4bfd-ac02-9798ec0a0cc4"
      },
      "source": [
        "'''\n",
        "# Unique values list\n",
        "print(df.___________________)  # INSERT CODE HERE\n",
        "# Number of unique\n",
        "print(df.___________________)  # INSERT CODE HERE\n",
        "'''\n",
        "print(df.respondents_income.unique())\n",
        "print(df.respondents_income.nunique())"
      ],
      "execution_count": 23,
      "outputs": [
        {
          "output_type": "stream",
          "text": [
            "['Not applicable' '$1000 to 2999' '$15000 - 19999' '$7000 to 7999'\n",
            " '$8000 to 9999' '$20000 - 24999' '$4000 to 4999' \"Don't know\"\n",
            " '$10000 - 14999' '$25000 or more' '$3000 to 3999' 'Lt $1000'\n",
            " '$5000 to 5999' '$6000 to 6999' 'Refused' 'No answer']\n",
            "16\n"
          ],
          "name": "stdout"
        }
      ]
    },
    {
      "cell_type": "code",
      "metadata": {
        "id": "ZkoVexvve8UF",
        "colab": {
          "base_uri": "https://localhost:8080/"
        },
        "outputId": "5d650696-9482-4fc4-89c6-f8a112c83d28"
      },
      "source": [
        "'''\n",
        "# Unique values list\n",
        "print(df.___________________)  # INSERT CODE HERE\n",
        "# Number of unique\n",
        "print(df.___________________)  # INSERT CODE HERE\n",
        "'''\n",
        "print(df.ballot_used.unique())\n",
        "print(df.ballot_used.nunique())"
      ],
      "execution_count": 24,
      "outputs": [
        {
          "output_type": "stream",
          "text": [
            "['Not applicable' 'Ballot b' 'Ballot c' 'Ballot a' 'Ballot d']\n",
            "5\n"
          ],
          "name": "stdout"
        }
      ]
    },
    {
      "cell_type": "markdown",
      "metadata": {
        "id": "V5LAnx98L8Ls"
      },
      "source": [
        "*****Questions:*****\n",
        "- What were the values for confidence levels in supreme court? Is this a good scale to measure by?\n",
        "- What are the ranges of income that were surveyed?\n",
        "- How many different types of ballot were cast?"
      ]
    },
    {
      "cell_type": "markdown",
      "metadata": {
        "id": "xG7k61TNRix_"
      },
      "source": [
        "## Organizing Values\n",
        "We notice that there are multiple non-numeric answers for Respondents' income.\n",
        "Let's combine the non-numeric answers into a single value for `NA`.\n",
        "HINT: this includes `Refused`, `Not applicable`, and `No answer`."
      ]
    },
    {
      "cell_type": "code",
      "metadata": {
        "id": "ouPn6FggR3zy"
      },
      "source": [
        "'''\n",
        "INSERT CODE HERE\n",
        "'''"
      ],
      "execution_count": null,
      "outputs": []
    },
    {
      "cell_type": "markdown",
      "metadata": {
        "id": "Ajaux19TShEH"
      },
      "source": [
        "Notice that we have a column for respondent ID number. We also have an index for the entire dataset. Use the pandas built-in features to  replace the respondent ID number column as the table index."
      ]
    },
    {
      "cell_type": "code",
      "metadata": {
        "id": "ms9zHwxuSy7e"
      },
      "source": [
        "'''\n",
        "INSERT CODE HERE\n",
        "'''"
      ],
      "execution_count": null,
      "outputs": []
    },
    {
      "cell_type": "markdown",
      "metadata": {
        "id": "sNyp00jUgglT"
      },
      "source": [
        "#Q3 Basic Plots\n",
        "Recall that we learned about tools to plot data. Lets review some of this now.\n"
      ]
    },
    {
      "cell_type": "markdown",
      "metadata": {
        "id": "q6wcREwCXh9J"
      },
      "source": [
        "kind : `str`\n",
        "\n",
        "        ‘line’ : line plot (default)\n",
        "        ‘bar’ : vertical bar plot\n",
        "        ‘barh’ : horizontal bar plot\n",
        "        ‘hist’ : histogram\n",
        "        ‘box’ : boxplot\n",
        "        ‘kde’ : Kernel Density Estimation plot\n",
        "        ‘density’ : same as ‘kde’\n",
        "        ‘area’ : area plot\n",
        "        ‘pie’ : pie plot\n",
        "        ‘scatter’ : scatter plot\n",
        "        ‘hexbin’ : hexbin plot\n",
        "\n"
      ]
    },
    {
      "cell_type": "markdown",
      "metadata": {
        "id": "agv8J_OoMvvJ"
      },
      "source": [
        "####Plotting Ballot Types\n",
        "Let's take a look at the various ballots that were cast.\n",
        "Use `matplotlib` 's `hist()` feature to plot a histogram for the ballots used in this dataset."
      ]
    },
    {
      "cell_type": "code",
      "metadata": {
        "id": "b-GhOJYzheSr",
        "colab": {
          "base_uri": "https://localhost:8080/",
          "height": 334
        },
        "outputId": "681065ce-c12c-468e-e727-b3ca8f9a2e58"
      },
      "source": [
        "'''\n",
        "INSERT CODE HERE\n",
        "'''\n",
        "plt.hist(df.ballot_used)"
      ],
      "execution_count": null,
      "outputs": [
        {
          "output_type": "execute_result",
          "data": {
            "text/plain": [
              "(array([21875.,     0., 13917.,     0.,     0., 13798.,     0., 13706.,\n",
              "            0.,  1518.]),\n",
              " array([0. , 0.4, 0.8, 1.2, 1.6, 2. , 2.4, 2.8, 3.2, 3.6, 4. ]),\n",
              " <a list of 10 Patch objects>)"
            ]
          },
          "metadata": {
            "tags": []
          },
          "execution_count": 112
        },
        {
          "output_type": "display_data",
          "data": {
            "image/png": "[encoded data removed]",
            "text/plain": [
              "<Figure size 432x288 with 1 Axes>"
            ]
          },
          "metadata": {
            "tags": [],
            "needs_background": "light"
          }
        }
      ]
    },
    {
      "cell_type": "markdown",
      "metadata": {
        "id": "v5by8WrLNCJ4"
      },
      "source": [
        "*****Questions:*****\n",
        "- What conclusions can you form from this data?"
      ]
    },
    {
      "cell_type": "markdown",
      "metadata": {
        "id": "qTS0JmjDNVrT"
      },
      "source": [
        "### Plotting Income Brackets\n",
        "This dataset features statistics about people from various income brackets.\n",
        "Use the plot of your choice to graphically represent the various income groups of respondents."
      ]
    },
    {
      "cell_type": "code",
      "metadata": {
        "id": "YEZ9E9_Kimiv",
        "colab": {
          "base_uri": "https://localhost:8080/",
          "height": 35
        },
        "outputId": "abc5511f-3d97-4479-c68e-ca0c2e968421"
      },
      "source": [
        "''' \n",
        "INSERT CODE HERE\n",
        "'''"
      ],
      "execution_count": null,
      "outputs": [
        {
          "output_type": "execute_result",
          "data": {
            "application/vnd.google.colaboratory.intrinsic+json": {
              "type": "string"
            },
            "text/plain": [
              "' \\nINSERT CODE HERE\\n'"
            ]
          },
          "metadata": {
            "tags": []
          },
          "execution_count": 9
        }
      ]
    },
    {
      "cell_type": "markdown",
      "metadata": {
        "id": "twfHfQdfNI5h"
      },
      "source": [
        "*****Questions:*****\n",
        "- What conclusions can you form from this data?"
      ]
    },
    {
      "cell_type": "markdown",
      "metadata": {
        "id": "PpXcK8iUU391"
      },
      "source": [
        "### Plotting Respondent vs. Family incomes\n",
        "Use a plot of your choice to represent the relationship between respondent income and their family income."
      ]
    },
    {
      "cell_type": "code",
      "metadata": {
        "id": "QfqyvLeFVG2N"
      },
      "source": [
        "'''\n",
        "INSERT CODE HERE\n",
        "'''"
      ],
      "execution_count": null,
      "outputs": []
    },
    {
      "cell_type": "markdown",
      "metadata": {
        "id": "JI_HUzICVIzr"
      },
      "source": [
        "*****Questions:*****\n",
        "- What conclusions can you form from this data?"
      ]
    },
    {
      "cell_type": "markdown",
      "metadata": {
        "id": "o4xKRzPtVd-J"
      },
      "source": [
        "### Plotting Proportions for each Feature\n",
        "For each of the following columns:\n",
        "- Confidence in Supreme Court\n",
        "- Marital Status\n",
        "- Respondents' Race\n",
        "- Respondents' Sex\n",
        "- Ballot Used\n",
        "\n",
        "plot a `pie` chart to illustrate a broader picture of the demographics."
      ]
    },
    {
      "cell_type": "code",
      "metadata": {
        "id": "4tqPEC7xVy1g"
      },
      "source": [
        "'''\n",
        "INSERT CODE HERE\n",
        "'''"
      ],
      "execution_count": null,
      "outputs": []
    },
    {
      "cell_type": "markdown",
      "metadata": {
        "id": "wp7J97GkV3re"
      },
      "source": [
        "*****Questions:*****\n",
        "- What conclusions can you form from this data?"
      ]
    },
    {
      "cell_type": "markdown",
      "metadata": {
        "id": "ABxnEMRXOkPR"
      },
      "source": [
        "### Plotting Marital Status\n",
        "Plot marital status with income and marital status with confidence in supreme court using your plot of choice."
      ]
    },
    {
      "cell_type": "code",
      "metadata": {
        "id": "pu9VE59IMlVR"
      },
      "source": [
        "'''\n",
        "INSERT CODE HERE\n",
        "'''"
      ],
      "execution_count": null,
      "outputs": []
    },
    {
      "cell_type": "markdown",
      "metadata": {
        "id": "_tb2MZ0VOzUI"
      },
      "source": [
        "*****Questions:*****\n",
        "- What conclusions can you form from this data?\n",
        "- What does this suggest about respondents' marital status and their income for this particular dataset?\n",
        "- What does this suggest about respondents' marital status and their confidence with the supreme court for this particular dataset?"
      ]
    },
    {
      "cell_type": "markdown",
      "metadata": {
        "id": "Yc1ZEW8XUCs3"
      },
      "source": [
        "### Plotting Respondent Income\n",
        "Plot respondent income vs confidence in supreme court, as well as respondent income vs ballot used using your plot of choice."
      ]
    },
    {
      "cell_type": "code",
      "metadata": {
        "id": "Wy_nTmWoUeLz"
      },
      "source": [
        "'''\n",
        "INSERT CODE HERE\n",
        "'''"
      ],
      "execution_count": null,
      "outputs": []
    },
    {
      "cell_type": "markdown",
      "metadata": {
        "id": "fXL-uz7eUf9n"
      },
      "source": [
        "*****Questions:*****\n",
        "- What conclusions can you form from this data?\n",
        "- What does this suggest about respondents' income and their confidence in the supreme court for this particular dataset?\n",
        "- What does this suggest about respondents'income and what ballot they used for this particular dataset?"
      ]
    },
    {
      "cell_type": "markdown",
      "metadata": {
        "id": "fJUhhASWQGT2"
      },
      "source": [
        "#Submission\n",
        "Run this code block to download your answers."
      ]
    },
    {
      "cell_type": "code",
      "metadata": {
        "id": "_H_ntnpZQ6_H"
      },
      "source": [
        "from google.colab import files\n",
        "!zip -r \"{student_id}.zip\" \"{student_id}\"\n",
        "files.download(f\"{student_id}.zip\")"
      ],
      "execution_count": null,
      "outputs": []
    }
  ]
}