{
  "nbformat": 4,
  "nbformat_minor": 0,
  "metadata": {
    "colab": {
      "name": "Week2-Working-with-data-using-Pandas.ipynb",
      "provenance": [],
      "authorship_tag": "ABX9TyOeBWQ9iSCK5DG8Wzpi6aKs",
      "include_colab_link": true
    },
    "kernelspec": {
      "name": "python3",
      "display_name": "Python 3"
    }
  },
  "cells": [
    {
      "cell_type": "markdown",
      "metadata": {
        "id": "view-in-github",
        "colab_type": "text"
      },
      "source": [
        "<a href=\"https://colab.research.google.com/github/bitprj/BitU-3WBootCamp/blob/main/Week2_Working_with_data_using_Pandas.ipynb\" target=\"_parent\"><img src=\"https://colab.research.google.com/assets/colab-badge.svg\" alt=\"Open In Colab\"/></a>"
      ]
    },
    {
      "cell_type": "markdown",
      "metadata": {
        "id": "YTy9GH5X0Gm-"
      },
      "source": [
        "# <div align=\"center\">Working with data using Pandas</div>"
      ]
    },
    {
      "cell_type": "code",
      "metadata": {
        "id": "Hvuz-DQmz9_z"
      },
      "source": [
        ""
      ],
      "execution_count": null,
      "outputs": []
    }
  ]
}